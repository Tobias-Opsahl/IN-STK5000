{
 "cells": [
  {
   "cell_type": "markdown",
   "metadata": {},
   "source": [
    "# Exercise 2\n",
    "\n",
    "## Data exploration\n",
    "\n",
    "Before we dive into fitting a model for prediction in exercise 2, let us explore the data a bit. \n",
    "\n",
    "We formalize the problem as follows: We want to use the explanatory variables; genes, age, income, comorbodities, treatment and symptoms before treatment, to predict the response; symptoms after the treatment. More specificly, we are going to look at predicting wether person with a certain symptom is likely to have the symptom after a given treatment. In other words, we assume that the dataset \"treatment_features\" contains symptoms _before_ the treatment, the table \"treatment_action\" cotains if they got treatment1, 2, both or none, and the table \"treatment_outcome\" contains the symptoms after the treatments. This might be a wrong interpretation, since it implies dead people are treated, and some people are ressurected by the treatment. However, it is our best interpretation, so we assume it is a mistake in the dataset. \n",
    "\n",
    "During the initial data analysis, we make an important observation. Patient who do not have symtpoms before the treatment (or both, or none) never have symptoms afterwards. If we assume this always is the case, the model will become more accurate. However, this assumtion may only be right for our dataset, giving us a synteticly low test-error. Therefore, we look at both the cases where we use the whole dataset to fit the models, and when we only use the patients that have symptoms before. We will try to predict each symptoms at a time, meaning we will have a different model for each of the symptoms. The specification on how we fit the model will be elaborated later, in the \"fitting a model\" section, after the initial data analysis. First, let look at how many of the observations that actually have a positive response. "
   ]
  },
  {
   "cell_type": "code",
   "execution_count": 72,
   "metadata": {},
   "outputs": [],
   "source": [
    "import numpy as np \n",
    "import pandas as pd \n",
    "from sklearn.linear_model import Lasso, LinearRegression"
   ]
  },
  {
   "cell_type": "code",
   "execution_count": 54,
   "metadata": {},
   "outputs": [],
   "source": [
    "# Loading data"
   ]
  },
  {
   "cell_type": "code",
   "execution_count": 55,
   "metadata": {},
   "outputs": [],
   "source": [
    "def init_features(data):\n",
    "    \"\"\"\n",
    "    Initialize names for observation features and treatment features\n",
    "    \n",
    "    Symptoms (10 bits): Covid-Recovered, Covid-Positive, No-Taste/Smell, \n",
    "        Fever, Headache, Pneumonia, Stomach, Myocarditis, Blood-Clots, Death\n",
    "    Age (integer)\n",
    "    Gender (binary)\n",
    "    Income (floating)\n",
    "    Genome (128 bits)\n",
    "    Comorbidities (6 bits): Asthma, Obesity, Smoking, Diabetes, Heart disease, Hypertension\n",
    "    Vaccination status (3 bits): 0 for unvaccinated, 1 for receiving a specific vaccine for each bit\n",
    "    \"\"\"\n",
    "    features_data = pd.read_csv(data)\n",
    "    # features =  [\"Covid-Recovered\", \"Age\", \"Gender\", \"Income\", \"Genome\", \"Comorbidities\", \"Vaccination status\"]\n",
    "    features = []\n",
    "    # features += [\"Symptoms\" + str(i) for i in range(1, 11)]\n",
    "    features += [\"Covid-Recovered\", \"Covid-Positive\", \"No-Taste/Smell\", \"Fever\", \n",
    "                 \"Headache\", \"Pneumonia\", \"Stomach\", \"Myocarditis\", \n",
    "                 \"Blood-Clots\", \"Death\"]\n",
    "    features += [\"Age\", \"Gender\", \"Income\"]\n",
    "    features += [\"Genome\" + str(i) for i in range(1, 129)]\n",
    "    # features += [\"Comorbidities\" + str(i) for i in range(1, 7)]\n",
    "    features += [\"Asthma\", \"Obesity\", \"Smoking\", \"Diabetes\", \n",
    "                 \"Heart disease\", \"Hypertension\"]\n",
    "    features += [\"Vaccination status\" + str(i) for i in range(1, 4)]\n",
    "    features_data.columns = features\n",
    "    return features_data"
   ]
  },
  {
   "cell_type": "code",
   "execution_count": 56,
   "metadata": {},
   "outputs": [],
   "source": [
    "def init_actions():\n",
    "    actions = pd.read_csv(\"treatment_actions.csv\")\n",
    "    actions.columns = [\"Treatment1\", \"Treatment2\"]\n",
    "    return actions "
   ]
  },
  {
   "cell_type": "code",
   "execution_count": 57,
   "metadata": {},
   "outputs": [],
   "source": [
    "def init_outcomes():\n",
    "    \"\"\"\n",
    "    Initialize outcome data\n",
    "    \n",
    "    Post-Treatment Symptoms (10 bits): Past-Covid (Ignore), Covid+ (Ignore), \n",
    "    No-Taste/Smell, Fever, Headache, Pneumonia, Stomach, Myocarditis, \n",
    "    Blood-Clots, Death\n",
    "    \"\"\"\n",
    "    outcomes = pd.read_csv(\"treatment_outcomes.csv\")\n",
    "    outcome_names = [\"Past-Covid\", \"Covid+\", \"No-Taste/Smell\", \"Fever\", \"Headache\", \n",
    "                      \"Pneumonia\", \"Stomach\", \"Myocarditis\", \"Blood-Clots\", \"Death\"]\n",
    "    outcomes.columns = outcome_names\n",
    "    return outcomes"
   ]
  },
  {
   "cell_type": "code",
   "execution_count": 58,
   "metadata": {},
   "outputs": [],
   "source": [
    "# Fix dataset"
   ]
  },
  {
   "cell_type": "code",
   "execution_count": 59,
   "metadata": {},
   "outputs": [],
   "source": [
    "observation_features = init_features(\"observation_features.csv\")\n",
    "data_obs = observation_features\n",
    "actions = init_actions()\n",
    "outcomes = init_outcomes()\n",
    "treatment_features = init_features(\"treatment_features.csv\")\n",
    "data_treat = treatment_features\n",
    "# The task said to ignore the two first columns\n",
    "outcomes = outcomes.iloc[:, 2:]\n",
    "\n",
    "outcome_names_new = [i + \"_after\" for i in outcomes.columns] # We want to specify that this is an outcome \n",
    "outcomes.columns = outcome_names_new\n",
    "\n",
    "treatment = data_treat.join(actions).join(outcomes)\n",
    "tmp1 = treatment.iloc[:, 0:13]\n",
    "tmp2 = treatment.iloc[:, 141:]\n",
    "# The three datasets for ex. 2 in one dataset, where all genes are omitted\n",
    "treat_no_genes = tmp1.join(tmp2)\n",
    "\n",
    "num_features = [\"Age\", \"Income\"]\n",
    "num_df = treat_no_genes[num_features]\n",
    "scaled_num_df = (num_df - num_df.mean()) / num_df.std()\n",
    "\n",
    "treat_no_genes_scaled = treat_no_genes\n",
    "treat_no_genes_scaled.iloc[:, 10] = scaled_num_df.iloc[:,0]\n",
    "treat_no_genes_scaled.iloc[:, 12] = scaled_num_df.iloc[:,1]\n",
    "\n",
    "# Remove column \"\"Covid-Positive\" (because everyone have covid)\n",
    "tmp1 = treat_no_genes.iloc[:, 0]\n",
    "tmp2 = treat_no_genes.iloc[:, 2:]\n",
    "treat_no_genes = pd.DataFrame(tmp1).join(tmp2)"
   ]
  },
  {
   "cell_type": "code",
   "execution_count": 60,
   "metadata": {},
   "outputs": [],
   "source": [
    "# Looking at differnt treatments"
   ]
  },
  {
   "cell_type": "code",
   "execution_count": 61,
   "metadata": {},
   "outputs": [],
   "source": [
    "# People with only treatment 1, 211 people\n",
    "treat_1 = treat_no_genes[(treat_no_genes[\"Treatment1\"] == 1) & (treat_no_genes[\"Treatment2\"] == 0)]\n",
    "# People with only treatment 2, 211 people\n",
    "treat_2 = treat_no_genes[(treat_no_genes[\"Treatment2\"] == 1) & (treat_no_genes[\"Treatment1\"] == 0)]\n",
    "# People with both treatments, 240 people\n",
    "treat_both = treat_no_genes[(treat_no_genes[\"Treatment1\"] == 1) & (treat_no_genes[\"Treatment2\"] == 1)]\n",
    "# People with no treatments, 215 people\n",
    "treat_none = treat_no_genes[(treat_no_genes[\"Treatment1\"] == 0) & (treat_no_genes[\"Treatment2\"] == 0)]"
   ]
  },
  {
   "cell_type": "code",
   "execution_count": 62,
   "metadata": {},
   "outputs": [],
   "source": [
    "# Number of people with different symptoms after"
   ]
  },
  {
   "cell_type": "code",
   "execution_count": 63,
   "metadata": {},
   "outputs": [],
   "source": [
    "#print(f\"Number of people with different symtoms, total people is {treat_no_genes.shape[0]}\")\n",
    "#print(\"--------------------------------------------------------------\")\n",
    "#for s in outcomes.columns:\n",
    "#    print(f\"People with symptom {s}: \", treat_no_genes[treat_no_genes[s] == 1].shape[0])"
   ]
  },
  {
   "cell_type": "code",
   "execution_count": 64,
   "metadata": {},
   "outputs": [],
   "source": [
    "# People with symtom before treatment compared to people with symptom after treatment"
   ]
  },
  {
   "cell_type": "code",
   "execution_count": 65,
   "metadata": {},
   "outputs": [
    {
     "name": "stdout",
     "output_type": "stream",
     "text": [
      "Number of people with different symtoms before and after treatment, total people is 877\n",
      "------------------------------------------------------------------------------------------\n",
      "People with symptom No-Taste/Smell before treatment:  49\n",
      "People with symptom No-Taste/Smell_after after treatment:  23\n",
      "------------------------------------------------------------\n",
      "People with symptom Fever before treatment:  24\n",
      "People with symptom Fever_after after treatment:  18\n",
      "------------------------------------------------------------\n",
      "People with symptom Headache before treatment:  7\n",
      "People with symptom Headache_after after treatment:  1\n",
      "------------------------------------------------------------\n",
      "People with symptom Pneumonia before treatment:  34\n",
      "People with symptom Pneumonia_after after treatment:  19\n",
      "------------------------------------------------------------\n",
      "People with symptom Stomach before treatment:  5\n",
      "People with symptom Stomach_after after treatment:  3\n",
      "------------------------------------------------------------\n",
      "People with symptom Myocarditis before treatment:  13\n",
      "People with symptom Myocarditis_after after treatment:  6\n",
      "------------------------------------------------------------\n",
      "People with symptom Blood-Clots before treatment:  34\n",
      "People with symptom Blood-Clots_after after treatment:  17\n",
      "------------------------------------------------------------\n",
      "People with symptom Death before treatment:  10\n",
      "People with symptom Death_after after treatment:  8\n",
      "------------------------------------------------------------\n"
     ]
    }
   ],
   "source": [
    "print(f\"Number of people with different symtoms before and after treatment, total people is {treat_no_genes.shape[0]}\")\n",
    "print(\"-\" * 90)\n",
    "for sb, sa in zip(treat_no_genes.columns[1:9], outcomes.columns):\n",
    "    print(f\"People with symptom {sb} before treatment: \", treat_no_genes[treat_no_genes[sb] == 1].shape[0])\n",
    "    print(f\"People with symptom {sa} after treatment: \", treat_no_genes[treat_no_genes[sa] == 1].shape[0])\n",
    "    print(\"-\" * 60)"
   ]
  },
  {
   "cell_type": "markdown",
   "metadata": {},
   "source": [
    "From this table we can make 2 important observations: 1. The treatments seems to be somewhat effective, since less people have symptoms after the treatment than before. 2. There are few of the patients who actually experienced symptoms. This is an important observations since it means that the process for fitting the model will be difficult. For example, only 5 persons had symptoms with their stomach before treatment, and only 3 after. This is out of 877 observations, so we have to work to get a model who does not simply predict \"0\" all the time. We are going to get back to this point. "
   ]
  },
  {
   "cell_type": "markdown",
   "metadata": {},
   "source": [
    "Now let us look if this is different among the different treatment groups:"
   ]
  },
  {
   "cell_type": "code",
   "execution_count": 66,
   "metadata": {},
   "outputs": [
    {
     "name": "stdout",
     "output_type": "stream",
     "text": [
      "Percentages of people experiencing symptoms before and after treatment, in each treatment group\n",
      "------------------------------------------------------------------------------------------\n",
      "No-Taste/Smell before treatment: Treatment1: 5.6872, Treatment2: 3.3175, Both Treatments: 7.0833, No treatment: 6.0465\n",
      "No-Taste/Smell_after after treatment: Treatment1: 3.7915, Treatment2: 0.9479, Both Treatments: 0.0000, No treatment: 6.0465\n",
      "------------------------------------------------------------\n",
      "Fever before treatment: Treatment1: 4.7393, Treatment2: 1.8957, Both Treatments: 1.2500, No treatment: 3.2558\n",
      "Fever_after after treatment: Treatment1: 2.8436, Treatment2: 1.4218, Both Treatments: 0.8333, No treatment: 3.2558\n",
      "------------------------------------------------------------\n",
      "Headache before treatment: Treatment1: 0.9479, Treatment2: 0.9479, Both Treatments: 0.8333, No treatment: 0.4651\n",
      "Headache_after after treatment: Treatment1: 0.0000, Treatment2: 0.0000, Both Treatments: 0.0000, No treatment: 0.4651\n",
      "------------------------------------------------------------\n",
      "Pneumonia before treatment: Treatment1: 4.7393, Treatment2: 3.7915, Both Treatments: 2.9167, No treatment: 4.1860\n",
      "Pneumonia_after after treatment: Treatment1: 0.9479, Treatment2: 3.7915, Both Treatments: 0.0000, No treatment: 4.1860\n",
      "------------------------------------------------------------\n",
      "Stomach before treatment: Treatment1: 0.0000, Treatment2: 1.4218, Both Treatments: 0.4167, No treatment: 0.4651\n",
      "Stomach_after after treatment: Treatment1: 0.0000, Treatment2: 0.9479, Both Treatments: 0.0000, No treatment: 0.4651\n",
      "------------------------------------------------------------\n",
      "Myocarditis before treatment: Treatment1: 1.8957, Treatment2: 1.8957, Both Treatments: 1.6667, No treatment: 0.4651\n",
      "Myocarditis_after after treatment: Treatment1: 1.8957, Treatment2: 0.4739, Both Treatments: 0.0000, No treatment: 0.4651\n",
      "------------------------------------------------------------\n",
      "Blood-Clots before treatment: Treatment1: 2.3697, Treatment2: 6.1611, Both Treatments: 2.5000, No treatment: 4.6512\n",
      "Blood-Clots_after after treatment: Treatment1: 0.0000, Treatment2: 3.3175, Both Treatments: 0.0000, No treatment: 4.6512\n",
      "------------------------------------------------------------\n",
      "Death before treatment: Treatment1: 1.8957, Treatment2: 0.9479, Both Treatments: 0.8333, No treatment: 0.9302\n",
      "Death_after after treatment: Treatment1: 1.8957, Treatment2: 0.4739, Both Treatments: 0.4167, No treatment: 0.9302\n",
      "------------------------------------------------------------\n"
     ]
    }
   ],
   "source": [
    "print(f\"Percentages of people experiencing symptoms before and after treatment, in each treatment group\")\n",
    "print(\"-\" * 90)\n",
    "for sb, sa in zip(treat_1.columns[1:9], outcomes.columns):\n",
    "    t1_b = treat_1[treat_1[sb] == 1].shape[0]/len(treat_1)\n",
    "    t2_b = treat_2[treat_2[sb] == 1].shape[0]/len(treat_2)\n",
    "    tb_b = treat_both[treat_both[sb] == 1].shape[0]/len(treat_both)\n",
    "    tn_b = treat_none[treat_none[sb] == 1].shape[0]/len(treat_none)\n",
    "    t1_a = treat_1[treat_1[sa] == 1].shape[0]/len(treat_1)\n",
    "    t2_a = treat_2[treat_2[sa] == 1].shape[0]/len(treat_2)\n",
    "    tb_a = treat_both[treat_both[sa] == 1].shape[0]/len(treat_both)\n",
    "    tn_a = treat_none[treat_none[sa] == 1].shape[0]/len(treat_none)\n",
    "    print(f\"{sb} before treatment: Treatment1: {t1_b*100:.4f}, \\\n",
    "Treatment2: {t2_b*100:.4f}, Both Treatments: {tb_b*100:.4f}, No treatment: {tn_b*100:.4f}\")\n",
    "    print(f\"{sa} after treatment: Treatment1: {t1_a*100:.4f}, \\\n",
    "Treatment2: {t2_a*100:.4f}, Both Treatments: {tb_a*100:.4f}, No treatment: {tn_a*100:.4f}\")\n",
    "    print(\"-\" * 60)"
   ]
  },
  {
   "cell_type": "markdown",
   "metadata": {},
   "source": [
    "One more thing to check, is if it is people that do not have symptoms before treatment, but get it afterwards. "
   ]
  },
  {
   "cell_type": "code",
   "execution_count": 67,
   "metadata": {},
   "outputs": [
    {
     "name": "stdout",
     "output_type": "stream",
     "text": [
      " Without symptom: No-Taste/Smell, 828, # gets symptom after treatment 0\n",
      " Without symptom: Fever, 853, # gets symptom after treatment 0\n",
      " Without symptom: Headache, 870, # gets symptom after treatment 0\n",
      " Without symptom: Pneumonia, 843, # gets symptom after treatment 0\n",
      " Without symptom: Stomach, 872, # gets symptom after treatment 0\n",
      " Without symptom: Myocarditis, 864, # gets symptom after treatment 0\n",
      " Without symptom: Blood-Clots, 843, # gets symptom after treatment 0\n",
      " Without symptom: Death, 867, # gets symptom after treatment 0\n"
     ]
    }
   ],
   "source": [
    "symptom_names = [\"No-Taste/Smell\", \"Fever\", \"Headache\", \"Pneumonia\", \"Stomach\", \"Myocarditis\", \"Blood-Clots\", \"Death\"]\n",
    "for symptom in symptom_names:\n",
    "    no_symptom = treat_no_genes[treat_no_genes[symptom] == 0.0]\n",
    "    symptom_after = no_symptom[no_symptom[f\"{symptom}_after\"] == 1.0]\n",
    "    print(f\" Without symptom: {symptom}, {no_symptom.shape[0]}, # gets symptom after treatment {symptom_after.shape[0]}\")"
   ]
  },
  {
   "cell_type": "markdown",
   "metadata": {},
   "source": [
    "And the answer is no; no symptom-negative persons get sick after the treatment. This is an important observation for the model fitting. The details will be specified later. \n",
    "\n",
    "By these tables (mainly the second latest one) we can establish a few things. Firstly, the group that got no treatment has no reduction in symptoms before and after, which makes sence. By this observation, and the fact that there are that the treatments reduces or keeps the number of symptoms the same in every case, we can establish that the treatments are somewhat effective. For headache, every treated person, with every treatment lose their headache. Treatment1 treats all of the Blood Clots cases, and many of the Pneumonia cases. For the rest of the cases, the treatment are either someowhat effective or not effective at all. This is good to note, because if we consider our final model to be good, it should pick up some of this. Fitting the model will be difficult however, since we have very few positives in the response. Finally, we observations that got both treatments, who are \"ressurected\", meaning that they where dead before the treatment, but not afterwards. This is not to mention that dead people get treated at all, which is the case for 10 patients. This might be an interpretation mistake from our side, but since we could not figure it out, we assume it is a mistake in the dataset. "
   ]
  },
  {
   "cell_type": "markdown",
   "metadata": {},
   "source": [
    "## Fitting a model\n",
    "\n",
    "Problem specification.\n",
    "\n",
    "In order to test our model, we use cross-validation. We made a pipeline for testing different functions with different error penalties. In order for generalization, cross_validate() takes in the arguments \"parameter1\" and \"parameter2\". The first one is thrown into the model, so it can for example be \"k\" for KNN, or \"lambda\" for Lasso. The second parameter is given to the error caclulation. This parameter is so that if the model predicts continously among 0 to 1 (or a little under and over), we can adjust what is predicted as a positive or negative. The obvious choice would be \"0.5\", but since we have way more positive than negative observations, it might be beneficial to lower this rate. Finally, \"penalty_factor\" determines how much we weigh a false positive against a false negative. This should be tuned so that our model gives a satisfactory outcome. This depend on how \"bad\" a false negative is compared to a false positive, which is not up to us to determine. Therefore, we will look at many cases. The reason for writing our own functions, is all of the flexibility just mentioned. We did not find this in existing functions, even though it surely exists somewhere. \n",
    "\n",
    "Here is the actual code: "
   ]
  },
  {
   "cell_type": "code",
   "execution_count": 91,
   "metadata": {},
   "outputs": [],
   "source": [
    "def cross_validate(data, response, model, test_function, k_fold=10, parameter1=1, parameter2=0.5, penalty_factor=1):\n",
    "    \"\"\"\n",
    "    Crossvalidates \"model\" on \"data\", according to the error given by \n",
    "    \"test_function\". \"response\" is the response that we are predicting.\n",
    "    \"\"\"\n",
    "    n = len(data)\n",
    "    cv_indexes = np.zeros(n)\n",
    "    counter = 0\n",
    "    for i in range(n):\n",
    "        cv_indexes[i] = counter\n",
    "        counter = (counter + 1) % k_fold\n",
    "    np.random.shuffle(cv_indexes)\n",
    "    error = 0\n",
    "    # embed()\n",
    "    for k in range(k_fold):\n",
    "        train = data[cv_indexes != k]\n",
    "        test = data[cv_indexes == k]\n",
    "        predictions = model(train, test, response, parameter1)\n",
    "        # predict on outcomes\n",
    "        error += test_function(predictions, test, response, parameter2=parameter2, penalty_factor=penalty_factor)\n",
    "    return error\n",
    "    \n",
    "def penalized_error(outcomes, test, response, penalty_factor=5, parameter2=0.5):\n",
    "    \"\"\"\n",
    "    Categorical error, where false negatives error are weighted with \n",
    "    \"penelize_factor\", and false posities are weighted with 1. \n",
    "    \"\"\"\n",
    "    error = 0\n",
    "    # embed()\n",
    "    for pred, exact in zip(outcomes, test[response]):\n",
    "        if pred < parameter2:\n",
    "            error += exact * penalty_factor\n",
    "        elif pred >= parameter2:\n",
    "            error += (1 - exact)\n",
    "    return error\n",
    "    \n",
    "def knn_model(data, test, response, parameter1=5):\n",
    "    \"\"\"\n",
    "    To be used in \"cross_validate()\". Data is the X data that the KNN\n",
    "    model is fitted on, data[response] is the Y data. The function return the \n",
    "    prediction done on \"test\". \"parameter1\" is the amount of neighbours. \n",
    "    \"\"\"\n",
    "    k = parameter1\n",
    "    y_data = data[response]\n",
    "    x_data = data.drop(columns=[response]) # Check that it does not delete y_data\n",
    "    test_data = test.drop(columns=[response])\n",
    "    model = KNeighborsClassifier(n_neighbors=k)\n",
    "    fit_model = model.fit(x_data, y_data)\n",
    "    predictions = fit_model.predict(test_data)\n",
    "    return predictions\n",
    "\n",
    "def lasso_model(data, test, response, parameter1=1):\n",
    "    \"\"\"\n",
    "    parameter1 is lambda. Lasso model for cross_validate()\n",
    "    \"\"\"\n",
    "    alpha = parameter1\n",
    "    y_data = data[response]\n",
    "    x_data = data.drop(columns=[response]) # Check that it does not delete y_data\n",
    "    test_data = test.drop(columns=[response])\n",
    "    model = Lasso(alpha=alpha)\n",
    "    fit_model = model.fit(x_data, y_data)\n",
    "    predictions = fit_model.predict(test_data)\n",
    "    # print(predictions)\n",
    "    return predictions\n",
    "\n",
    "def linear_model(data, test, response, parameter1=None):\n",
    "    y_data = data[response].copy()\n",
    "    x_data = data.drop(columns=[response])\n",
    "    test_data = test.drop(columns=[response])\n",
    "    model = LinearRegression()\n",
    "    fit_model = model.fit(x_data, y_data)\n",
    "    predictions = fit_model.predict(test_data)\n",
    "\n",
    "    return predictions"
   ]
  },
  {
   "cell_type": "markdown",
   "metadata": {},
   "source": [
    "A primitive approach to fitting the model, would be to send in all of the 876 columns. This is since we just established that if one did not experience symptoms before the treatment, one would not after. We also know that the no-treatment group does not change, so their symptom before will be the same after the non-existing treatment (which might be interpreted as a short time period). Since we consider this good assumption based on the data analysis, we can \"hard-code\" this into the model, and only predict if the patient experience symptoms before. However, we will try doing the primitive way, as it might give us some information about how the model and testing procedure works. "
   ]
  },
  {
   "cell_type": "code",
   "execution_count": null,
   "metadata": {},
   "outputs": [],
   "source": []
  },
  {
   "cell_type": "markdown",
   "metadata": {},
   "source": [
    "Let us simply fit a linear model on all our data, and cross validate. Note that we send in unreasonably many explanatory variables, but we will fix this later. "
   ]
  },
  {
   "cell_type": "code",
   "execution_count": 95,
   "metadata": {},
   "outputs": [
    {
     "name": "stdout",
     "output_type": "stream",
     "text": [
      "No-Taste/Smell: Amount in group: 49.0\n",
      "CV for linear_model: 19.0\n",
      "\n",
      "Fever: Amount in group: 24.0\n",
      "CV for linear_model: 6.0\n",
      "\n",
      "Headache: Amount in group: 7.0\n",
      "CV for linear_model: 1.0\n",
      "\n",
      "Pneumonia: Amount in group: 34.0\n",
      "CV for linear_model: 16.0\n",
      "\n",
      "Stomach: Amount in group: 5.0\n",
      "CV for linear_model: 3.0\n",
      "\n",
      "Myocarditis: Amount in group: 13.0\n",
      "CV for linear_model: 9.0\n",
      "\n",
      "Blood-Clots: Amount in group: 34.0\n",
      "CV for linear_model: 15.0\n",
      "\n",
      "Death: Amount in group: 10.0\n",
      "CV for linear_model: 2.0\n",
      "\n"
     ]
    }
   ],
   "source": [
    "np.random.seed(57)\n",
    "for symptom in symptom_names:\n",
    "    symptom_index = f\"{symptom}_after\"\n",
    "    print(f\"{symptom}: Amount in group: {sum(treat_no_genes[symptom])}\")\n",
    "    cv = cross_validate(treat_no_genes, symptom_index, linear_model, penalized_error, parameter2=0.5, penalty_factor=1)\n",
    "    print(f\"CV for linear_model: {cv}\")\n",
    "    print()"
   ]
  },
  {
   "cell_type": "markdown",
   "metadata": {},
   "source": [
    "This seems promising. The linear model does not overfit, since the cross validation error is lower than the amount of total cases. In addition, we actually get some true-positives, since the error is lower. However, let us look at the amount of false-positive against false-negatives. A primive way to do this is just to penalize false positives as 1000, so we can read the error whole number divided by 1000 as the false positives, and the error modulos 1000 as the false negatives."
   ]
  },
  {
   "cell_type": "code",
   "execution_count": 96,
   "metadata": {},
   "outputs": [
    {
     "name": "stdout",
     "output_type": "stream",
     "text": [
      "No-Taste/Smell: Amount in group: 49.0\n",
      "CV for linear_model: 16003.0\n",
      "\n",
      "Fever: Amount in group: 24.0\n",
      "CV for linear_model: 6.0\n",
      "\n",
      "Headache: Amount in group: 7.0\n",
      "CV for linear_model: 1000.0\n",
      "\n",
      "Pneumonia: Amount in group: 34.0\n",
      "CV for linear_model: 1015.0\n",
      "\n",
      "Stomach: Amount in group: 5.0\n",
      "CV for linear_model: 1002.0\n",
      "\n",
      "Myocarditis: Amount in group: 13.0\n",
      "CV for linear_model: 6003.0\n",
      "\n",
      "Blood-Clots: Amount in group: 34.0\n",
      "CV for linear_model: 12003.0\n",
      "\n",
      "Death: Amount in group: 10.0\n",
      "CV for linear_model: 2.0\n",
      "\n"
     ]
    }
   ],
   "source": [
    "np.random.seed(57)\n",
    "for symptom in symptom_names:\n",
    "    symptom_index = f\"{symptom}_after\"\n",
    "    print(f\"{symptom}: Amount in group: {sum(treat_no_genes[symptom])}\")\n",
    "    cv = cross_validate(treat_no_genes, symptom_index, linear_model, penalized_error, parameter2=0.5, penalty_factor=1000)\n",
    "    print(f\"CV for linear_model: {cv}\")\n",
    "    print()"
   ]
  },
  {
   "cell_type": "markdown",
   "metadata": {},
   "source": [
    "Since the error // 1000 is not 0 for many of the observations, we can easily improve our model by the previous observations. If they did not experience the relevant symptom before the treatment, the prediction should be 0, so in this case we can have only the false negative left. This can be hardcoded into the model.\n",
    "\n",
    "Let us verify this by looking at the coefficients. We fit the linear model on the whole data:"
   ]
  },
  {
   "cell_type": "code",
   "execution_count": 114,
   "metadata": {},
   "outputs": [
    {
     "data": {
      "text/html": [
       "<div>\n",
       "<style scoped>\n",
       "    .dataframe tbody tr th:only-of-type {\n",
       "        vertical-align: middle;\n",
       "    }\n",
       "\n",
       "    .dataframe tbody tr th {\n",
       "        vertical-align: top;\n",
       "    }\n",
       "\n",
       "    .dataframe thead th {\n",
       "        text-align: right;\n",
       "    }\n",
       "</style>\n",
       "<table border=\"1\" class=\"dataframe\">\n",
       "  <thead>\n",
       "    <tr style=\"text-align: right;\">\n",
       "      <th></th>\n",
       "      <th>0</th>\n",
       "      <th>0</th>\n",
       "    </tr>\n",
       "  </thead>\n",
       "  <tbody>\n",
       "    <tr>\n",
       "      <th>0</th>\n",
       "      <td>Covid-Recovered</td>\n",
       "      <td>0.005962</td>\n",
       "    </tr>\n",
       "    <tr>\n",
       "      <th>1</th>\n",
       "      <td>No-Taste/Smell</td>\n",
       "      <td>0.472467</td>\n",
       "    </tr>\n",
       "    <tr>\n",
       "      <th>2</th>\n",
       "      <td>Fever</td>\n",
       "      <td>-0.085558</td>\n",
       "    </tr>\n",
       "    <tr>\n",
       "      <th>3</th>\n",
       "      <td>Headache</td>\n",
       "      <td>0.028219</td>\n",
       "    </tr>\n",
       "    <tr>\n",
       "      <th>4</th>\n",
       "      <td>Pneumonia</td>\n",
       "      <td>-0.025346</td>\n",
       "    </tr>\n",
       "    <tr>\n",
       "      <th>5</th>\n",
       "      <td>Stomach</td>\n",
       "      <td>0.015724</td>\n",
       "    </tr>\n",
       "    <tr>\n",
       "      <th>6</th>\n",
       "      <td>Myocarditis</td>\n",
       "      <td>0.020841</td>\n",
       "    </tr>\n",
       "    <tr>\n",
       "      <th>7</th>\n",
       "      <td>Blood-Clots</td>\n",
       "      <td>-0.017383</td>\n",
       "    </tr>\n",
       "    <tr>\n",
       "      <th>8</th>\n",
       "      <td>Death</td>\n",
       "      <td>0.024377</td>\n",
       "    </tr>\n",
       "    <tr>\n",
       "      <th>9</th>\n",
       "      <td>Age</td>\n",
       "      <td>-0.003282</td>\n",
       "    </tr>\n",
       "    <tr>\n",
       "      <th>10</th>\n",
       "      <td>Gender</td>\n",
       "      <td>0.008693</td>\n",
       "    </tr>\n",
       "    <tr>\n",
       "      <th>11</th>\n",
       "      <td>Income</td>\n",
       "      <td>0.000121</td>\n",
       "    </tr>\n",
       "    <tr>\n",
       "      <th>12</th>\n",
       "      <td>Asthma</td>\n",
       "      <td>-0.004226</td>\n",
       "    </tr>\n",
       "    <tr>\n",
       "      <th>13</th>\n",
       "      <td>Obesity</td>\n",
       "      <td>0.012320</td>\n",
       "    </tr>\n",
       "    <tr>\n",
       "      <th>14</th>\n",
       "      <td>Smoking</td>\n",
       "      <td>-0.006938</td>\n",
       "    </tr>\n",
       "    <tr>\n",
       "      <th>15</th>\n",
       "      <td>Diabetes</td>\n",
       "      <td>-0.010620</td>\n",
       "    </tr>\n",
       "    <tr>\n",
       "      <th>16</th>\n",
       "      <td>Heart disease</td>\n",
       "      <td>0.003227</td>\n",
       "    </tr>\n",
       "    <tr>\n",
       "      <th>17</th>\n",
       "      <td>Hypertension</td>\n",
       "      <td>0.019534</td>\n",
       "    </tr>\n",
       "    <tr>\n",
       "      <th>18</th>\n",
       "      <td>Vaccination status1</td>\n",
       "      <td>0.020899</td>\n",
       "    </tr>\n",
       "    <tr>\n",
       "      <th>19</th>\n",
       "      <td>Vaccination status2</td>\n",
       "      <td>0.009397</td>\n",
       "    </tr>\n",
       "    <tr>\n",
       "      <th>20</th>\n",
       "      <td>Vaccination status3</td>\n",
       "      <td>0.011198</td>\n",
       "    </tr>\n",
       "    <tr>\n",
       "      <th>21</th>\n",
       "      <td>Treatment1</td>\n",
       "      <td>-0.023624</td>\n",
       "    </tr>\n",
       "    <tr>\n",
       "      <th>22</th>\n",
       "      <td>Treatment2</td>\n",
       "      <td>-0.041896</td>\n",
       "    </tr>\n",
       "    <tr>\n",
       "      <th>23</th>\n",
       "      <td>Fever_after</td>\n",
       "      <td>0.075344</td>\n",
       "    </tr>\n",
       "    <tr>\n",
       "      <th>24</th>\n",
       "      <td>Headache_after</td>\n",
       "      <td>-0.034137</td>\n",
       "    </tr>\n",
       "    <tr>\n",
       "      <th>25</th>\n",
       "      <td>Pneumonia_after</td>\n",
       "      <td>0.018905</td>\n",
       "    </tr>\n",
       "    <tr>\n",
       "      <th>26</th>\n",
       "      <td>Stomach_after</td>\n",
       "      <td>-0.022455</td>\n",
       "    </tr>\n",
       "    <tr>\n",
       "      <th>27</th>\n",
       "      <td>Myocarditis_after</td>\n",
       "      <td>0.062717</td>\n",
       "    </tr>\n",
       "    <tr>\n",
       "      <th>28</th>\n",
       "      <td>Blood-Clots_after</td>\n",
       "      <td>0.010907</td>\n",
       "    </tr>\n",
       "    <tr>\n",
       "      <th>29</th>\n",
       "      <td>Death_after</td>\n",
       "      <td>-0.033060</td>\n",
       "    </tr>\n",
       "  </tbody>\n",
       "</table>\n",
       "</div>"
      ],
      "text/plain": [
       "                      0         0\n",
       "0       Covid-Recovered  0.005962\n",
       "1        No-Taste/Smell  0.472467\n",
       "2                 Fever -0.085558\n",
       "3              Headache  0.028219\n",
       "4             Pneumonia -0.025346\n",
       "5               Stomach  0.015724\n",
       "6           Myocarditis  0.020841\n",
       "7           Blood-Clots -0.017383\n",
       "8                 Death  0.024377\n",
       "9                   Age -0.003282\n",
       "10               Gender  0.008693\n",
       "11               Income  0.000121\n",
       "12               Asthma -0.004226\n",
       "13              Obesity  0.012320\n",
       "14              Smoking -0.006938\n",
       "15             Diabetes -0.010620\n",
       "16        Heart disease  0.003227\n",
       "17         Hypertension  0.019534\n",
       "18  Vaccination status1  0.020899\n",
       "19  Vaccination status2  0.009397\n",
       "20  Vaccination status3  0.011198\n",
       "21           Treatment1 -0.023624\n",
       "22           Treatment2 -0.041896\n",
       "23          Fever_after  0.075344\n",
       "24       Headache_after -0.034137\n",
       "25      Pneumonia_after  0.018905\n",
       "26        Stomach_after -0.022455\n",
       "27    Myocarditis_after  0.062717\n",
       "28    Blood-Clots_after  0.010907\n",
       "29          Death_after -0.033060"
      ]
     },
     "execution_count": 114,
     "metadata": {},
     "output_type": "execute_result"
    }
   ],
   "source": [
    "y_data =  treat_no_genes[\"No-Taste/Smell_after\"]\n",
    "x_data = treat_no_genes.drop(columns=\"No-Taste/Smell_after\")\n",
    "\n",
    "linear_model = LinearRegression()\n",
    "fit_model = linear_model.fit(x_data, y_data)\n",
    "coefficients = pd.concat([pd.DataFrame(x_data.columns), pd.DataFrame(np.transpose(fit_model.coef_))], axis = 1)\n",
    "coefficients"
   ]
  },
  {
   "cell_type": "markdown",
   "metadata": {},
   "source": [
    "As we see, all of the coefficients are pretty small compared to No-Taste/Smell. This means that the linear regression managed to pick up the correct variable, according to our observation. However, most of the other variables seem noisy, so lets try to remove them. "
   ]
  },
  {
   "cell_type": "code",
   "execution_count": null,
   "metadata": {},
   "outputs": [],
   "source": []
  }
 ],
 "metadata": {
  "kernelspec": {
   "display_name": "Python 3",
   "language": "python",
   "name": "python3"
  },
  "language_info": {
   "codemirror_mode": {
    "name": "ipython",
    "version": 3
   },
   "file_extension": ".py",
   "mimetype": "text/x-python",
   "name": "python",
   "nbconvert_exporter": "python",
   "pygments_lexer": "ipython3",
   "version": "3.7.1"
  }
 },
 "nbformat": 4,
 "nbformat_minor": 2
}
