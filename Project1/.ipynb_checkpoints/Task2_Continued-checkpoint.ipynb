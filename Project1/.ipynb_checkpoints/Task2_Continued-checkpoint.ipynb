{
 "cells": [
  {
   "cell_type": "markdown",
   "metadata": {},
   "source": [
    "# Exercise 2\n",
    "\n",
    "## Data exploration\n",
    "\n",
    "Before we dive into fitting a model for prediction in exercise 2, let us explore the data a bit. \n",
    "\n",
    "We formalize the problem as follows: We want to use the explanatory variables; genes, age, income, comorbodities, treatment and symptoms before treatment, to predict the response, symptoms after the treatment. This will be elaborated later in the process. First, let look at how many of the observations that actually have a positive response. "
   ]
  },
  {
   "cell_type": "code",
   "execution_count": 31,
   "metadata": {},
   "outputs": [],
   "source": [
    "import numpy as np \n",
    "import pandas as pd "
   ]
  },
  {
   "cell_type": "code",
   "execution_count": 2,
   "metadata": {},
   "outputs": [],
   "source": [
    "# Loading data"
   ]
  },
  {
   "cell_type": "code",
   "execution_count": 3,
   "metadata": {},
   "outputs": [],
   "source": [
    "def init_features(data):\n",
    "    \"\"\"\n",
    "    Initialize names for observation features and treatment features\n",
    "    \n",
    "    Symptoms (10 bits): Covid-Recovered, Covid-Positive, No-Taste/Smell, \n",
    "        Fever, Headache, Pneumonia, Stomach, Myocarditis, Blood-Clots, Death\n",
    "    Age (integer)\n",
    "    Gender (binary)\n",
    "    Income (floating)\n",
    "    Genome (128 bits)\n",
    "    Comorbidities (6 bits): Asthma, Obesity, Smoking, Diabetes, Heart disease, Hypertension\n",
    "    Vaccination status (3 bits): 0 for unvaccinated, 1 for receiving a specific vaccine for each bit\n",
    "    \"\"\"\n",
    "    features_data = pd.read_csv(data)\n",
    "    # features =  [\"Covid-Recovered\", \"Age\", \"Gender\", \"Income\", \"Genome\", \"Comorbidities\", \"Vaccination status\"]\n",
    "    features = []\n",
    "    # features += [\"Symptoms\" + str(i) for i in range(1, 11)]\n",
    "    features += [\"Covid-Recovered\", \"Covid-Positive\", \"No-Taste/Smell\", \"Fever\", \n",
    "                 \"Headache\", \"Pneumonia\", \"Stomach\", \"Myocarditis\", \n",
    "                 \"Blood-Clots\", \"Death\"]\n",
    "    features += [\"Age\", \"Gender\", \"Income\"]\n",
    "    features += [\"Genome\" + str(i) for i in range(1, 129)]\n",
    "    # features += [\"Comorbidities\" + str(i) for i in range(1, 7)]\n",
    "    features += [\"Asthma\", \"Obesity\", \"Smoking\", \"Diabetes\", \n",
    "                 \"Heart disease\", \"Hypertension\"]\n",
    "    features += [\"Vaccination status\" + str(i) for i in range(1, 4)]\n",
    "    features_data.columns = features\n",
    "    return features_data"
   ]
  },
  {
   "cell_type": "code",
   "execution_count": 4,
   "metadata": {},
   "outputs": [],
   "source": [
    "def init_actions():\n",
    "    actions = pd.read_csv(\"treatment_actions.csv\")\n",
    "    actions.columns = [\"Treatment1\", \"Treatment2\"]\n",
    "    return actions "
   ]
  },
  {
   "cell_type": "code",
   "execution_count": 5,
   "metadata": {},
   "outputs": [],
   "source": [
    "def init_outcomes():\n",
    "    \"\"\"\n",
    "    Initialize outcome data\n",
    "    \n",
    "    Post-Treatment Symptoms (10 bits): Past-Covid (Ignore), Covid+ (Ignore), \n",
    "    No-Taste/Smell, Fever, Headache, Pneumonia, Stomach, Myocarditis, \n",
    "    Blood-Clots, Death\n",
    "    \"\"\"\n",
    "    outcomes = pd.read_csv(\"treatment_outcomes.csv\")\n",
    "    outcome_names = [\"Past-Covid\", \"Covid+\", \"No-Taste/Smell\", \"Fever\", \"Headache\", \n",
    "                      \"Pneumonia\", \"Stomach\", \"Myocarditis\", \"Blood-Clots\", \"Death\"]\n",
    "    outcomes.columns = outcome_names\n",
    "    return outcomes"
   ]
  },
  {
   "cell_type": "code",
   "execution_count": 6,
   "metadata": {},
   "outputs": [],
   "source": [
    "# Fix dataset"
   ]
  },
  {
   "cell_type": "code",
   "execution_count": 7,
   "metadata": {},
   "outputs": [],
   "source": [
    "observation_features = init_features(\"observation_features.csv\")\n",
    "data_obs = observation_features\n",
    "actions = init_actions()\n",
    "outcomes = init_outcomes()\n",
    "treatment_features = init_features(\"treatment_features.csv\")\n",
    "data_treat = treatment_features\n",
    "# The task said to ignore the two first columns\n",
    "outcomes = outcomes.iloc[:, 2:]\n",
    "\n",
    "outcome_names_new = [i + \"_after\" for i in outcomes.columns]\n",
    "outcomes.columns = outcome_names_new\n",
    "\n",
    "treatment = data_treat.join(actions).join(outcomes)\n",
    "tmp1 = treatment.iloc[:, 0:13]\n",
    "tmp2 = treatment.iloc[:, 141:]\n",
    "# The three datasets for ex. 2 in one dataset, where all genes are omitted\n",
    "treat_no_genes = tmp1.join(tmp2)\n",
    "\n",
    "num_features = [\"Age\", \"Income\"]\n",
    "num_df = treat_no_genes[num_features]\n",
    "scaled_num_df = (num_df - num_df.mean()) / num_df.std()\n",
    "\n",
    "treat_no_genes_scaled = treat_no_genes\n",
    "treat_no_genes_scaled.iloc[:, 10] = scaled_num_df.iloc[:,0]\n",
    "treat_no_genes_scaled.iloc[:, 12] = scaled_num_df.iloc[:,1]\n",
    "\n",
    "# Remove column \"\"Covid-Positive\" (because everyone have covid)\n",
    "tmp1 = treat_no_genes.iloc[:, 0]\n",
    "tmp2 = treat_no_genes.iloc[:, 2:]\n",
    "treat_no_genes = pd.DataFrame(tmp1).join(tmp2)"
   ]
  },
  {
   "cell_type": "code",
   "execution_count": 8,
   "metadata": {},
   "outputs": [],
   "source": [
    "# Looking at differnt treatments"
   ]
  },
  {
   "cell_type": "code",
   "execution_count": 9,
   "metadata": {},
   "outputs": [],
   "source": [
    "# People with only treatment 1, 211 people\n",
    "treat_1 = treat_no_genes[(treat_no_genes[\"Treatment1\"] == 1) & (treat_no_genes[\"Treatment2\"] == 0)]\n",
    "# People with only treatment 2, 211 people\n",
    "treat_2 = treat_no_genes[(treat_no_genes[\"Treatment2\"] == 1) & (treat_no_genes[\"Treatment1\"] == 0)]\n",
    "# People with both treatments, 240 people\n",
    "treat_both = treat_no_genes[(treat_no_genes[\"Treatment1\"] == 1) & (treat_no_genes[\"Treatment2\"] == 1)]\n",
    "# People with no treatments, 215 people\n",
    "treat_none = treat_no_genes[(treat_no_genes[\"Treatment1\"] == 0) & (treat_no_genes[\"Treatment2\"] == 0)]"
   ]
  },
  {
   "cell_type": "code",
   "execution_count": 10,
   "metadata": {},
   "outputs": [],
   "source": [
    "# Number of people with different symptoms after"
   ]
  },
  {
   "cell_type": "code",
   "execution_count": 32,
   "metadata": {},
   "outputs": [],
   "source": [
    "#print(f\"Number of people with different symtoms, total people is {treat_no_genes.shape[0]}\")\n",
    "#print(\"--------------------------------------------------------------\")\n",
    "#for s in outcomes.columns:\n",
    "#    print(f\"People with symptom {s}: \", treat_no_genes[treat_no_genes[s] == 1].shape[0])"
   ]
  },
  {
   "cell_type": "code",
   "execution_count": 12,
   "metadata": {},
   "outputs": [],
   "source": [
    "# People with symtom before treatment compared to people with symptom after treatment"
   ]
  },
  {
   "cell_type": "code",
   "execution_count": 13,
   "metadata": {},
   "outputs": [
    {
     "name": "stdout",
     "output_type": "stream",
     "text": [
      "Number of people with different symtoms before and after treatment, total people is 877\n",
      "------------------------------------------------------------------------------------------\n",
      "People with symptom No-Taste/Smell before treatment:  49\n",
      "People with symptom No-Taste/Smell_after after treatment:  23\n",
      "------------------------------------------------------------\n",
      "People with symptom Fever before treatment:  24\n",
      "People with symptom Fever_after after treatment:  18\n",
      "------------------------------------------------------------\n",
      "People with symptom Headache before treatment:  7\n",
      "People with symptom Headache_after after treatment:  1\n",
      "------------------------------------------------------------\n",
      "People with symptom Pneumonia before treatment:  34\n",
      "People with symptom Pneumonia_after after treatment:  19\n",
      "------------------------------------------------------------\n",
      "People with symptom Stomach before treatment:  5\n",
      "People with symptom Stomach_after after treatment:  3\n",
      "------------------------------------------------------------\n",
      "People with symptom Myocarditis before treatment:  13\n",
      "People with symptom Myocarditis_after after treatment:  6\n",
      "------------------------------------------------------------\n",
      "People with symptom Blood-Clots before treatment:  34\n",
      "People with symptom Blood-Clots_after after treatment:  17\n",
      "------------------------------------------------------------\n",
      "People with symptom Death before treatment:  10\n",
      "People with symptom Death_after after treatment:  8\n",
      "------------------------------------------------------------\n"
     ]
    }
   ],
   "source": [
    "print(f\"Number of people with different symtoms before and after treatment, total people is {treat_no_genes.shape[0]}\")\n",
    "print(\"-\" * 90)\n",
    "for sb, sa in zip(treat_no_genes.columns[1:9], outcomes.columns):\n",
    "    print(f\"People with symptom {sb} before treatment: \", treat_no_genes[treat_no_genes[sb] == 1].shape[0])\n",
    "    print(f\"People with symptom {sa} after treatment: \", treat_no_genes[treat_no_genes[sa] == 1].shape[0])\n",
    "    print(\"-\" * 60)"
   ]
  },
  {
   "cell_type": "markdown",
   "metadata": {},
   "source": [
    "Note that this includes people with no treatment. From this table we can make 2 important observations: 1. The treatments seems to be somewhat effective, since less people have symptoms after the treatment than before. 2. There are few of the patients who actually experienced symptoms. This is an important observations since it means that the process for fitting the model will be difficult. For example, only 5 persons had symptoms with their stomach before treatment, and only 3 after. This is out of 877 observations, so we have to work to get a model who does not simply predict \"0\" all the time. We are going to get back to this point. "
   ]
  },
  {
   "cell_type": "markdown",
   "metadata": {},
   "source": [
    "Now let us look if this is different among the different treatment groups:"
   ]
  },
  {
   "cell_type": "code",
   "execution_count": 29,
   "metadata": {},
   "outputs": [
    {
     "name": "stdout",
     "output_type": "stream",
     "text": [
      "Percentages of people experiencing symptoms before and after treatment, in each treatment group\n",
      "------------------------------------------------------------------------------------------\n",
      "No-Taste/Smell before treatment: Treatment1: 5.6872, Treatment2: 3.3175, Both Treatments: 7.0833, No treatment: 6.0465\n",
      "No-Taste/Smell_after after treatment: Treatment1: 3.7915, Treatment2: 0.9479, Both Treatments: 0.0000, No treatment: 6.0465\n",
      "------------------------------------------------------------\n",
      "Fever before treatment: Treatment1: 4.7393, Treatment2: 1.8957, Both Treatments: 1.2500, No treatment: 3.2558\n",
      "Fever_after after treatment: Treatment1: 2.8436, Treatment2: 1.4218, Both Treatments: 0.8333, No treatment: 3.2558\n",
      "------------------------------------------------------------\n",
      "Headache before treatment: Treatment1: 0.9479, Treatment2: 0.9479, Both Treatments: 0.8333, No treatment: 0.4651\n",
      "Headache_after after treatment: Treatment1: 0.0000, Treatment2: 0.0000, Both Treatments: 0.0000, No treatment: 0.4651\n",
      "------------------------------------------------------------\n",
      "Pneumonia before treatment: Treatment1: 4.7393, Treatment2: 3.7915, Both Treatments: 2.9167, No treatment: 4.1860\n",
      "Pneumonia_after after treatment: Treatment1: 0.9479, Treatment2: 3.7915, Both Treatments: 0.0000, No treatment: 4.1860\n",
      "------------------------------------------------------------\n",
      "Stomach before treatment: Treatment1: 0.0000, Treatment2: 1.4218, Both Treatments: 0.4167, No treatment: 0.4651\n",
      "Stomach_after after treatment: Treatment1: 0.0000, Treatment2: 0.9479, Both Treatments: 0.0000, No treatment: 0.4651\n",
      "------------------------------------------------------------\n",
      "Myocarditis before treatment: Treatment1: 1.8957, Treatment2: 1.8957, Both Treatments: 1.6667, No treatment: 0.4651\n",
      "Myocarditis_after after treatment: Treatment1: 1.8957, Treatment2: 0.4739, Both Treatments: 0.0000, No treatment: 0.4651\n",
      "------------------------------------------------------------\n",
      "Blood-Clots before treatment: Treatment1: 2.3697, Treatment2: 6.1611, Both Treatments: 2.5000, No treatment: 4.6512\n",
      "Blood-Clots_after after treatment: Treatment1: 0.0000, Treatment2: 3.3175, Both Treatments: 0.0000, No treatment: 4.6512\n",
      "------------------------------------------------------------\n",
      "Death before treatment: Treatment1: 1.8957, Treatment2: 0.9479, Both Treatments: 0.8333, No treatment: 0.9302\n",
      "Death_after after treatment: Treatment1: 1.8957, Treatment2: 0.4739, Both Treatments: 0.4167, No treatment: 0.9302\n",
      "------------------------------------------------------------\n"
     ]
    }
   ],
   "source": [
    "print(f\"Percentages of people experiencing symptoms before and after treatment, in each treatment group\")\n",
    "print(\"-\" * 90)\n",
    "for sb, sa in zip(treat_1.columns[1:9], outcomes.columns):\n",
    "    t1_b = treat_1[treat_1[sb] == 1].shape[0]/len(treat_1)\n",
    "    t2_b = treat_2[treat_2[sb] == 1].shape[0]/len(treat_2)\n",
    "    tb_b = treat_both[treat_both[sb] == 1].shape[0]/len(treat_both)\n",
    "    tn_b = treat_none[treat_none[sb] == 1].shape[0]/len(treat_none)\n",
    "    t1_a = treat_1[treat_1[sa] == 1].shape[0]/len(treat_1)\n",
    "    t2_a = treat_2[treat_2[sa] == 1].shape[0]/len(treat_2)\n",
    "    tb_a = treat_both[treat_both[sa] == 1].shape[0]/len(treat_both)\n",
    "    tn_a = treat_none[treat_none[sa] == 1].shape[0]/len(treat_none)\n",
    "    print(f\"{sb} before treatment: Treatment1: {t1_b*100:.4f}, \\\n",
    "Treatment2: {t2_b*100:.4f}, Both Treatments: {tb_b*100:.4f}, No treatment: {tn_b*100:.4f}\")\n",
    "    print(f\"{sa} after treatment: Treatment1: {t1_a*100:.4f}, \\\n",
    "Treatment2: {t2_a*100:.4f}, Both Treatments: {tb_a*100:.4f}, No treatment: {tn_a*100:.4f}\")\n",
    "    print(\"-\" * 60)"
   ]
  },
  {
   "cell_type": "markdown",
   "metadata": {},
   "source": [
    "By these numbers alone we can establish a few things. Firstly, the group that got no treatment has no reduction in symptoms before and after, which makes sence. By this observation, and the fact that there are that the treatments reduces or keeps the number of symptoms the same in every case, we can establish that the treatments are somewhat effective. For headache, every treated person, with every treatment lose their headache. Treatment1 treats all of the Blood Clots cases, and many of the Pneumonia cases. For the rest of the cases, the treatment are either someowhat effective or not effective at all. This is good to note, because if we consider our final model to be good, it should pick up some of this. Fitting the model will be difficult however, since we have very few positives in the response. Finally, we observations that got both treatments, who are \"ressurected\", meaning that they where dead before the treatment, but not afterwards. We think this is a mistake in the dataset. "
   ]
  },
  {
   "cell_type": "markdown",
   "metadata": {},
   "source": [
    "## Fitting a model"
   ]
  },
  {
   "cell_type": "code",
   "execution_count": null,
   "metadata": {},
   "outputs": [],
   "source": []
  }
 ],
 "metadata": {
  "kernelspec": {
   "display_name": "Python 3",
   "language": "python",
   "name": "python3"
  },
  "language_info": {
   "codemirror_mode": {
    "name": "ipython",
    "version": 3
   },
   "file_extension": ".py",
   "mimetype": "text/x-python",
   "name": "python",
   "nbconvert_exporter": "python",
   "pygments_lexer": "ipython3",
   "version": "3.7.1"
  }
 },
 "nbformat": 4,
 "nbformat_minor": 2
}
