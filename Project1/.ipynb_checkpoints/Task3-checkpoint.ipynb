{
 "cells": [
  {
   "cell_type": "markdown",
   "metadata": {},
   "source": [
    "# Task 3\n",
    "\n",
    "## Ethical concerns\n",
    "We would like to address the ethical issues in this study. We assume that this study was done\n",
    "to investigate the efficiency and possible side effects of vaccines and the results of it\n",
    "will benefit the society we live in.\n",
    "\n",
    "## Consent to participate in the research\n",
    "This is an observational study, where the independent/response variable is not under the\n",
    "control of the researcher. An observational study uses observational data, which refers to\n",
    "information gathered without the presence of the subject of the research. In this study,\n",
    "the subjects of the research are patients. We do not have information about whether the\n",
    "data collection was ethical or lawful, or the subjects of the research consented to be a\n",
    "part of the study. In order to address the ethical issues, we are going to make some\n",
    "assumptions about the sampling methods and the subjects of research. If the patients have\n",
    "agreed to participate in the research, or have been informed that their health data would\n",
    "be used later in a research, have been informed about the purposes of the research and\n",
    "the research procedure, and have given their consent in a written, lawful way, then\n",
    "the data collection method is ethical and correct. If someone has hacked their way into a\n",
    "hospital database in order to conduct this research and gathered information without the\n",
    "consent of the individuals, then the patients' privacy and right to have safe health care\n",
    "has been violated, and this research is highly unethical and unlawful.\n",
    "\n",
    "## Privacy of the personal information\n",
    "The data do not contain personal information such as name, family name, date of birth etc.\n",
    "This indicates that the privacy of the subjects of research was somewhat protected as we\n",
    "are not able to trace back to individuals by simply looking at the data. However, the data\n",
    "contains information about the age, gender and income of the patients. None of these are\n",
    "considered as personal data, but a combination of  “innocent” data can be used to identify\n",
    "the patient. If the data belongs to the database of a hospital in Europe and fits the\n",
    "GDPR, there should not be any problem about privacy in this study and the privacy of the\n",
    "is protected patients.\n",
    "\n",
    "## Justice and fairness\n",
    "An important ethical principle in research is justice. The researcher must be fair to the\n",
    "participants and the participants’ needs must always come first. The participants must be\n",
    "treated equally throughout the study. The participants must be chosen such that the\n",
    "research population represents our society, i.e having 50% men and 50% women, including\n",
    "people who belong to different racial groups, minorities or cultures, including people\n",
    "with different socioeconomic or academic backgrounds, etc. The researcher must also make\n",
    "sure that people included in the research should not be included only because they are a\n",
    "population that is easy to access, have high availability or simply because they belong to a\n",
    "vulnerable group, such as children, elderly or mentally ill people, that are less able\n",
    "to decline an invitation to participate in the research. If the sample data belongs to a\n",
    "population that represents the society we live in, includes all genders, races and\n",
    "minorities, and if the researcher does not take the advantage of vulnerable groups, then\n",
    "we can say that the research is quite fair and just to its participants. If the researcher\n",
    "has gathered data from a population that belongs to a specific minority or of specific\n",
    "gender which has higher accessibility, or from people that are confined to an institution\n",
    "(i.e prisons, mental health hospitals, children's homes, retirement homes) without\n",
    "respecting or protecting their autonomy, then the research is highly unfair to its\n",
    "participants."
   ]
  }
 ],
 "metadata": {
  "kernelspec": {
   "display_name": "Python 3",
   "language": "python",
   "name": "python3"
  },
  "language_info": {
   "codemirror_mode": {
    "name": "ipython",
    "version": 3
   },
   "file_extension": ".py",
   "mimetype": "text/x-python",
   "name": "python",
   "nbconvert_exporter": "python",
   "pygments_lexer": "ipython3",
   "version": "3.7.1"
  }
 },
 "nbformat": 4,
 "nbformat_minor": 4
}
