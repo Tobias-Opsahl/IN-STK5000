{
 "cells": [
  {
   "cell_type": "code",
   "execution_count": 1,
   "metadata": {},
   "outputs": [],
   "source": [
    "import numpy as np \n",
    "import pandas as pd "
   ]
  },
  {
   "cell_type": "code",
   "execution_count": 2,
   "metadata": {},
   "outputs": [],
   "source": [
    "# Loading data"
   ]
  },
  {
   "cell_type": "code",
   "execution_count": 3,
   "metadata": {},
   "outputs": [],
   "source": [
    "def init_features(data):\n",
    "    \"\"\"\n",
    "    Initialize names for observation features and treatment features\n",
    "    \n",
    "    Symptoms (10 bits): Covid-Recovered, Covid-Positive, No-Taste/Smell, \n",
    "        Fever, Headache, Pneumonia, Stomach, Myocarditis, Blood-Clots, Death\n",
    "    Age (integer)\n",
    "    Gender (binary)\n",
    "    Income (floating)\n",
    "    Genome (128 bits)\n",
    "    Comorbidities (6 bits): Asthma, Obesity, Smoking, Diabetes, Heart disease, Hypertension\n",
    "    Vaccination status (3 bits): 0 for unvaccinated, 1 for receiving a specific vaccine for each bit\n",
    "    \"\"\"\n",
    "    features_data = pd.read_csv(data)\n",
    "    # features =  [\"Covid-Recovered\", \"Age\", \"Gender\", \"Income\", \"Genome\", \"Comorbidities\", \"Vaccination status\"]\n",
    "    features = []\n",
    "    # features += [\"Symptoms\" + str(i) for i in range(1, 11)]\n",
    "    features += [\"Covid-Recovered\", \"Covid-Positive\", \"No-Taste/Smell\", \"Fever\", \n",
    "                 \"Headache\", \"Pneumonia\", \"Stomach\", \"Myocarditis\", \n",
    "                 \"Blood-Clots\", \"Death\"]\n",
    "    features += [\"Age\", \"Gender\", \"Income\"]\n",
    "    features += [\"Genome\" + str(i) for i in range(1, 129)]\n",
    "    # features += [\"Comorbidities\" + str(i) for i in range(1, 7)]\n",
    "    features += [\"Asthma\", \"Obesity\", \"Smoking\", \"Diabetes\", \n",
    "                 \"Heart disease\", \"Hypertension\"]\n",
    "    features += [\"Vaccination status\" + str(i) for i in range(1, 4)]\n",
    "    features_data.columns = features\n",
    "    return features_data"
   ]
  },
  {
   "cell_type": "code",
   "execution_count": 4,
   "metadata": {},
   "outputs": [],
   "source": [
    "def init_actions():\n",
    "    actions = pd.read_csv(\"treatment_actions.csv\")\n",
    "    actions.columns = [\"Treatment1\", \"Treatment2\"]\n",
    "    return actions "
   ]
  },
  {
   "cell_type": "code",
   "execution_count": 5,
   "metadata": {},
   "outputs": [],
   "source": [
    "def init_outcomes():\n",
    "    \"\"\"\n",
    "    Initialize outcome data\n",
    "    \n",
    "    Post-Treatment Symptoms (10 bits): Past-Covid (Ignore), Covid+ (Ignore), \n",
    "    No-Taste/Smell, Fever, Headache, Pneumonia, Stomach, Myocarditis, \n",
    "    Blood-Clots, Death\n",
    "    \"\"\"\n",
    "    outcomes = pd.read_csv(\"treatment_outcomes.csv\")\n",
    "    outcome_names = [\"Past-Covid\", \"Covid+\", \"No-Taste/Smell\", \"Fever\", \"Headache\", \n",
    "                      \"Pneumonia\", \"Stomach\", \"Myocarditis\", \"Blood-Clots\", \"Death\"]\n",
    "    outcomes.columns = outcome_names\n",
    "    return outcomes"
   ]
  },
  {
   "cell_type": "code",
   "execution_count": 6,
   "metadata": {},
   "outputs": [],
   "source": [
    "# Fix dataset"
   ]
  },
  {
   "cell_type": "code",
   "execution_count": 7,
   "metadata": {},
   "outputs": [],
   "source": [
    "observation_features = init_features(\"observation_features.csv\")\n",
    "data_obs = observation_features\n",
    "actions = init_actions()\n",
    "outcomes = init_outcomes()\n",
    "treatment_features = init_features(\"treatment_features.csv\")\n",
    "data_treat = treatment_features\n",
    "# The task said to ignore the two first columns\n",
    "outcomes = outcomes.iloc[:, 2:]\n",
    "\n",
    "outcome_names_new = [i + \"_after\" for i in outcomes.columns]\n",
    "outcomes.columns = outcome_names_new\n",
    "\n",
    "treatment = data_treat.join(actions).join(outcomes)\n",
    "tmp1 = treatment.iloc[:, 0:13]\n",
    "tmp2 = treatment.iloc[:, 141:]\n",
    "# The three datasets for ex. 2 in one dataset, where all genes are omitted\n",
    "treat_no_genes = tmp1.join(tmp2)\n",
    "\n",
    "num_features = [\"Age\", \"Income\"]\n",
    "num_df = treat_no_genes[num_features]\n",
    "scaled_num_df = (num_df - num_df.mean()) / num_df.std()\n",
    "\n",
    "treat_no_genes_scaled = treat_no_genes\n",
    "treat_no_genes_scaled.iloc[:, 10] = scaled_num_df.iloc[:,0]\n",
    "treat_no_genes_scaled.iloc[:, 12] = scaled_num_df.iloc[:,1]\n",
    "\n",
    "# Remove column \"\"Covid-Positive\" (because everyone have covid)\n",
    "tmp1 = treat_no_genes.iloc[:, 0]\n",
    "tmp2 = treat_no_genes.iloc[:, 2:]\n",
    "treat_no_genes = pd.DataFrame(tmp1).join(tmp2)"
   ]
  },
  {
   "cell_type": "code",
   "execution_count": 8,
   "metadata": {},
   "outputs": [],
   "source": [
    "# Looking at differnt treatments"
   ]
  },
  {
   "cell_type": "code",
   "execution_count": 9,
   "metadata": {},
   "outputs": [],
   "source": [
    "# People with only treatment 1, 211 people\n",
    "treat_1 = treat_no_genes[(treat_no_genes[\"Treatment1\"] == 1) & (treat_no_genes[\"Treatment2\"] == 0)]\n",
    "# People with only treatment 2, 211 people\n",
    "treat_2 = treat_no_genes[(treat_no_genes[\"Treatment2\"] == 1) & (treat_no_genes[\"Treatment1\"] == 0)]\n",
    "# People with both treatments, 240 people\n",
    "treat_both = treat_no_genes[(treat_no_genes[\"Treatment1\"] == 1) & (treat_no_genes[\"Treatment2\"] == 1)]\n",
    "# People with no treatments, 215 people\n",
    "treat_none = treat_no_genes[(treat_no_genes[\"Treatment1\"] == 0) & (treat_no_genes[\"Treatment2\"] == 0)]"
   ]
  },
  {
   "cell_type": "code",
   "execution_count": 10,
   "metadata": {},
   "outputs": [],
   "source": [
    "# Number of people with different symptoms after"
   ]
  },
  {
   "cell_type": "code",
   "execution_count": 11,
   "metadata": {},
   "outputs": [
    {
     "name": "stdout",
     "output_type": "stream",
     "text": [
      "Number of people with different symtoms, total people is 877\n",
      "--------------------------------------------------------------\n",
      "People with symptom No-Taste/Smell_after:  23\n",
      "People with symptom Fever_after:  18\n",
      "People with symptom Headache_after:  1\n",
      "People with symptom Pneumonia_after:  19\n",
      "People with symptom Stomach_after:  3\n",
      "People with symptom Myocarditis_after:  6\n",
      "People with symptom Blood-Clots_after:  17\n",
      "People with symptom Death_after:  8\n"
     ]
    }
   ],
   "source": [
    "print(f\"Number of people with different symtoms, total people is {treat_no_genes.shape[0]}\")\n",
    "print(\"--------------------------------------------------------------\")\n",
    "for s in outcomes.columns:\n",
    "    print(f\"People with symptom {s}: \", treat_no_genes[treat_no_genes[s] == 1].shape[0])"
   ]
  },
  {
   "cell_type": "code",
   "execution_count": 12,
   "metadata": {},
   "outputs": [],
   "source": [
    "# People with symtom before treatment compared to people with symptom after treatment"
   ]
  },
  {
   "cell_type": "code",
   "execution_count": 13,
   "metadata": {},
   "outputs": [
    {
     "name": "stdout",
     "output_type": "stream",
     "text": [
      "Number of people with different symtoms before and after treatment, total people is 877\n",
      "------------------------------------------------------------------------------------------\n",
      "People with symptom No-Taste/Smell before treatment:  49\n",
      "People with symptom No-Taste/Smell_after after treatment:  23\n",
      "------------------------------------------------------------\n",
      "People with symptom Fever before treatment:  24\n",
      "People with symptom Fever_after after treatment:  18\n",
      "------------------------------------------------------------\n",
      "People with symptom Headache before treatment:  7\n",
      "People with symptom Headache_after after treatment:  1\n",
      "------------------------------------------------------------\n",
      "People with symptom Pneumonia before treatment:  34\n",
      "People with symptom Pneumonia_after after treatment:  19\n",
      "------------------------------------------------------------\n",
      "People with symptom Stomach before treatment:  5\n",
      "People with symptom Stomach_after after treatment:  3\n",
      "------------------------------------------------------------\n",
      "People with symptom Myocarditis before treatment:  13\n",
      "People with symptom Myocarditis_after after treatment:  6\n",
      "------------------------------------------------------------\n",
      "People with symptom Blood-Clots before treatment:  34\n",
      "People with symptom Blood-Clots_after after treatment:  17\n",
      "------------------------------------------------------------\n",
      "People with symptom Death before treatment:  10\n",
      "People with symptom Death_after after treatment:  8\n",
      "------------------------------------------------------------\n"
     ]
    }
   ],
   "source": [
    "print(f\"Number of people with different symtoms before and after treatment, total people is {treat_no_genes.shape[0]}\")\n",
    "print(\"-\" * 90)\n",
    "for sb, sa in zip(treat_no_genes.columns[1:9], outcomes.columns):\n",
    "    print(f\"People with symptom {sb} before treatment: \", treat_no_genes[treat_no_genes[sb] == 1].shape[0])\n",
    "    print(f\"People with symptom {sa} after treatment: \", treat_no_genes[treat_no_genes[sa] == 1].shape[0])\n",
    "    print(\"-\" * 60)"
   ]
  },
  {
   "cell_type": "code",
   "execution_count": null,
   "metadata": {},
   "outputs": [],
   "source": []
  },
  {
   "cell_type": "code",
   "execution_count": null,
   "metadata": {},
   "outputs": [],
   "source": []
  }
 ],
 "metadata": {
  "kernelspec": {
   "display_name": "Python 3",
   "language": "python",
   "name": "python3"
  },
  "language_info": {
   "codemirror_mode": {
    "name": "ipython",
    "version": 3
   },
   "file_extension": ".py",
   "mimetype": "text/x-python",
   "name": "python",
   "nbconvert_exporter": "python",
   "pygments_lexer": "ipython3",
   "version": "3.7.1"
  }
 },
 "nbformat": 4,
 "nbformat_minor": 2
}
