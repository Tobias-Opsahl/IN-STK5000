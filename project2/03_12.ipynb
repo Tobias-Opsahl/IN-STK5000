{
 "cells": [
  {
   "cell_type": "markdown",
   "metadata": {},
   "source": [
    "# Final project for Project 2 in IN-STK5000\n",
    "## Alva Hørlyk, Tobias Opsahl and Ece Cetinoglu\n",
    "\n",
    "This notebook is contains what will be the final version of Project 2. Since we have changed a bit under the way, the parts for the 1st and 2nd deadline is a bit different, and we therefore deliver the whole project in this notebook. We go through the exercises starting on the 1st deadline, and ending on the last one. "
   ]
  },
  {
   "cell_type": "markdown",
   "metadata": {},
   "source": [
    "# General information\n",
    "\n",
    "First of all, let us introduce our policy. We will look at treaments, and not vaccines.\n",
    "\n",
    "## Utility\n",
    "To calculate the utility, we look at each person, their symptoms, treaments and outcomes. For each person we calculate the reward, and the utility is simply the sum of the rewards. The reward is calculated by looking at each symptom. \n",
    "If the symptom was there prior to the treatment given, and not afterwards, a positive weight is added. If the symptom was not there before the treatment, but was there afterwards, a negative weight is added, times a penalty. Finally, if any treatment was used (it is not the case that no treatments where used), a treatment-cost is subtracted from the reward.\n",
    "\n",
    "## Policy overview\n",
    "\n",
    "We will provide a short overview of the policy here. The actual code should be pretty well documented, so you can find more details in the doc-strings. \n",
    "\n",
    "The policy takes the amount of treatments as an argument in the **constructor**, which we assume to be 3 for compatibility with the **simulator.py**. The method **observe()** takes in a poluation (features), actions and outcomes, and fit the models used to predict the outcomes. Note that one would need the population, the actions and the outcomes from treating the poluation with the actions (by using **population.treat()**), before calling the method, since they are required as arguments. To chose the actions for the initial call, one can use **initialize_data()**, to pick actions randomly, and getting the corresponding outcomes. For each treatment, for each symptom, we fit a logistic regression model. Given a treatment and a symtpom, the model takes in some columns from the features as input, and returns the probability for that symptom to be present after the given treatment. \n",
    "The method **feature_select()** will chose the columns we want to fit the model on. This is the given symptom, age, income, gender, and the comorbidities. We do not select the other symptoms, because we assume they are not realated. We do not use the genes, becuase after our analysis they seem to be unrealated to the response, and adds a lot of noise.\n",
    "**get_reward()** calculates the individual reward for each person in features, and **get_utility()** is the sum of the rewards. This was explained in the introductions and there are more details in the code. \n",
    "**get_action()** will chose a suitable treatment for each person in features. Note that **observe()** should have been called first. We use the fitted models to predict the probability of symptoms after a treatment, for each treatment. We then use the probability for symptoms as a response to **get_reward()**, to calculate the expected reward. For each person, we chose the treatment with the highest expected reward. If all of the treatments gives negative expected rewards, we chose no treatment. \n",
    "\n",
    "The help functions **add_feature_names()**, **add_action_names()** and **add_outcome_names()** sumply converts features, actions and outcomes to a pandas dataframe, with suitable column-names. \n",
    "\n",
    "**treatments_given()** checks how many persons recieved at least one treatment. \n",
    "\n",
    "We also make a class **ZeroModel**, to only predict zero if the response is only zero. This is because **LogisticRegression** does not work when all of the responses are zero."
   ]
  },
  {
   "cell_type": "markdown",
   "metadata": {},
   "source": [
    "Let's do the imports. Note that we renamed aux.py to aux_file.py to work on windows."
   ]
  },
  {
   "cell_type": "code",
   "execution_count": 6,
   "metadata": {},
   "outputs": [],
   "source": [
    "import numpy as np\n",
    "import pandas as pd\n",
    "from aux_file import symptom_names\n",
    "import simulator\n",
    "from IPython import embed\n",
    "from sklearn.linear_model import LogisticRegression\n",
    "from sklearn import preprocessing\n",
    "np.warnings.filterwarnings('ignore', category=np.VisibleDeprecationWarning)"
   ]
  },
  {
   "cell_type": "markdown",
   "metadata": {},
   "source": [
    "Finally, let's look at the actual code for the policy. We also include the RandomPolicy, since it is used in the initialization of the data."
   ]
  },
  {
   "cell_type": "code",
   "execution_count": 7,
   "metadata": {},
   "outputs": [],
   "source": [
    "class Policy:\n",
    "    def __init__(self, n_actions, action_set, threshold=0.5):\n",
    "        \"\"\" \n",
    "        In:\n",
    "            n_actions (int): the number of actions\n",
    "            action_set (list): the set of actions\n",
    "            threshold (float): Threshold for caterogizing from logistic regression\n",
    "        \"\"\"\n",
    "        self.n_actions = n_actions\n",
    "        self.action_set = action_set\n",
    "        self.threshold = threshold\n",
    "    \n",
    "    def initialize_data(self, n_population):\n",
    "        \"\"\"\n",
    "        This function should be called before using the rest of the methods.\n",
    "        This function simply makes a RandomPolicy of the same length as the\n",
    "        population will be. This data is then used to fit the models later. \n",
    "        In: \n",
    "            n_population (int): Size of population, the amount of persons.\n",
    "        Out:\n",
    "            features (np.array): The population, generated by simulator.py.\n",
    "            actions (np.array): The actions chosen by RandomPolicy on features.\n",
    "            outcomes (np.array): The outcomes when features are treated with actions.\n",
    "        These are also stored as class variables. \n",
    "        \"\"\"\n",
    "        population = simulator.Population(128, 3, 3)\n",
    "        treatment_policy = RandomPolicy(3, list(range(3))) \n",
    "        self.n_population = n_population\n",
    "        self.features = population.generate(self.n_population)\n",
    "        self.actions = treatment_policy.get_action(self.features)\n",
    "        self.outcomes = population.treat(list(range(n_population)), self.actions)\n",
    "        return self.features, self.actions, self.outcomes\n",
    "    \n",
    "    def feature_select(self, X, symptom_index=1):\n",
    "        \"\"\"\n",
    "        Chooses some columns in X.\n",
    "        0 Covid-Recovered\n",
    "        1 Covid-Positive\n",
    "        2 No-Taste/Smell\n",
    "        3 Fever\n",
    "        4 Headache\n",
    "        5 Pneumonia\n",
    "        6 Stomach\n",
    "        7 Myocarditis\n",
    "        8 Blood-Clots\n",
    "        9 Death\n",
    "        10 Age\n",
    "        11 Gender\n",
    "        12 Income\n",
    "        141 Asthma\n",
    "        142 Obesity\n",
    "        143 Smoking\n",
    "        144 Diabetes\n",
    "        145 Heart disease\n",
    "        146 Hypertension\n",
    "        \"\"\"\n",
    "        N = X[:, [symptom_index, 10, 11, 12, 141, 142, 143, 144, 143, 144, 145, 146]]\n",
    "        return N\n",
    "        \n",
    "    def get_reward(self, features, actions, outcome, penalty=1.5, treatment_cost=0.1):\n",
    "        \"\"\"\n",
    "        This method calculates the reward, which in a way is the utility of \n",
    "        a single indidual, for each row in the arguments.\n",
    "        We calculate this by the following:\n",
    "            For each person, if that person experience some symptom before the,\n",
    "        treatment, but not after, a positive weight is added to the reward. If\n",
    "        they did not experience any symptoms before, but do after the action, \n",
    "        then a negative weight is added, times a penalty (so new sick \n",
    "        individuals can be punished harder than curing sick persons is rewarded).\n",
    "        The weight corresponds to the severity of the symptoms. \n",
    "        Finally, if we apply any action at all, a treatment_cost is subtracted, \n",
    "        representing the cost of a treatment. \n",
    "        \n",
    "        In:\n",
    "            features (np.array): The population.\n",
    "            actions (np.array): The actions.\n",
    "            outcome (np.array): The outcome when population is treated with outcome.\n",
    "            penalty (float): How much worse it is to give a new symptom, than \n",
    "                to cure one. If 0, the reward overlooks if a person gets a new\n",
    "                symptom. When penalty -> \\infty, the reward only prevents new\n",
    "                symptoms, and do not care about the cured patients.\n",
    "            treatment_cost (float): The cost of a treatment. If one of the \n",
    "                columns in actions is non-zero, treatment_cost is subtracted\n",
    "                from the reward. If not, then no treatment is used, and \n",
    "                we do not subtract it. \n",
    "        Out:\n",
    "            rewards (np.array): Array of rewards, corresponding to the persons\n",
    "                in features (and actions and outcome).\n",
    "                \n",
    "        \"\"\"\n",
    "        rewards = np.zeros(len(outcome))\n",
    "        weights = [0, 0.2, 0.1, 0.1, 0.1, 0.5, 0.2, 0.5, 1.0, 100.0]\n",
    "        threshold = self.threshold\n",
    "        for t in range(len(features)):\n",
    "            utility = 0\n",
    "            for i in range(1, len(weights)): # i loops over the sypmtom indecies\n",
    "                if features[t, i] == 1 and outcome[t, i-1] < threshold:\n",
    "                    utility += weights[i]\n",
    "                if features[t, i] == 0 and outcome[t, i-1] >= threshold:\n",
    "                    utility -= weights[i] * penalty\n",
    "            if (np.sum(actions[t, :]) > 0): # Some action were used\n",
    "                utility = utility - treatment_cost # The treatment is not free\n",
    "            rewards[t] = utility \n",
    "        return rewards\n",
    "        \n",
    "    def observe(self, features, actions, outcomes):\n",
    "        \"\"\"\n",
    "        This functions takes in a population, the action used on them, and the\n",
    "        outcome from doing so. Then it will update the model. \n",
    "        The model is updated accordingly:\n",
    "            For each treatment (which should be 3), for each symptoms (which is\n",
    "        9, Covid-Recovered is overlooked), a logistic regression method is\n",
    "        fitted. The models are stored as class variable. If all of the responses\n",
    "        are 0, then a model constantly predicting 0 is used. The models are\n",
    "        fitted for each action for each symptoms with the features and action\n",
    "        as input, and the post_symptom (symptom in outcomes) as response. \n",
    "        IN OTHER WORDS: Each model predicts wether a certain treatment will \n",
    "        for a certain symptom will continue to be there, after the treatment.\n",
    "            NOTE: To start the method, one could get the inputs by calling\n",
    "        initialize_data(), to get a random starting point to fit the data on.\n",
    "        \n",
    "        In: \n",
    "            features (t*|X| array): The population\n",
    "            actions (t*|A| array): The actions the population is treated with\n",
    "            outcomes (t*|Y| array): The outcomes from treating the population\n",
    "                with the actions.\n",
    "        \"\"\"\n",
    "        self.features = features\n",
    "        self.actions = actions\n",
    "        self.outcomes = outcomes\n",
    "        symptom_indecies = [1, 2, 3, 4, 5, 6, 7, 8, 9] # Indecies for symptoms\n",
    "        models = []\n",
    "        for treatment in range(self.n_actions): # for each treatment i\n",
    "            indecies = self.actions[:, treatment] == 1 # treament i is used\n",
    "            for symptom_index in symptom_indecies: # for each symptom\n",
    "                feat = self.features[indecies]\n",
    "                out = self.outcomes[indecies]\n",
    "                x_data = self.feature_select(feat, symptom_index)\n",
    "                y_data = out[:, symptom_index]\n",
    "                logistic_model = LogisticRegression()\n",
    "                scaler = preprocessing.StandardScaler().fit(x_data)\n",
    "                x_scaled = scaler.transform(x_data)\n",
    "                if sum(y_data) != 0: \n",
    "                    logistic_model.fit(x_scaled, y_data)\n",
    "                    # model = logistic_model.fit(x_scaled, y_data)\n",
    "                else: # If all y_data is 0, we just predict 0. LogisticRegression would crash\n",
    "                    logistic_model = ZeroModel(\"Name\")\n",
    "                models.append(logistic_model)\n",
    "        self.models1 = models[:9] # Treatments / n_actions should be 3\n",
    "        self.models2 = models[9:18]\n",
    "        self.models3 = models[18:]\n",
    "        \n",
    "    def get_utility(self, features, actions, outcome, penalty=1.5, treatment_cost=0.1):\n",
    "        \"\"\" \n",
    "        Return the empirical utility for a population. This is defined by the\n",
    "        sum of the rewards, so se Policy.get_reward() for explaination of how\n",
    "        we define our utility.\n",
    "        \n",
    "        Args:\n",
    "            features (t*|X| array)\n",
    "            actions (t*|A| array)\n",
    "            outcomes (t*|Y| array)\n",
    "            penalty (float): penalty for introducing new symptoms.\n",
    "            treatment_cost (float): Cost for using a treatment\n",
    "        Out:\n",
    "            utility (float): Empirical utility of the policy on this data.\n",
    "        \"\"\"\n",
    "        utility = sum(self.get_reward(features, actions, outcome, penalty, treatment_cost))\n",
    "        return utility\n",
    "        \n",
    "    def get_action(self, features):\n",
    "        \"\"\"\n",
    "        Get actions for one or more people. observe() should already have been\n",
    "        called, so the model is fitted. \n",
    "        The actions are chosen as follows:\n",
    "            For each person in the dataset, we use the models to extimate the \n",
    "        probability for a treatment introducing or removing a symptom, for\n",
    "        each symptom. Then we have a the probability for the post_symptoms, \n",
    "        which behaves as the \"expected response\". For each person, we then\n",
    "        see which treatment gives the largest expected reward. If all the \n",
    "        expected rewards is below zero, we do not treat them, if at least one\n",
    "        is positive, we chose the one that is largest.\n",
    "        In: \n",
    "            features (t*|X| array): Population to be found an action on\n",
    "        Out: \n",
    "            actions (t*|A| array): Actions chosen\n",
    "        \"\"\"\n",
    "        symptom_indecies = [1, 2, 3, 4, 5, 6, 7, 8, 9]\n",
    "        post_symptoms1 = np.zeros((len(features), len(symptom_indecies)))\n",
    "        post_symptoms2 = np.zeros((len(features), len(symptom_indecies)))\n",
    "        post_symptoms3 = np.zeros((len(features), len(symptom_indecies)))\n",
    "        \n",
    "        for symptom_index in symptom_indecies: \n",
    "            x_data = self.feature_select(features, symptom_index)\n",
    "            scaler = preprocessing.StandardScaler().fit(x_data)\n",
    "            x_scaled = scaler.transform(x_data)\n",
    "            pred1 = self.models1[symptom_index - 1].predict_proba(x_scaled)[:, 1]\n",
    "            pred2 = self.models2[symptom_index - 1].predict_proba(x_scaled)[:, 1]\n",
    "            pred3 = self.models3[symptom_index - 1].predict_proba(x_scaled)[:, 1]\n",
    "            post_symptoms1[:, symptom_index-1] = pred1\n",
    "            post_symptoms2[:, symptom_index-1] = pred2\n",
    "            post_symptoms3[:, symptom_index-1] = pred3\n",
    "        \n",
    "        n_population = len(features)\n",
    "        mock_actions = np.ones((n_population, 3)) # Represent an actions has been done\n",
    "        rewards1 = self.get_reward(features, mock_actions, post_symptoms1)\n",
    "        rewards2 = self.get_reward(features, mock_actions, post_symptoms2)\n",
    "        rewards3 = self.get_reward(features, mock_actions, post_symptoms3)\n",
    "        \n",
    "        actions = np.zeros([n_population, self.n_actions]) # Initialize\n",
    "        expected_utility = 0\n",
    "        for t in range(n_population):\n",
    "            # print(f\"1: {pred1[t]} 2: {pred2[t]} 3: {pred3[t]}\")\n",
    "            if np.max(np.asarray([rewards1[t], rewards2[t], rewards3[t]])) < 0:\n",
    "                # All the treatments have expected utility less than zero\n",
    "                actions[t, 0] = 0 # Do nothing\n",
    "            # If at least one expected reward is bigger than 0, we chose the biggest\n",
    "            elif rewards1[t] >= rewards2[t] and rewards1[t] >= rewards3[t]:\n",
    "                actions[t, 0] = 1\n",
    "                expected_utility += rewards1[t]\n",
    "            elif rewards2[t] >= rewards1[t] and rewards2[t] >= rewards3[t]:\n",
    "                actions[t, 1] = 1\n",
    "                expected_utility += rewards2[t]\n",
    "            elif rewards3[t] >= rewards1[t] and rewards3[t] >= rewards2[t]:\n",
    "                actions[t, 2] = 1\n",
    "                expected_utility += rewards3[t]\n",
    "        # embed()\n",
    "        self.expected_utility = expected_utility\n",
    "        return actions\n",
    "    \n",
    "    def get_arguments(self):\n",
    "        return self.features, self.actions, self.outcomes\n",
    "\n",
    "class RandomPolicy(Policy):\n",
    "    \"\"\" This is a purely random policy!\"\"\"\n",
    "\n",
    "    def get_utility(self, features, action, outcome):\n",
    "        \"\"\"Here the utiliy is defined in terms of the outcomes obtained only, ignoring both the treatment and the previous condition.\n",
    "        \"\"\"\n",
    "        actions = self.get_action(features)\n",
    "        utility = 0\n",
    "        utility -= 0.2 * sum(outcome[:,symptom_names['Covid-Positive']])\n",
    "        utility -= 0.1 * sum(outcome[:,symptom_names['Taste']])\n",
    "        utility -= 0.1 * sum(outcome[:,symptom_names['Fever']])\n",
    "        utility -= 0.1 * sum(outcome[:,symptom_names['Headache']])\n",
    "        utility -= 0.5 * sum(outcome[:,symptom_names['Pneumonia']])\n",
    "        utility -= 0.2 * sum(outcome[:,symptom_names['Stomach']])\n",
    "        utility -= 0.5 * sum(outcome[:,symptom_names['Myocarditis']])\n",
    "        utility -= 1.0 * sum(outcome[:,symptom_names['Blood-Clots']])\n",
    "        utility -= 100.0 * sum(outcome[:,symptom_names['Death']])\n",
    "        return utility\n",
    "    \n",
    "    def get_action(self, features):\n",
    "        \"\"\"Get a completely random set of actions, but only one for each individual.\n",
    "        If there is more than one individual, feature has dimensions t*x matrix, otherwise it is an x-size array.\n",
    "        \n",
    "        It assumes a finite set of actions.\n",
    "        Returns:\n",
    "        A t*|A| array of actions\n",
    "        \"\"\"\n",
    "\n",
    "        n_people = features.shape[0]\n",
    "        ##print(\"Acting for \", n_people, \"people\");\n",
    "        actions = np.zeros([n_people, self.n_actions])\n",
    "        for t in range(features.shape[0]):\n",
    "            action = np.random.choice(self.action_set)\n",
    "            if (action >= 0):\n",
    "                actions[t,action] = 1\n",
    "            \n",
    "        return actions"
   ]
  },
  {
   "cell_type": "markdown",
   "metadata": {},
   "source": [
    "Here are the help functions:"
   ]
  },
  {
   "cell_type": "code",
   "execution_count": 8,
   "metadata": {},
   "outputs": [],
   "source": [
    "def add_feature_names(X):\n",
    "    \"\"\"\n",
    "    Convert a population / features / X to a pandas dataframe with suitable names.\n",
    "    \"\"\"\n",
    "    features_data = pd.DataFrame(X)\n",
    "    features = []\n",
    "    features += [\"Covid-Recovered\", \"Covid-Positive\", \"No-Taste/Smell\", \"Fever\", \n",
    "                 \"Headache\", \"Pneumonia\", \"Stomach\", \"Myocarditis\", \n",
    "                 \"Blood-Clots\", \"Death\"]\n",
    "    features += [\"Age\", \"Gender\", \"Income\"]\n",
    "    features += [\"Genome\" + str(i) for i in range(1, 129)]\n",
    "    features += [\"Asthma\", \"Obesity\", \"Smoking\", \"Diabetes\", \n",
    "                 \"Heart disease\", \"Hypertension\"]\n",
    "    features += [\"Vaccination status\" + str(i) for i in range(1, 4)]\n",
    "    features_data.columns = features\n",
    "    return features_data\n",
    "    \n",
    "def add_action_names(actions):\n",
    "    \"\"\"\n",
    "    Convert np.array of actions to a pandas dataframe with suitable names.\n",
    "    \"\"\"\n",
    "    df = pd.DataFrame(actions)\n",
    "    names = [\"Treatment\" + str(i) for i in range(1, actions.shape[1] + 1)]\n",
    "    df.columns = names\n",
    "    return df\n",
    "\n",
    "def add_outcome_names(outcomes):\n",
    "    \"\"\"\n",
    "    Convert a np.array of outcomes / post_symptoms to a pandas dataframe with\n",
    "    suitable names. \n",
    "    \"\"\"\n",
    "    df = pd.DataFrame(outcomes)\n",
    "    columns = [\"Covid-Recovered\", \"Covid-Positive\", \"No-Taste/Smell\", \"Fever\", \n",
    "                  \"Headache\", \"Pneumonia\", \"Stomach\", \"Myocarditis\", \n",
    "                  \"Blood-Clots\", \"Death\"]\n",
    "    for i in range(len(columns)):\n",
    "        columns[i] = \"Post_\" + columns[i]\n",
    "    df.columns = columns\n",
    "    return df\n",
    "\n",
    "def treatments_given(actions):\n",
    "    \"\"\"\n",
    "    Given a set of actions, this function will return how many the patient who\n",
    "    recieved at least one action, in other words, do not have 0 for every\n",
    "    action column.\n",
    "    \"\"\"\n",
    "    actions = np.asmatrix(actions)\n",
    "    s = 0\n",
    "    for i in range(len(actions)):\n",
    "        if np.sum(actions[i, :]) > 0:\n",
    "            s += 1\n",
    "    return s\n",
    "\n",
    "class ZeroModel:\n",
    "    \"\"\"\n",
    "    This class is simply made for always prediction 0. LogisticRegression\n",
    "    does not work for only 0 inputs in the response, so we do this instead.\n",
    "    \"\"\"\n",
    "    def __init__(self, name=\"name\"):\n",
    "        self.name = name\n",
    "    \n",
    "    def predict(self, array):\n",
    "        \"\"\"\n",
    "        0 or 1 predictions, which should always be 0.\n",
    "        \"\"\"\n",
    "        return np.zeros(len(array))\n",
    "    \n",
    "    def predict_proba(self, array):\n",
    "        \"\"\"\n",
    "        Probability predictions for \"yes\" and \"no\" for each input, 0 and 1.\n",
    "        \"\"\"\n",
    "        prob = np.zeros((len(array), 2))\n",
    "        prob[:, 1] = np.ones(len(array))\n",
    "        return prob"
   ]
  },
  {
   "cell_type": "markdown",
   "metadata": {},
   "source": [
    "# 1st Deadline\n",
    "\n",
    "We will now explore ways to add privacy to the data and the models"
   ]
  },
  {
   "cell_type": "markdown",
   "metadata": {},
   "source": [
    "## a)\n",
    "One simple way to protect the private information of the individuals is to just hide direct identifiers. However this is generally insufficient as attackers may have other identifying information. This information, combined with the information in the database, can reveal identities. \n",
    "<br>\n",
    "Another method is k-anonymization, where k-1 people are indistinguishable from each other (with respect to quasi-identifiers) in the database. Columns with personal information, like name and date of birth are removed, and the rest of the information is generalized. For instance can a variable like age be categorical with different age-groups. Even though k-anonymization is an improvement from simply removing direct identifiers, an attacker with enough imformation can still infer something about the individuals.\n",
    "<br>\n",
    "If we assume that an attacker can have a lot of side-information, it is better to use differential privacy. For instance, we can use the Laplace mechanism, where Laplace distributed noise is added in the model. How much noise we add determines how private the result is. We can randomly chose a fraction of the data and add noise to it. This way, even if the data was publicly available, one would not be certain if the it really was true. The goal would obviously add a fraction of noise that makes the data private enough, but do not lower the predictions significantly. \n",
    "<br>\n",
    "In this task the policy is released and can be used by the public. Then the data have to be anonymized before $\\pi(a|x)$ is obtained. This can be done using a local privacy model, where independent Laplace noise $\\omega_{i}$ is added to each individual. We have $y_{i}=x_{i}+\\omega_{i}$ and use it to get $a=n^{-1}\\sum_{i=1}^{n}y_{i}$."
   ]
  },
  {
   "cell_type": "markdown",
   "metadata": {},
   "source": [
    "## b) \n",
    "Here we assume that the analysts can be trusted with private information, so only the result made available for the public have to be privatized. Then we can use a centralized privacy model. We obtain $\\pi(a|x)$ with $a=n^{-1}\\sum_{i=1}^{n}x_{i}+\\omega$. We do not need to privatize the data, just a bit of the decisions of the model we fitted on it. \n",
    "\n",
    "In other words, we can add noise to the actions after fitting the model. Without changing any of the observations in the population, we can fit a model that decides actions, and then add a bit of noise to the actions. This is so it one could not figure out personal data based on the action we chose, which might happen if the model picks ups a simple pattern in the data. "
   ]
  },
  {
   "cell_type": "markdown",
   "metadata": {},
   "source": [
    "For the actual implementation, we use both approaches. First, we add noise to the data itself and fit a model. Then we try to fit a model first, then add noise to the results. \n",
    "For the first approach, we implement functions for adding noise to our data. For the binary data, the function randomize() choses a ratio \"1-theta\" from a column, and changes it with a coinflip (50-50 chance of 0 and 1). For the continious variables, we replace the coinflip with the same data pluss an addition drawn from the Laplace distribution.\n",
    "\n",
    "We then loop over all the desired columns in our population and add noise one by one. The desired columns are the Symptoms,  Age, Income, Gender and the co-morbidities. We were not sure wether or not to add symptoms. By calculation the utility with the privatized X and the actions that was got from them, it would drasticly change the utility. For example, let's say that our noise happend add a lot of symptoms. Then this would artificially make our model look way better than it actually would be, since they would be, since it would look like it removed a lot of positive cases. The utility is calculated directly on the pre-symptom, action and post-symptom, so we did not want to add noise here. However, if we would send in a non-privatized X, and the actions found on the privatized X, one would need to original data to calculate the utility, and that would require a lot of information loss. Therefore, we preffered not to add noise to the symptoms. \n",
    "\n",
    "For the second approach, we simply fit the model on the data, then sends the outcome columns to the functions to add noise. We will do this two ways. First, we simply shuffle a persons actions with a \"1-theta\" probability. This may change the treatment a treated person is given, but it will not change a non-treated person, since all of their action-columns will correspond to 0. Therefore, we secondly draw 1, 2, 3 or no-treatment, with a 1-theta probability, for each person. "
   ]
  },
  {
   "cell_type": "markdown",
   "metadata": {},
   "source": [
    "## c) \n",
    "\n",
    "Here is the implementation of the methods explained above. "
   ]
  },
  {
   "cell_type": "code",
   "execution_count": 9,
   "metadata": {},
   "outputs": [],
   "source": [
    "def privatize_actions_shuffle(A, theta):\n",
    "    \"\"\"\n",
    "    Adds noise to the actions chosen by the model. This is done by shuffling \n",
    "    the actions given to each person, with a probability 1 - theta. \n",
    "    \"\"\"\n",
    "    A1 = A.copy()\n",
    "    coins = np.random.choice([True, False], p=(theta, (1-theta)), size=A.shape[0])\n",
    "    for i in range(A1.shape[0]):\n",
    "        if not coins[i]:\n",
    "            np.random.shuffle(A1[i, :])\n",
    "    return A1\n",
    "\n",
    "def privatize_actions_draw(A, theta):\n",
    "    \"\"\"\n",
    "    Adds noise to the actions chosen by the model. This is done by choicing a \n",
    "    new action with a probability 1-theta.\n",
    "    \"\"\"\n",
    "    A1 = A.copy()\n",
    "    coins = np.random.choice([True, False], p=(theta, (1-theta)), size=A.shape[0])\n",
    "    for i in range(A1.shape[0]):\n",
    "        if not coins[i]:\n",
    "            A1[i, :] = np.zeros(A.shape[1])\n",
    "            coin = np.random.randint(A.shape[1]+1)\n",
    "            if coin != A.shape[1]:\n",
    "                A1[i, coin] = 1\n",
    "    return A1\n",
    "    \n",
    "def randomize(a, theta):\n",
    "    \"\"\"\n",
    "    Randomize a single column. Simply add a coin-toss to 1- theta amount of the data\n",
    "    \"\"\"\n",
    "    coins = np.random.choice([True, False], p=(theta, (1-theta)), size=a.size)\n",
    "    noise = np.random.choice([0, 1], size=a.size)\n",
    "    response = np.array(a)\n",
    "    response[~coins] = noise[~coins]\n",
    "    return response \n",
    "    \n",
    "def randomize_cont(a, theta, decay=1):\n",
    "    coins = np.random.choice([True, False], p=(theta, (1-theta)), size=a.size)\n",
    "    noise = np.random.laplace(0, decay, a.size)\n",
    "    response = np.array(a)\n",
    "    response[~coins] = response[~coins] + noise[~coins]\n",
    "    return response\n",
    "    \n",
    "def privatize(X, theta):\n",
    "    \"\"\"\n",
    "    Adds noice to the data, column by column. The continious and discreet \n",
    "    columns are treated differently. \n",
    "    \"\"\"\n",
    "    df = add_feature_names(X).copy()\n",
    "    df[\"Age\"] = randomize_cont(df[\"Age\"], theta)\n",
    "    df[\"Income\"] = randomize_cont(df[\"Income\"], theta)\n",
    "    columns = [\"Gender\", \"Asthma\", \"Obesity\", \"Smoking\", \n",
    "               \"Diabetes\", \"Heart disease\", \"Hypertension\"]\n",
    "    for column in columns:\n",
    "        df[column] = randomize(df[column], theta)\n",
    "    # symptoms = [\"Covid-Recovered\", \"Covid-Positive\", \"No-Taste/Smell\", \"Fever\", \n",
    "    #            \"Headache\", \"Pneumonia\", \"Stomach\", \"Myocarditis\", \"Blood-Clots\", \"Death\"]\n",
    "    # for columns in symptoms: # Shuffle symptoms\n",
    "    #     df[column] = randomize(df[column], theta)\n",
    "    return np.asarray(df)"
   ]
  },
  {
   "cell_type": "markdown",
   "metadata": {},
   "source": [
    "## d)\n",
    "Now lets test:"
   ]
  },
  {
   "cell_type": "code",
   "execution_count": 10,
   "metadata": {},
   "outputs": [],
   "source": [
    "np.random.seed(57)\n",
    "n_genes = 128\n",
    "n_vaccines = 3\n",
    "n_treatments = 3\n",
    "n_population = 10000\n",
    "population = simulator.Population(n_genes, n_vaccines, n_treatments)\n",
    "np.random.seed(57)\n",
    "X = population.generate(n_population) # Population\n",
    "treatment_policy = Policy(n_treatments, list(range(n_treatments)))\n",
    "np.random.seed(57)\n",
    "features, actions, outcomes = treatment_policy.initialize_data(n_population)\n",
    "treatment_policy.observe(features, actions, outcomes)\n",
    "A = treatment_policy.get_action(X) # Actions \n",
    "U = population.treat(list(range(n_population)), A)"
   ]
  },
  {
   "cell_type": "code",
   "execution_count": 11,
   "metadata": {},
   "outputs": [],
   "source": [
    "np.random.seed(577)\n",
    "thetas = [1, 0.99, 0.95, 0.9, 0.8, 0.7, 0.6, 0.5, 0.4, 0.3, 0.2, 0.1, 0]\n",
    "utility_list1 = np.zeros(len(thetas) + 1)\n",
    "utility_list2 = np.zeros(len(thetas) + 1)\n",
    "utility_list3 = np.zeros(len(thetas) + 1)\n",
    "utility_list1[0] = treatment_policy.get_utility(X, A, U)\n",
    "utility_list2[0] = treatment_policy.get_utility(X, A, U)\n",
    "utility_list3[0] = treatment_policy.get_utility(X, A, U)\n",
    "for i in range(len(thetas)):\n",
    "    np.random.seed(57)\n",
    "    X_noise = privatize(X, thetas[i])\n",
    "    A_noise1 = treatment_policy.get_action(X_noise)\n",
    "    A_noise2 = privatize_actions_shuffle(A, thetas[i])\n",
    "    A_noise3 = privatize_actions_draw(A, thetas[i])\n",
    "\n",
    "    U1 = population.treat(list(range(n_population)), A_noise1)\n",
    "    U2 = population.treat(list(range(n_population)), A_noise2)\n",
    "    U3 = population.treat(list(range(n_population)), A_noise3)\n",
    "\n",
    "    utility_list1[i+1] = treatment_policy.get_utility(X_noise, A_noise1, U1)\n",
    "    utility_list2[i+1] = treatment_policy.get_utility(X, A_noise2, U2)\n",
    "    utility_list3[i+1] = treatment_policy.get_utility(X, A_noise3, U3)\n"
   ]
  },
  {
   "cell_type": "code",
   "execution_count": 12,
   "metadata": {},
   "outputs": [
    {
     "data": {
      "text/plain": [
       "array([2311.7 , 1535.55,  413.55, 1758.8 , 1189.25, 1502.3 , 1753.05,\n",
       "       2057.95, 1804.05, 1608.3 , 2109.5 , 2656.15, 2883.8 , 2684.1 ])"
      ]
     },
     "execution_count": 12,
     "metadata": {},
     "output_type": "execute_result"
    }
   ],
   "source": [
    "utility_list1"
   ]
  },
  {
   "cell_type": "code",
   "execution_count": 13,
   "metadata": {},
   "outputs": [
    {
     "data": {
      "text/plain": [
       "array([ 2311.7 ,  1645.35,  1383.55,  1642.  ,  1078.05,  1522.6 ,\n",
       "         565.15,   752.9 ,   656.55,   841.9 ,   -66.35, -1949.85,\n",
       "        -507.65, -1446.85])"
      ]
     },
     "execution_count": 13,
     "metadata": {},
     "output_type": "execute_result"
    }
   ],
   "source": [
    "utility_list2"
   ]
  },
  {
   "cell_type": "code",
   "execution_count": 14,
   "metadata": {},
   "outputs": [
    {
     "data": {
      "text/plain": [
       "array([ 2311.7 ,  2409.5 ,  1089.7 ,  1688.8 ,  1917.8 ,   993.45,\n",
       "         304.7 ,  -900.2 ,  -688.3 , -2214.7 , -1681.25, -2023.1 ,\n",
       "       -4246.65, -5119.2 ])"
      ]
     },
     "execution_count": 14,
     "metadata": {},
     "output_type": "execute_result"
    }
   ],
   "source": [
    "utility_list3"
   ]
  },
  {
   "cell_type": "markdown",
   "metadata": {},
   "source": [
    "First of all, there is a lot of noise. If one tries to run again with different seeds, one would see that the results highly varies. However, there is a definite downwards trend proportional to the increase of noise for the last two lists. These are the list that corresponds to shuffling and making new draws for the actions. This means that our model is working better than assigning random actions, but that we can not add too much privacy if we want to keep the utility high.\n",
    "\n",
    "Note that or model only works with a lot of data. The response for a lot of the symptoms are rare, and we think there is a lot of noise in the data, so our logistic regression model needs some thousands of observation to actually get a positive utility. Therefore, finding the optimal theta parameter is hard. There is much noise in the utility calculated, wo we have to run the test many times and look at the standard deviation.\n",
    "\n",
    "However, the data that privatized the data prior to finding the actions performed a lot better. Even though it varied a lot, it the complete randomization (with theta = 0) had a higher utility than for no privacy (theta = 1). We do find this a bit strange, but it does make sence. Since the actions are fitted on the *privatized data*, the actions match the data with respect to the symptoms, since we did not randomize these. The sensitive variables may be a lot of noise. For the privitazed data, we first fitted the actions on the original population, then privatized the results. We think that the logistic regression model might adapt to the randomization in X better than shuffling the predictions. Either way, privatizing X also allows for better privacy, since then we do not leak information when we update our actions, and we do not need our original X for calculating the utility. Therefore, we prefer the method of adding the noice to the data of the patients. "
   ]
  },
  {
   "cell_type": "markdown",
   "metadata": {},
   "source": [
    "# 2nd deadline"
   ]
  },
  {
   "cell_type": "markdown",
   "metadata": {},
   "source": [
    "# Fair Policies"
   ]
  },
  {
   "cell_type": "markdown",
   "metadata": {},
   "source": [
    "We would like to investigate the fairness of our decision-making algorithm. When we are deciding the treatment method for each individual in our population, we want to make sure that the decision is made fairly and we are just to the individuals. The sensitive variables in our data set are `Age`, `Income` and `Gender`. We want ensure that the sensitive variables do not affect the treatment given to the individuals, such that $\\mathbb{P}^{\\pi}_{\\theta}(a|z) = \\mathbb{P}^{\\pi}_{\\theta}(a)$ for all actions $a$ and sensitive variables $z$."
   ]
  },
  {
   "cell_type": "markdown",
   "metadata": {},
   "source": [
    "For example, if we have more men than women in our population, the decision-making algorithm will be adapted to men."
   ]
  },
  {
   "cell_type": "markdown",
   "metadata": {},
   "source": [
    "We will now analyze the population and look at some numbers and graphs. We will start by generating data and preprocessing. We remove the columns corresponding to genes, and we add the action columns which corresponds to the treatment chosen for each individual."
   ]
  },
  {
   "cell_type": "code",
   "execution_count": 15,
   "metadata": {},
   "outputs": [],
   "source": [
    "# Import packages\n",
    "import numpy as np\n",
    "import pandas as pd\n",
    "import seaborn as sns\n",
    "import matplotlib.pyplot as plt"
   ]
  },
  {
   "cell_type": "code",
   "execution_count": 16,
   "metadata": {},
   "outputs": [],
   "source": [
    "# Generate data\n",
    "np.random.seed(57)\n",
    "n_genes = 128\n",
    "n_vaccines = 3\n",
    "n_treatments = 3\n",
    "n_population = 10000\n",
    "population = simulator.Population(n_genes, n_vaccines, n_treatments)\n",
    "treatment_policy = Policy(n_treatments, list(range(n_treatments)))\n",
    "X = population.generate(n_population)\n",
    "features, actions, outcomes = treatment_policy.initialize_data(n_population)\n",
    "treatment_policy.observe(features, actions, outcomes)\n",
    "df_X = add_feature_names(X)"
   ]
  },
  {
   "cell_type": "code",
   "execution_count": 17,
   "metadata": {},
   "outputs": [],
   "source": [
    "# Remove genes\n",
    "# temp1 = df_X.iloc[:, :13] \n",
    "# temp2 = df_X.iloc[:, -9:]\n",
    "# features = temp1.join(temp2)\n",
    "features = df_X\n",
    "np.random.seed(57)\n",
    "A = treatment_policy.get_action(X)\n",
    "actions = pd.DataFrame(A)\n",
    "actions.columns = [\"Treatment1\", \"Treatment2\", \"Treatment3\"]\n",
    "features = features.join(actions)\n",
    "# Create a single Treatment column for easier data visualizing \n",
    "#treat = np.zeros(features.shape[0])\n",
    "#features[\"Treatment\"] = treat\n",
    "features.loc[features.Treatment1 == 1.0, \"Treatment\"] = \"1\"\n",
    "features.loc[features.Treatment2 == 1.0, \"Treatment\"] = \"2\"\n",
    "features.loc[features.Treatment3 == 1.0, \"Treatment\"] = \"3\"\n",
    "features[\"Treatment\"] = features[\"Treatment\"].fillna(\"0\")\n",
    "#features[\"Income\"]"
   ]
  },
  {
   "cell_type": "markdown",
   "metadata": {},
   "source": [
    "## Gender"
   ]
  },
  {
   "cell_type": "markdown",
   "metadata": {},
   "source": [
    "We will first investigate `Gender`. We assume that `Gender` is `0.0` for men and `1.0` for women."
   ]
  },
  {
   "cell_type": "code",
   "execution_count": 18,
   "metadata": {},
   "outputs": [],
   "source": [
    "# Gender\n",
    "women_nr = features[features.Gender == 1.0].shape[0]\n",
    "men_nr = features[features.Gender == 0.0].shape[0]\n",
    "g1 = features.groupby(by=\"Gender\")[\"Treatment1\"].value_counts(normalize=True)\n",
    "g2 = features.groupby(by=\"Gender\")[\"Treatment2\"].value_counts(normalize=True)\n",
    "g3 = features.groupby(by=\"Gender\")[\"Treatment3\"].value_counts(normalize=True)"
   ]
  },
  {
   "cell_type": "code",
   "execution_count": 19,
   "metadata": {},
   "outputs": [
    {
     "data": {
      "text/plain": [
       "(Gender  Treatment1\n",
       " 0.0     0.0           0.849749\n",
       "         1.0           0.150251\n",
       " 1.0     0.0           0.850847\n",
       "         1.0           0.149153\n",
       " Name: Treatment1, dtype: float64,\n",
       " Gender  Treatment2\n",
       " 0.0     0.0           0.976931\n",
       "         1.0           0.023069\n",
       " 1.0     0.0           0.981456\n",
       "         1.0           0.018544\n",
       " Name: Treatment2, dtype: float64,\n",
       " Gender  Treatment3\n",
       " 0.0     0.0           0.996189\n",
       "         1.0           0.003811\n",
       " 1.0     0.0           0.995414\n",
       "         1.0           0.004586\n",
       " Name: Treatment3, dtype: float64)"
      ]
     },
     "execution_count": 19,
     "metadata": {},
     "output_type": "execute_result"
    }
   ],
   "source": [
    "g1, g2, g3 # Vet ikke om det er nødvendig"
   ]
  },
  {
   "cell_type": "code",
   "execution_count": 20,
   "metadata": {},
   "outputs": [
    {
     "name": "stdout",
     "output_type": "stream",
     "text": [
      "Number of women: 5015\n",
      "Number of men: 4985\n"
     ]
    }
   ],
   "source": [
    "print(f\"Number of women: {women_nr}\")\n",
    "print(f\"Number of men: {men_nr}\")"
   ]
  },
  {
   "cell_type": "markdown",
   "metadata": {},
   "source": [
    "We almost have equal amount of men and women in our population. We now check which treatment each gender has gotten:"
   ]
  },
  {
   "cell_type": "code",
   "execution_count": 21,
   "metadata": {},
   "outputs": [
    {
     "data": {
      "image/png": "[encoded data removed]",
      "text/plain": [
       "<Figure size 432x288 with 1 Axes>"
      ]
     },
     "metadata": {},
     "output_type": "display_data"
    }
   ],
   "source": [
    "sns.set_theme()\n",
    "indicies = features[\"Treatment\"] != \"0\"\n",
    "sns.histplot(data = features[indicies].sort_values(by=\"Treatment\"), x = \"Treatment\", hue = \"Gender\", multiple=\"dodge\", shrink=.8)\n",
    "plt.title(\"Treatment type vs. Gender\")\n",
    "plt.show()"
   ]
  },
  {
   "cell_type": "markdown",
   "metadata": {},
   "source": [
    "We observe that the treatments are almost equally distributed amongst genders, i.e there are (almost) equal amount of men and women who recieved Treatment 1, 2 or 3. However, we also observe that most of the population gets Treatment 1. We see that there are fewer women who have received Treatment 2 than men who have received Treatment 2, but the difference is not so big. We also see that there are the number of women who received Treatment 3 is greater than the number of men who received Treatment 3. Based on the graph and the numbers, the data seems to be almost unbiased for `Gender`."
   ]
  },
  {
   "cell_type": "markdown",
   "metadata": {},
   "source": [
    "## Income"
   ]
  },
  {
   "cell_type": "markdown",
   "metadata": {},
   "source": [
    "We categorize the individuals by their income. We now have two income categories: low and high income. Every individual with an income less than the median income for the entire population are categorized as `Low income`, and every individual with an income greater than the median income is categorized as `High income`. We would like to see which treatment is frequently given to individuals with low and high income."
   ]
  },
  {
   "cell_type": "code",
   "execution_count": 22,
   "metadata": {},
   "outputs": [],
   "source": [
    "# Income\n",
    "median = features.Income.median()\n",
    "income = features.Income.values.astype(float)\n",
    "features.loc[income < median, \"Income category\"] = \"Low income\"\n",
    "features.loc[income >= median, \"Income category\"] = \"High income\"\n",
    "\n",
    "i1 = features.groupby(by=\"Income category\")[\"Treatment1\"].value_counts(normalize=True)\n",
    "i2 = features.groupby(by=\"Income category\")[\"Treatment2\"].value_counts(normalize=True)\n",
    "i3 = features.groupby(by=\"Income category\")[\"Treatment3\"].value_counts(normalize=True)"
   ]
  },
  {
   "cell_type": "code",
   "execution_count": 23,
   "metadata": {},
   "outputs": [
    {
     "data": {
      "text/plain": [
       "(Income category  Treatment1\n",
       " High income      0.0           0.8450\n",
       "                  1.0           0.1550\n",
       " Low income       0.0           0.8556\n",
       "                  1.0           0.1444\n",
       " Name: Treatment1, dtype: float64,\n",
       " Income category  Treatment2\n",
       " High income      0.0           0.9798\n",
       "                  1.0           0.0202\n",
       " Low income       0.0           0.9786\n",
       "                  1.0           0.0214\n",
       " Name: Treatment2, dtype: float64,\n",
       " Income category  Treatment3\n",
       " High income      0.0           0.9968\n",
       "                  1.0           0.0032\n",
       " Low income       0.0           0.9948\n",
       "                  1.0           0.0052\n",
       " Name: Treatment3, dtype: float64)"
      ]
     },
     "execution_count": 23,
     "metadata": {},
     "output_type": "execute_result"
    }
   ],
   "source": [
    "i1, i2, i3"
   ]
  },
  {
   "cell_type": "code",
   "execution_count": 24,
   "metadata": {},
   "outputs": [
    {
     "data": {
      "image/png": "[encoded data removed]",
      "text/plain": [
       "<Figure size 432x288 with 1 Axes>"
      ]
     },
     "metadata": {},
     "output_type": "display_data"
    }
   ],
   "source": [
    "#sns.set_theme()\n",
    "sns.histplot(data = features[indicies].sort_values(by=\"Treatment\"), x = \"Treatment\", hue = \"Income category\", multiple=\"dodge\", shrink=.8)\n",
    "plt.title(\"Treatment type vs. Income\")\n",
    "plt.show()"
   ]
  },
  {
   "cell_type": "markdown",
   "metadata": {},
   "source": [
    "Once again, we observe that the different types of treatments are (almost) equally distributed amongst people with different levels of Income. We see that the population have mostly received Treatment 1. However, the number of people with high income who received Treatment 1 is greater than the number of people with low income who got the same Treatment. Similarly, there are more people with low income who received Treatment 2 and 3 than people with high income. Overall, there is little bias for `Income`."
   ]
  },
  {
   "cell_type": "markdown",
   "metadata": {},
   "source": [
    "## Age"
   ]
  },
  {
   "cell_type": "markdown",
   "metadata": {},
   "source": [
    "We categorize the individuals by their age. We first tried to create five uniformly spaced age categories. However, this did not work very well, since the column `Age` has Gamma distribution and we have more young people than old people."
   ]
  },
  {
   "cell_type": "code",
   "execution_count": 25,
   "metadata": {},
   "outputs": [
    {
     "data": {
      "image/png": "[encoded data removed]",
      "text/plain": [
       "<Figure size 432x288 with 1 Axes>"
      ]
     },
     "metadata": {},
     "output_type": "display_data"
    }
   ],
   "source": [
    "# Plot showing the age frequencies\n",
    "sns.histplot(data = features, x = \"Age\")\n",
    "plt.show()"
   ]
  },
  {
   "cell_type": "code",
   "execution_count": 26,
   "metadata": {},
   "outputs": [],
   "source": [
    "age_limits = np.linspace(features.Age.min(), features.Age.max(), 6, dtype=int)\n",
    "age_category = pd.DataFrame(pd.cut(features.Age, bins=age_limits,\n",
    "                                   labels=[\"Age<24\",\"24<=Age<47\", \"47<=Age<71\", \"71<=Age<94\", \"Age>94\"],\n",
    "                                   include_lowest=True, ordered=True))\n",
    "\n",
    "age_category.columns = [\"age_category\"]\n",
    "features = features.join(age_category)"
   ]
  },
  {
   "cell_type": "code",
   "execution_count": 27,
   "metadata": {},
   "outputs": [
    {
     "data": {
      "image/png": "[encoded data removed]",
      "text/plain": [
       "<Figure size 432x288 with 1 Axes>"
      ]
     },
     "metadata": {},
     "output_type": "display_data"
    }
   ],
   "source": [
    "# Plot showing the age frequencies with 5 age categories\n",
    "sns.histplot(data = features[indicies].sort_values(by=\"Treatment\"), x = \"Treatment\", hue = \"age_category\", multiple=\"dodge\", shrink=0.8)\n",
    "plt.show()"
   ]
  },
  {
   "cell_type": "markdown",
   "metadata": {},
   "source": [
    "We then decided to have two age categories: young and old. Every individual with an age smaller than the median age for the entire population are categorized as `Young`, and every individual with an age bigger than the median age is categorized as `Old`. We would like to see which treatment is frequently given to young and old individuals."
   ]
  },
  {
   "cell_type": "code",
   "execution_count": 28,
   "metadata": {},
   "outputs": [],
   "source": [
    "features.drop(\"age_category\", axis=1, inplace=True)\n",
    "median_age = features.Age.median()\n",
    "features.loc[features.Age.values < median_age, \"age_category\"] = \"Young\"\n",
    "features.loc[features.Age.values >= median_age, \"age_category\"] = \"Old\""
   ]
  },
  {
   "cell_type": "code",
   "execution_count": 29,
   "metadata": {},
   "outputs": [
    {
     "data": {
      "image/png": "[encoded data removed]",
      "text/plain": [
       "<Figure size 432x288 with 1 Axes>"
      ]
     },
     "metadata": {},
     "output_type": "display_data"
    }
   ],
   "source": [
    "sns.histplot(data = features[indicies].sort_values(by=\"Treatment\"), x = \"Treatment\", hue = \"age_category\", multiple=\"dodge\", shrink=0.8)\n",
    "plt.title(\"Treatment type vs. Age\")\n",
    "plt.show()"
   ]
  },
  {
   "cell_type": "markdown",
   "metadata": {},
   "source": [
    "Once again, we observe that the different types of treatments are (almost) equally distributed amongst people with different levels of Age. The number of young people who received Treatment 1 og 3 is slightly higher than the number of people who received the same treatments."
   ]
  },
  {
   "cell_type": "markdown",
   "metadata": {},
   "source": [
    "Overall, the data is quite unbiased on the sensitive variables `Gender`, `Income` and `Age`."
   ]
  },
  {
   "cell_type": "markdown",
   "metadata": {},
   "source": [
    "## Quantifiyng fairness\n",
    "\n",
    "### P-scores\n",
    "\n",
    "Now let us try quantify the fairness in our policy. We first do this with a comparrison of outcome, with p-scores. P-scores are defined by $\\text{p-score} = \\min \\left(\\frac{P(\\hat{y} = 1| z = 1)}{P(\\hat{y} = 1 | z = 0)}, \\frac{P(\\hat{y} = 1| z = 0)}{P(\\hat{y} = 1 | z = 1)}\\right)$. Here $\\hat{y}$ is our expected outcome, the treatment we give (including no treatment), and $z$ is the sensitive data, put in two grups. With the $\\min$ function, we chose the one that is less or equal to 1. However, we drop the $\\min$ function, so that we can see which group corresponded to having more or less treatments. We can interpret this score as equality of outcome. If it is far from 0, it means that we have treat the $z$ group have different outcomes, meaning that they get different treatments. \n",
    "\n",
    "Our sensitive variables are ones again Gender, Age and Income. For gender, the dichotimization is obvious, $z=1$ corresponds to one gender and $z=0$ to the other. For age and income, we must split in two groups. Since the data is not uniformly distributed, we split the data at the median, to get two different groups, below and above the median. \n",
    "\n",
    "Let's calculate the p-scores. We do this for all of the tree variables, for all of the three treatments, including no treatment. The $\\hat{y} = 1$ is therefore \"got treatment1\", \"got treatment2\", \"got greatment3\" and \"did not recieve any treatment\", respectivly in the loop."
   ]
  },
  {
   "cell_type": "code",
   "execution_count": 30,
   "metadata": {},
   "outputs": [],
   "source": [
    "np.random.seed(57)\n",
    "n_genes = 128\n",
    "n_vaccines = 3\n",
    "n_treatments = 3\n",
    "n_population = 10000\n",
    "population = simulator.Population(n_genes, n_vaccines, n_treatments)\n",
    "np.random.seed(57)\n",
    "X = population.generate(n_population) # Population\n",
    "# embed()\n",
    "treatment_policy = Policy(n_treatments, list(range(n_treatments)))\n",
    "np.random.seed(57)\n",
    "features, actions, outcomes = treatment_policy.initialize_data(n_population)\n",
    "treatment_policy.observe(features, actions, outcomes)\n",
    "# features, actions, outcomes = treatment_policy.get_arguments()\n",
    "\n",
    "A = treatment_policy.get_action(X) # Actions \n",
    "U = population.treat(list(range(n_population)), A)"
   ]
  },
  {
   "cell_type": "code",
   "execution_count": 31,
   "metadata": {},
   "outputs": [
    {
     "name": "stdout",
     "output_type": "stream",
     "text": [
      "[[0.939621   1.82644939 1.12487528 1.00486145]\n",
      " [1.02064516 1.18181818 0.91666667 0.99661099]\n",
      " [1.00255754 1.08695652 1.3        0.99467956]]\n"
     ]
    }
   ],
   "source": [
    "df1 = add_feature_names(X)\n",
    "df2 = add_action_names(A)\n",
    "df3 = add_outcome_names(U)\n",
    "df = df1.join(df2.join(df3))\n",
    "gender = df[\"Gender\"] > df[\"Gender\"].median()\n",
    "income = df[\"Income\"] > df[\"Income\"].median()\n",
    "age = df[\"Age\"] > df[\"Age\"].median()\n",
    "variables = [gender, income, age]\n",
    "treatments = [\"Treatment1\", \"Treatment2\", \"Treatment3\"]\n",
    "p_scores = np.zeros((3, 4)) # Treat1, 2, 3, no_treatment\n",
    "for i in range(len(treatments)): # Treatment 1, 2 and 3\n",
    "    treatment = treatments[i]\n",
    "    for j in range(len(variables)):\n",
    "        variable = variables[j]\n",
    "        p_score = df[variable][treatment].mean() / df[~variable][treatment].mean()\n",
    "        p_scores[j, i] = p_score\n",
    "for j in range(len(variables)): # No treatment\n",
    "    variable = variables[j]\n",
    "    group1 = df[variable][(df[variable][\"Treatment1\"] == 0.0) & \n",
    "                          (df[variable][\"Treatment2\"] == 0.0) & \n",
    "                          (df[variable][\"Treatment3\"] == 0.0)]\n",
    "    group2 = df[~variable][(df[~variable][\"Treatment1\"] == 0.0) & \n",
    "                           (df[~variable][\"Treatment2\"] == 0.0) & \n",
    "                           (df[~variable][\"Treatment3\"] == 0.0)]\n",
    "    p_score = len(group1) / len(group2)\n",
    "    p_scores[j, 3] = p_score\n",
    "\n",
    "print(p_scores) # Age is the least equal one"
   ]
  },
  {
   "cell_type": "markdown",
   "metadata": {},
   "source": [
    "As we see, the p_values are pretty close to 1. Therefore, we decide that our policy is pretty fair. If we would have traded fairness for utility, we would first look at which variable are \"discriminated agianst\". For example, let say far less females gets assigned a treatment than males. To adjust for this, we could set the threshold for females to get a positive and negative reward could be set to higher or lower. The reward function looks at how likely a sick person is to get cured, and opositite. The logistic regression returns a probability for wether a sick person will get cured. If this probability is below 0.5, we assume that it predicts that the person will be cured, and assign them a positive reward. The reward is later used for assigning treatments. We choose the treatment that is corresponding to the highest reward. If we were to set the threshold for the probability for women to for example 0.7, then more women would be considered cured, and they would get more treatments. This would balance the fairness. This threshold parameter could then be balanced against the total utility in some algorithm. "
   ]
  },
  {
   "cell_type": "markdown",
   "metadata": {},
   "source": [
    "### Equal opportunity score\n",
    "\n",
    "We will now try to meassure fairness anotherway, by equal opportunity scores. This is defined by $\\text{equal-opportunity-score} = \\min \\left(\\frac{P(\\hat{y} = 1| z = 1, y = 1)}{P(\\hat{y} = 1 | z = 0, y = 1)}, \\frac{P(\\hat{y} = 1| z = 0, y = 1)}{P(\\hat{y} = 1 | z = 1, y = 1)}\\right)$. Here $\\hat{y}$ and $z$ is the same, the prediction and the sensitive group. We also have $y$, which is the true outcome. If we look at our model for predicting post-symptoms, $\\hat{y}=1$ would correspond to our model predicting there will be no symptom and $y=1$ would correspond to actually not getting the symptom (we chose $y=1$ to *not* having the symptom over actually having it, because this is more closely related to getting chosen for a treatment). We therefore can not meassure the action, like in the last paragraph, since we need to know the true outcome. We also have to have an action as *given*. As with the last part, we do not use the $min$ function. We want to calculate $\\frac{P(\\hat{y} = 1| z_i = 1, y = 1, a_i = 1)}{P(\\hat{y} = 1 | z_i = 0, y = 1, a_i = 1)}$, in other words: What is the difference in probability for a sensitive group $z$ for predicting a post-symtpom for a given action and given that they actually did not get the symptom after the action?\n",
    "\n",
    "When we implement this, we define a function for calculates it for each model. That means, for each sensitive variable, for each treatment, for each symptom, we get a number. That is rather elaborate, but we also have the choice of summing up treatments and symptoms in each sensitive group before dividing. Here is the code (sorry for the nesting):"
   ]
  },
  {
   "cell_type": "code",
   "execution_count": 36,
   "metadata": {},
   "outputs": [],
   "source": [
    "def equal_opportunity_scores(features, actions, outcomes, model_list):\n",
    "    \"\"\"\n",
    "    Returns the equal opportunity scores. This is defined by the probability\n",
    "    of predicting that an individual will not be sick. The models should be\n",
    "    fitted in advance, with observe(). Note that we care about _not_ being sick,\n",
    "    because this is closely related to actually being treated. \n",
    "    \n",
    "    This return two two-dimensonal array for each of the sensitive \n",
    "    variables. The two arrays responds to group 1 and group 2 of the\n",
    "    sensitive variables (for example over median income and under). The\n",
    "    arrays are shape 3 x 9. The three rows corresponds to the treatments.\n",
    "    The 9 columns corresponds to the 9 symptoms. For every time a person \n",
    "    with an action i does not have a symptom j and the models predict \n",
    "    they will not have the symptom j, the corresponding array gets += 1 in\n",
    "    the [i, j]th place. The equal opportunity scores are then obtained by\n",
    "    dividing the arrays. One can also sum the rows or columns if one does\n",
    "    not care about the individual treatments or symptoms, respectivly, \n",
    "    before dividing.\n",
    "    \"\"\"\n",
    "    df = add_feature_names(features) # for easy calculation and debugging\n",
    "    treatments = [\"Treatment1\", \"Treatment2\", \"Treatment3\"]\n",
    "    symptom_indices = [1, 2, 3, 4, 5, 6, 7, 8, 9]\n",
    "    treat1_indices = actions[:, 0] == 1 # Have gotten treatment1\n",
    "    treat2_indices = actions[:, 1] == 1 # Have gotten treatment2\n",
    "    treat3_indices = actions[:, 2] == 1 # Have gotten treatment3\n",
    "    indices_list = [treat1_indices, treat2_indices, treat3_indices]\n",
    "    # model_list = [self.models1, self.models2, self.models3]\n",
    "    \n",
    "    equal_scores_g1 = np.zeros((3, 9)) # gender = 1\n",
    "    equal_scores_g2 = np.zeros((3, 9)) # gender = 0\n",
    "    equal_scores_i1 = np.zeros((3, 9)) # income >= income.median()\n",
    "    equal_scores_i2 = np.zeros((3, 9)) # income < income.median()\n",
    "    equal_scores_a1 = np.zeros((3, 9)) # age >= age.median()\n",
    "    equal_scores_a2 = np.zeros((3, 9)) # age < age.median()\n",
    "    for i in range(3): # Loop over the treatments and corresponding models\n",
    "        indicies = indices_list[i]\n",
    "        data = features[indicies]\n",
    "        out = outcomes[indicies]\n",
    "        models = model_list[i]\n",
    "        for j in symptom_indices: # Loop over symptoms (j is 1 over range(9))\n",
    "            # feature select:\n",
    "            x_data = data[:, [j, 10, 11, 12, 141, 142, 143, 144, 143, 144, 145, 146]]\n",
    "            scaler = preprocessing.StandardScaler().fit(x_data)\n",
    "            x_scaled = scaler.transform(x_data)\n",
    "            pred = models[j-1].predict_proba(x_scaled)[:, 1] # Predict\n",
    "            pred_positives = pred < 0.5 # We predict: No symptom\n",
    "            out_positives = out[:, j] == 0 # The truth is: No symptom\n",
    "            for t in range(len(pred)):\n",
    "                if pred_positives[t] and out_positives[t]:\n",
    "                    if data[t, 10] >= df[\"Age\"].median():\n",
    "                        equal_scores_a1[i, j-1] += 1 \n",
    "                    else:\n",
    "                        equal_scores_a2[i, j-1] += 1\n",
    "                    if data[t, 12] >= df[\"Income\"].median():\n",
    "                        equal_scores_i1[i, j-1] += 1 \n",
    "                    else:\n",
    "                        equal_scores_i2[i, j-1] += 1\n",
    "                    if data[t, 11] == 1:\n",
    "                        equal_scores_g1[i, j-1] += 1 \n",
    "                    else:\n",
    "                        equal_scores_g2[i, j-1] += 1           \n",
    "    # embed()\n",
    "    return equal_scores_a1, equal_scores_a2, equal_scores_g1, \\\n",
    "           equal_scores_g2, equal_scores_i1, equal_scores_i2"
   ]
  },
  {
   "cell_type": "code",
   "execution_count": 37,
   "metadata": {},
   "outputs": [],
   "source": [
    "models = [treatment_policy.models1, treatment_policy.models2, treatment_policy.models3]\n",
    "a1, a2, g1, g2, i1, i2 = equal_opportunity_scores(X, A, U, models)"
   ]
  },
  {
   "cell_type": "code",
   "execution_count": 38,
   "metadata": {},
   "outputs": [
    {
     "data": {
      "text/plain": [
       "array([[0.97681159, 0.99871795, 0.98668442, 1.02729885, 0.99872123,\n",
       "        0.99486521, 0.99872123, 0.99871795, 1.        ],\n",
       "       [1.2       , 1.0952381 , 1.04545455, 0.8       , 0.92      ,\n",
       "        0.92      , 0.92      , 1.        , 0.94444444],\n",
       "       [0.9       , 0.64285714, 0.77027027, 0.76923077, 0.77922078,\n",
       "        0.76923077, 0.77922078, 0.76315789, 0.75641026]])"
      ]
     },
     "execution_count": 38,
     "metadata": {},
     "output_type": "execute_result"
    }
   ],
   "source": [
    "a2/a1"
   ]
  },
  {
   "cell_type": "code",
   "execution_count": 39,
   "metadata": {},
   "outputs": [
    {
     "data": {
      "text/plain": [
       "array([[1.0358209 , 1.06763926, 1.07222222, 1.07805596, 1.06472919,\n",
       "        1.072     , 1.06746032, 1.05944518, 1.0660502 ],\n",
       "       [0.57142857, 0.62962963, 0.5       , 0.60714286, 0.5483871 ,\n",
       "        0.5483871 , 0.5483871 , 0.53333333, 0.66666667],\n",
       "       [0.58333333, 0.82539683, 0.92647059, 0.89041096, 0.87671233,\n",
       "        0.89041096, 0.90277778, 0.91428571, 0.87671233]])"
      ]
     },
     "execution_count": 39,
     "metadata": {},
     "output_type": "execute_result"
    }
   ],
   "source": [
    "g2/g1"
   ]
  },
  {
   "cell_type": "code",
   "execution_count": 40,
   "metadata": {},
   "outputs": [
    {
     "data": {
      "text/plain": [
       "array([[0.9796807 , 0.98094028, 0.9657444 , 0.9679219 , 0.97848101,\n",
       "        0.97709924, 0.97848101, 0.98094028, 0.97974684],\n",
       "       [0.375     , 0.83333333, 0.8       , 0.95652174, 0.84615385,\n",
       "        0.84615385, 0.84615385, 0.76923077, 0.66666667],\n",
       "       [1.23529412, 1.09090909, 1.11290323, 1.09090909, 1.07575758,\n",
       "        1.09090909, 1.10769231, 1.09375   , 1.10769231]])"
      ]
     },
     "execution_count": 40,
     "metadata": {},
     "output_type": "execute_result"
    }
   ],
   "source": [
    "i2/i1"
   ]
  },
  {
   "cell_type": "markdown",
   "metadata": {},
   "source": [
    "As mentioned, this is pretty elaborate, since we have differentiated with respect to group, treatment and symptom. Also note that some of these groups have a pretty low number of instances, which is why some values are exactly 1 or 0.5. This makes the number variable according to seed, however, they are all pretty close to 1. Let us try to sum first. First, we sum the treatments:"
   ]
  },
  {
   "cell_type": "code",
   "execution_count": 41,
   "metadata": {},
   "outputs": [
    {
     "data": {
      "text/plain": [
       "array([0.97622378, 0.97244546, 0.96930342, 0.99499374, 0.97737557,\n",
       "       0.97278912, 0.97737557, 0.97838453, 0.97722096])"
      ]
     },
     "execution_count": 41,
     "metadata": {},
     "output_type": "execute_result"
    }
   ],
   "source": [
    "np.sum(a2, axis=0)/np.sum(a1, axis=0)"
   ]
  },
  {
   "cell_type": "code",
   "execution_count": 42,
   "metadata": {},
   "outputs": [
    {
     "data": {
      "text/plain": [
       "array([0.98455056, 0.96567506, 0.96235294, 0.95823096, 0.97068771,\n",
       "       0.96388262, 0.96625422, 0.97165533, 0.96158192])"
      ]
     },
     "execution_count": 42,
     "metadata": {},
     "output_type": "execute_result"
    }
   ],
   "source": [
    "np.sum(g1, axis=0)/np.sum(g2, axis=0)"
   ]
  },
  {
   "cell_type": "code",
   "execution_count": 43,
   "metadata": {},
   "outputs": [
    {
     "data": {
      "text/plain": [
       "array([0.9789916 , 0.98383372, 0.97163121, 0.97766749, 0.98185941,\n",
       "       0.98177677, 0.98410897, 0.98289624, 0.98173516])"
      ]
     },
     "execution_count": 43,
     "metadata": {},
     "output_type": "execute_result"
    }
   ],
   "source": [
    "np.sum(i2, axis=0)/np.sum(i1, axis=0)"
   ]
  },
  {
   "cell_type": "markdown",
   "metadata": {},
   "source": [
    "Here I have divided by a2/a1, then g1/g2 and i2/i1 to make the numbers more readable. Since all of the number are negative, one groups does clearly not have the same opportunity as the other. People with gender = 1, higher income or higher age than the median, have a higher opportunity of getting treated. Let us sum with respect to symptom as well:"
   ]
  },
  {
   "cell_type": "code",
   "execution_count": 44,
   "metadata": {},
   "outputs": [
    {
     "data": {
      "text/plain": [
       "array([0.99780123, 0.95767196, 0.75955414])"
      ]
     },
     "execution_count": 44,
     "metadata": {},
     "output_type": "execute_result"
    }
   ],
   "source": [
    "np.sum(a2, axis=1)/np.sum(a1, axis=1)"
   ]
  },
  {
   "cell_type": "code",
   "execution_count": 45,
   "metadata": {},
   "outputs": [
    {
     "data": {
      "text/plain": [
       "array([0.93896714, 1.76119403, 1.14147287])"
      ]
     },
     "execution_count": 45,
     "metadata": {},
     "output_type": "execute_result"
    }
   ],
   "source": [
    "np.sum(g1, axis=1)/np.sum(g2, axis=1)"
   ]
  },
  {
   "cell_type": "code",
   "execution_count": 46,
   "metadata": {},
   "outputs": [
    {
     "data": {
      "text/plain": [
       "array([0.97664975, 0.80487805, 1.10076046])"
      ]
     },
     "execution_count": 46,
     "metadata": {},
     "output_type": "execute_result"
    }
   ],
   "source": [
    "np.sum(i2, axis=1)/np.sum(i1, axis=1)"
   ]
  },
  {
   "cell_type": "markdown",
   "metadata": {},
   "source": [
    "Here we do not have so clear results, that is because the first symptom has many more cases than the other. Let us sum the whole arrays:"
   ]
  },
  {
   "cell_type": "code",
   "execution_count": 47,
   "metadata": {},
   "outputs": [
    {
     "data": {
      "text/plain": [
       "0.9772221494960074"
      ]
     },
     "execution_count": 47,
     "metadata": {},
     "output_type": "execute_result"
    }
   ],
   "source": [
    "np.sum(a2)/np.sum(a1)"
   ]
  },
  {
   "cell_type": "code",
   "execution_count": 48,
   "metadata": {},
   "outputs": [
    {
     "data": {
      "text/plain": [
       "0.9669227764031775"
      ]
     },
     "execution_count": 48,
     "metadata": {},
     "output_type": "execute_result"
    }
   ],
   "source": [
    "np.sum(g1)/np.sum(g2)"
   ]
  },
  {
   "cell_type": "code",
   "execution_count": 49,
   "metadata": {},
   "outputs": [
    {
     "data": {
      "text/plain": [
       "0.980592709152898"
      ]
     },
     "execution_count": 49,
     "metadata": {},
     "output_type": "execute_result"
    }
   ],
   "source": [
    "np.sum(i2)/np.sum(i1)"
   ]
  },
  {
   "cell_type": "markdown",
   "metadata": {},
   "source": [
    "There is one important observation not yet commented; almost all of the score as very close to 1. There were some variablility when we did no summing, but by summing for either treatment or symptom, they are so close to 1 that I would not be worried about the fairness.\n",
    "\n",
    "Let us try one more thing; a weighted sum. Now the sums are uniform, but in the utility we weight the symptoms. Therefore, we will now try to first sum with respect to treatment, then do a weighted sum with respect to symptom.  "
   ]
  },
  {
   "cell_type": "code",
   "execution_count": 50,
   "metadata": {},
   "outputs": [
    {
     "data": {
      "text/plain": [
       "0.977227264708917"
      ]
     },
     "execution_count": 50,
     "metadata": {},
     "output_type": "execute_result"
    }
   ],
   "source": [
    "weights = [0.2, 0.1, 0.1, 0.1, 0.5, 0.2, 0.5, 1.0, 100.0]\n",
    "np.sum((np.sum(a2, axis=0)*weights))/np.sum((np.sum(a1, axis=0)*weights))"
   ]
  },
  {
   "cell_type": "code",
   "execution_count": 51,
   "metadata": {},
   "outputs": [
    {
     "data": {
      "text/plain": [
       "0.961789188867876"
      ]
     },
     "execution_count": 51,
     "metadata": {},
     "output_type": "execute_result"
    }
   ],
   "source": [
    "np.sum((np.sum(g1, axis=0)*weights))/np.sum((np.sum(g2, axis=0)*weights))"
   ]
  },
  {
   "cell_type": "code",
   "execution_count": 52,
   "metadata": {},
   "outputs": [
    {
     "data": {
      "text/plain": [
       "0.9817433144257617"
      ]
     },
     "execution_count": 52,
     "metadata": {},
     "output_type": "execute_result"
    }
   ],
   "source": [
    "np.sum((np.sum(i2, axis=0)*weights))/np.sum((np.sum(i1, axis=0)*weights))"
   ]
  },
  {
   "cell_type": "markdown",
   "metadata": {},
   "source": [
    "Which is still very fair, which could have been predicted by looking at the first dividision with respect to treatment and symptoms, since no value here was *very* far from 1. "
   ]
  },
  {
   "cell_type": "markdown",
   "metadata": {},
   "source": [
    "# 3rd Deadline\n",
    "\n",
    "Firstly, we use some functions for reading and converting the historical data to pandas dataframes with suitable names. Please note that the data-files are (obviously) necessary."
   ]
  },
  {
   "cell_type": "markdown",
   "metadata": {},
   "source": [
    "Since *all* of the numbers are negative, this means that each group cleary does not have equal opportunity. Gender = 0, higher income and older people have a higher opportunity of getting treated. Let us sum the symptoms as well:"
   ]
  },
  {
   "cell_type": "code",
   "execution_count": 53,
   "metadata": {},
   "outputs": [],
   "source": [
    "def init_features(data):\n",
    "    \"\"\"\n",
    "    Initialize names for observation features and treatment features\n",
    "    \n",
    "    Symptoms (10 bits): Covid-Recovered, Covid-Positive, No-Taste/Smell, \n",
    "        Fever, Headache, Pneumonia, Stomach, Myocarditis, Blood-Clots, Death\n",
    "    Age (integer)\n",
    "    Gender (binary)\n",
    "    Income (floating)\n",
    "    Genome (128 bits)\n",
    "    Comorbidities (6 bits): Asthma, Obesity, Smoking, Diabetes, Heart disease, Hypertension\n",
    "    Vaccination status (3 bits): 0 for unvaccinated, 1 for receiving a specific vaccine for each bit\n",
    "    \"\"\"\n",
    "    features_data = pd.read_csv(data)\n",
    "    # features =  [\"Covid-Recovered\", \"Age\", \"Gender\", \"Income\", \"Genome\", \"Comorbidities\", \"Vaccination status\"]\n",
    "    features = []\n",
    "    # features += [\"Symptoms\" + str(i) for i in range(1, 11)]\n",
    "    features += [\"Covid-Recovered\", \"Covid-Positive\", \"No-Taste/Smell\", \"Fever\", \n",
    "                 \"Headache\", \"Pneumonia\", \"Stomach\", \"Myocarditis\", \n",
    "                 \"Blood-Clots\", \"Death\"]\n",
    "    features += [\"Age\", \"Gender\", \"Income\"]\n",
    "    features += [\"Genome\" + str(i) for i in range(1, 129)]\n",
    "    # features += [\"Comorbidities\" + str(i) for i in range(1, 7)]\n",
    "    features += [\"Asthma\", \"Obesity\", \"Smoking\", \"Diabetes\", \n",
    "                 \"Heart disease\", \"Hypertension\"]\n",
    "    features += [\"Vaccination status\" + str(i) for i in range(1, 4)]\n",
    "    features_data.columns = features\n",
    "    return features_data\n",
    "    \n",
    "\n",
    "def init_actions():\n",
    "    actions = pd.read_csv(\"treatment_actions.csv\")\n",
    "    actions.columns = [\"Treatment1\", \"Treatment2\"]\n",
    "    return actions \n",
    "    \n",
    "def init_outcomes():\n",
    "    \"\"\"\n",
    "    Initialize outcome data\n",
    "    \n",
    "    Post-Treatment Symptoms (10 bits): Past-Covid (Ignore), Covid+ (Ignore), \n",
    "    No-Taste/Smell, Fever, Headache, Pneumonia, Stomach, Myocarditis, \n",
    "    Blood-Clots, Death\n",
    "    \"\"\"\n",
    "    outcomes = pd.read_csv(\"treatment_outcomes.csv\")\n",
    "    outcome_names = [\"Past-Covid\", \"Covid+\", \"No-Taste/Smell\", \"Fever\", \"Headache\", \n",
    "                      \"Pneumonia\", \"Stomach\", \"Myocarditis\", \"Blood-Clots\", \"Death\"]\n",
    "    outcomes.columns = outcome_names\n",
    "    return outcomes"
   ]
  },
  {
   "cell_type": "markdown",
   "metadata": {},
   "source": [
    "Now let's look at the utility at the historical data."
   ]
  },
  {
   "cell_type": "code",
   "execution_count": 54,
   "metadata": {},
   "outputs": [
    {
     "data": {
      "text/plain": [
       "-1445.2499999999932"
      ]
     },
     "execution_count": 54,
     "metadata": {},
     "output_type": "execute_result"
    }
   ],
   "source": [
    "features = init_features(\"treatment_features.csv\")\n",
    "actions = init_actions()\n",
    "observations = init_outcomes()\n",
    "treatment_policy.get_utility(np.asmatrix(features), np.asmatrix(actions), np.asmatrix(observations))"
   ]
  },
  {
   "cell_type": "markdown",
   "metadata": {},
   "source": [
    "This is not surprisingly pretty low. The utility we use is probably a lot different than the one used to find the actions on the historical data. One more observation is important; the historical data has 877 rows, while we used 10.000. If we were to use 877 rows for our data, there would be a lot of responses that is zero for all inputs, so the model will do pretty poor, and also have a negative utility. We therefore prefer to fit it at more data, but to predict on the same historical data. Let's do just that.\n",
    "\n",
    "Note however that we do not know how to actually treat the population and calculate the utility. This is because the historical data is given as a data set, and we do not know how to convert it into a Simulator object. We therefore calculate the expected utility, which is stored as a class variable in get_actions(). This estimate is very optimistic, because the expected utility is calculated on what the model predicts will happen after the treatments, which is also the treatments we choose. It therefor more resembles a training error than a test error, and is not an accurate estimate, but it is what we currently got."
   ]
  },
  {
   "cell_type": "code",
   "execution_count": 55,
   "metadata": {},
   "outputs": [
    {
     "data": {
      "text/plain": [
       "1151.0999999999967"
      ]
     },
     "execution_count": 55,
     "metadata": {},
     "output_type": "execute_result"
    }
   ],
   "source": [
    "historical_A = treatment_policy.get_action(np.asarray(features))\n",
    "treatment_policy.expected_utility"
   ]
  },
  {
   "cell_type": "markdown",
   "metadata": {},
   "source": [
    "Which is a lot better."
   ]
  },
  {
   "cell_type": "markdown",
   "metadata": {},
   "source": [
    "We would now like to measure the utility of our policy on the historical data, given in `treatment_features.csv`. We also provide error bounds on the expected utility by drawing 100 bootstrap samples from the data, applying the policy and calculating actions and outcomes for each of the samples, and finding the expected utility for each sample. We store the numbers obtained in a list. Later, we calculate the mean expected utility and the standard deviation of the expected utilities to calculate a 95% confidence interval. We repeat this bootstrapping procedure for the generated data as well, so that we can compare the results. We chose to draw 100 samples, because it would be computationally very heavy to compute for higher numbers. When we test the bootstrapping method on the generated the data, we generate 1000 observations. This is, once again, just to save time when running the script. "
   ]
  },
  {
   "cell_type": "code",
   "execution_count": 123,
   "metadata": {},
   "outputs": [],
   "source": [
    "# Bootstrapping historical data\n",
    "features = init_features(\"treatment_features.csv\")\n",
    "n_population = features.shape[0]\n",
    "B = 100\n",
    "treatment_policy = Policy(n_treatments, list(range(n_treatments)))\n",
    "\n",
    "# List to contain the expected utilities of the bootstrap samples\n",
    "exp_uti1 = []\n",
    "equal_opp1 = []\n",
    "\n",
    "for i in range(B):\n",
    "    # Get random indices\n",
    "    idx = np.random.randint(low=0, high=n_population, size=n_population)\n",
    "    \n",
    "    # The bootstrap sample population\n",
    "    features_b = features.iloc[idx]\n",
    "    \n",
    "    _features, actions, outcomes = treatment_policy.initialize_data(n_population)\n",
    "    treatment_policy.observe(_features, actions, outcomes)\n",
    "    \n",
    "    # Compute actions and outcomes \n",
    "    A = treatment_policy.get_action(np.asarray(features_b)) \n",
    "    U = population.treat(list(range(n_population)), A)\n",
    "    exp_uti1.append(treatment_policy.expected_utility)\n",
    "    models = [treatment_policy.models1, treatment_policy.models2, treatment_policy.models3]\n",
    "    #equal_opp1.append(equal_opportunity_scores(np.asarray(features_b), A, U, models))"
   ]
  },
  {
   "cell_type": "code",
   "execution_count": 124,
   "metadata": {},
   "outputs": [
    {
     "name": "stdout",
     "output_type": "stream",
     "text": [
      "(877, 150)\n",
      "(877, 10)\n",
      "(877, 3)\n"
     ]
    },
    {
     "ename": "ValueError",
     "evalue": "Found array with 0 sample(s) (shape=(0, 12)) while a minimum of 1 is required by StandardScaler.",
     "output_type": "error",
     "traceback": [
      "\u001b[0;31m---------------------------------------------------------------------------\u001b[0m",
      "\u001b[0;31mValueError\u001b[0m                                Traceback (most recent call last)",
      "\u001b[0;32m<ipython-input-124-624b0e73c1dd>\u001b[0m in \u001b[0;36m<module>\u001b[0;34m\u001b[0m\n\u001b[1;32m      3\u001b[0m \u001b[0mprint\u001b[0m\u001b[0;34m(\u001b[0m\u001b[0mA\u001b[0m\u001b[0;34m.\u001b[0m\u001b[0mshape\u001b[0m\u001b[0;34m)\u001b[0m\u001b[0;34m\u001b[0m\u001b[0;34m\u001b[0m\u001b[0m\n\u001b[1;32m      4\u001b[0m \u001b[0mmodels\u001b[0m \u001b[0;34m=\u001b[0m \u001b[0;34m[\u001b[0m\u001b[0mtreatment_policy\u001b[0m\u001b[0;34m.\u001b[0m\u001b[0mmodels1\u001b[0m\u001b[0;34m,\u001b[0m \u001b[0mtreatment_policy\u001b[0m\u001b[0;34m.\u001b[0m\u001b[0mmodels2\u001b[0m\u001b[0;34m,\u001b[0m \u001b[0mtreatment_policy\u001b[0m\u001b[0;34m.\u001b[0m\u001b[0mmodels3\u001b[0m\u001b[0;34m]\u001b[0m\u001b[0;34m\u001b[0m\u001b[0;34m\u001b[0m\u001b[0m\n\u001b[0;32m----> 5\u001b[0;31m \u001b[0mequal_opp1\u001b[0m\u001b[0;34m.\u001b[0m\u001b[0mappend\u001b[0m\u001b[0;34m(\u001b[0m\u001b[0mequal_opportunity_scores\u001b[0m\u001b[0;34m(\u001b[0m\u001b[0mnp\u001b[0m\u001b[0;34m.\u001b[0m\u001b[0masarray\u001b[0m\u001b[0;34m(\u001b[0m\u001b[0mfeatures_b\u001b[0m\u001b[0;34m)\u001b[0m\u001b[0;34m,\u001b[0m \u001b[0mA\u001b[0m\u001b[0;34m,\u001b[0m \u001b[0mU\u001b[0m\u001b[0;34m,\u001b[0m \u001b[0mmodels\u001b[0m\u001b[0;34m)\u001b[0m\u001b[0;34m)\u001b[0m\u001b[0;34m\u001b[0m\u001b[0;34m\u001b[0m\u001b[0m\n\u001b[0m",
      "\u001b[0;32m<ipython-input-36-bd5bb194f6d3>\u001b[0m in \u001b[0;36mequal_opportunity_scores\u001b[0;34m(features, actions, outcomes, model_list)\u001b[0m\n\u001b[1;32m     41\u001b[0m             \u001b[0;31m# feature select:\u001b[0m\u001b[0;34m\u001b[0m\u001b[0;34m\u001b[0m\u001b[0;34m\u001b[0m\u001b[0m\n\u001b[1;32m     42\u001b[0m             \u001b[0mx_data\u001b[0m \u001b[0;34m=\u001b[0m \u001b[0mdata\u001b[0m\u001b[0;34m[\u001b[0m\u001b[0;34m:\u001b[0m\u001b[0;34m,\u001b[0m \u001b[0;34m[\u001b[0m\u001b[0mj\u001b[0m\u001b[0;34m,\u001b[0m \u001b[0;36m10\u001b[0m\u001b[0;34m,\u001b[0m \u001b[0;36m11\u001b[0m\u001b[0;34m,\u001b[0m \u001b[0;36m12\u001b[0m\u001b[0;34m,\u001b[0m \u001b[0;36m141\u001b[0m\u001b[0;34m,\u001b[0m \u001b[0;36m142\u001b[0m\u001b[0;34m,\u001b[0m \u001b[0;36m143\u001b[0m\u001b[0;34m,\u001b[0m \u001b[0;36m144\u001b[0m\u001b[0;34m,\u001b[0m \u001b[0;36m143\u001b[0m\u001b[0;34m,\u001b[0m \u001b[0;36m144\u001b[0m\u001b[0;34m,\u001b[0m \u001b[0;36m145\u001b[0m\u001b[0;34m,\u001b[0m \u001b[0;36m146\u001b[0m\u001b[0;34m]\u001b[0m\u001b[0;34m]\u001b[0m\u001b[0;34m\u001b[0m\u001b[0;34m\u001b[0m\u001b[0m\n\u001b[0;32m---> 43\u001b[0;31m             \u001b[0mscaler\u001b[0m \u001b[0;34m=\u001b[0m \u001b[0mpreprocessing\u001b[0m\u001b[0;34m.\u001b[0m\u001b[0mStandardScaler\u001b[0m\u001b[0;34m(\u001b[0m\u001b[0;34m)\u001b[0m\u001b[0;34m.\u001b[0m\u001b[0mfit\u001b[0m\u001b[0;34m(\u001b[0m\u001b[0mx_data\u001b[0m\u001b[0;34m)\u001b[0m\u001b[0;34m\u001b[0m\u001b[0;34m\u001b[0m\u001b[0m\n\u001b[0m\u001b[1;32m     44\u001b[0m             \u001b[0mx_scaled\u001b[0m \u001b[0;34m=\u001b[0m \u001b[0mscaler\u001b[0m\u001b[0;34m.\u001b[0m\u001b[0mtransform\u001b[0m\u001b[0;34m(\u001b[0m\u001b[0mx_data\u001b[0m\u001b[0;34m)\u001b[0m\u001b[0;34m\u001b[0m\u001b[0;34m\u001b[0m\u001b[0m\n\u001b[1;32m     45\u001b[0m             \u001b[0mpred\u001b[0m \u001b[0;34m=\u001b[0m \u001b[0mmodels\u001b[0m\u001b[0;34m[\u001b[0m\u001b[0mj\u001b[0m\u001b[0;34m-\u001b[0m\u001b[0;36m1\u001b[0m\u001b[0;34m]\u001b[0m\u001b[0;34m.\u001b[0m\u001b[0mpredict_proba\u001b[0m\u001b[0;34m(\u001b[0m\u001b[0mx_scaled\u001b[0m\u001b[0;34m)\u001b[0m\u001b[0;34m[\u001b[0m\u001b[0;34m:\u001b[0m\u001b[0;34m,\u001b[0m \u001b[0;36m1\u001b[0m\u001b[0;34m]\u001b[0m \u001b[0;31m# Predict\u001b[0m\u001b[0;34m\u001b[0m\u001b[0;34m\u001b[0m\u001b[0m\n",
      "\u001b[0;32m~/miniconda3/lib/python3.8/site-packages/sklearn/preprocessing/_data.py\u001b[0m in \u001b[0;36mfit\u001b[0;34m(self, X, y, sample_weight)\u001b[0m\n\u001b[1;32m    728\u001b[0m         \u001b[0;31m# Reset internal state before fitting\u001b[0m\u001b[0;34m\u001b[0m\u001b[0;34m\u001b[0m\u001b[0;34m\u001b[0m\u001b[0m\n\u001b[1;32m    729\u001b[0m         \u001b[0mself\u001b[0m\u001b[0;34m.\u001b[0m\u001b[0m_reset\u001b[0m\u001b[0;34m(\u001b[0m\u001b[0;34m)\u001b[0m\u001b[0;34m\u001b[0m\u001b[0;34m\u001b[0m\u001b[0m\n\u001b[0;32m--> 730\u001b[0;31m         \u001b[0;32mreturn\u001b[0m \u001b[0mself\u001b[0m\u001b[0;34m.\u001b[0m\u001b[0mpartial_fit\u001b[0m\u001b[0;34m(\u001b[0m\u001b[0mX\u001b[0m\u001b[0;34m,\u001b[0m \u001b[0my\u001b[0m\u001b[0;34m,\u001b[0m \u001b[0msample_weight\u001b[0m\u001b[0;34m)\u001b[0m\u001b[0;34m\u001b[0m\u001b[0;34m\u001b[0m\u001b[0m\n\u001b[0m\u001b[1;32m    731\u001b[0m \u001b[0;34m\u001b[0m\u001b[0m\n\u001b[1;32m    732\u001b[0m     \u001b[0;32mdef\u001b[0m \u001b[0mpartial_fit\u001b[0m\u001b[0;34m(\u001b[0m\u001b[0mself\u001b[0m\u001b[0;34m,\u001b[0m \u001b[0mX\u001b[0m\u001b[0;34m,\u001b[0m \u001b[0my\u001b[0m\u001b[0;34m=\u001b[0m\u001b[0;32mNone\u001b[0m\u001b[0;34m,\u001b[0m \u001b[0msample_weight\u001b[0m\u001b[0;34m=\u001b[0m\u001b[0;32mNone\u001b[0m\u001b[0;34m)\u001b[0m\u001b[0;34m:\u001b[0m\u001b[0;34m\u001b[0m\u001b[0;34m\u001b[0m\u001b[0m\n",
      "\u001b[0;32m~/miniconda3/lib/python3.8/site-packages/sklearn/preprocessing/_data.py\u001b[0m in \u001b[0;36mpartial_fit\u001b[0;34m(self, X, y, sample_weight)\u001b[0m\n\u001b[1;32m    764\u001b[0m         \"\"\"\n\u001b[1;32m    765\u001b[0m         \u001b[0mfirst_call\u001b[0m \u001b[0;34m=\u001b[0m \u001b[0;32mnot\u001b[0m \u001b[0mhasattr\u001b[0m\u001b[0;34m(\u001b[0m\u001b[0mself\u001b[0m\u001b[0;34m,\u001b[0m \u001b[0;34m\"n_samples_seen_\"\u001b[0m\u001b[0;34m)\u001b[0m\u001b[0;34m\u001b[0m\u001b[0;34m\u001b[0m\u001b[0m\n\u001b[0;32m--> 766\u001b[0;31m         X = self._validate_data(X, accept_sparse=('csr', 'csc'),\n\u001b[0m\u001b[1;32m    767\u001b[0m                                 \u001b[0mestimator\u001b[0m\u001b[0;34m=\u001b[0m\u001b[0mself\u001b[0m\u001b[0;34m,\u001b[0m \u001b[0mdtype\u001b[0m\u001b[0;34m=\u001b[0m\u001b[0mFLOAT_DTYPES\u001b[0m\u001b[0;34m,\u001b[0m\u001b[0;34m\u001b[0m\u001b[0;34m\u001b[0m\u001b[0m\n\u001b[1;32m    768\u001b[0m                                 force_all_finite='allow-nan', reset=first_call)\n",
      "\u001b[0;32m~/miniconda3/lib/python3.8/site-packages/sklearn/base.py\u001b[0m in \u001b[0;36m_validate_data\u001b[0;34m(self, X, y, reset, validate_separately, **check_params)\u001b[0m\n\u001b[1;32m    419\u001b[0m             \u001b[0mout\u001b[0m \u001b[0;34m=\u001b[0m \u001b[0mX\u001b[0m\u001b[0;34m\u001b[0m\u001b[0;34m\u001b[0m\u001b[0m\n\u001b[1;32m    420\u001b[0m         \u001b[0;32melif\u001b[0m \u001b[0misinstance\u001b[0m\u001b[0;34m(\u001b[0m\u001b[0my\u001b[0m\u001b[0;34m,\u001b[0m \u001b[0mstr\u001b[0m\u001b[0;34m)\u001b[0m \u001b[0;32mand\u001b[0m \u001b[0my\u001b[0m \u001b[0;34m==\u001b[0m \u001b[0;34m'no_validation'\u001b[0m\u001b[0;34m:\u001b[0m\u001b[0;34m\u001b[0m\u001b[0;34m\u001b[0m\u001b[0m\n\u001b[0;32m--> 421\u001b[0;31m             \u001b[0mX\u001b[0m \u001b[0;34m=\u001b[0m \u001b[0mcheck_array\u001b[0m\u001b[0;34m(\u001b[0m\u001b[0mX\u001b[0m\u001b[0;34m,\u001b[0m \u001b[0;34m**\u001b[0m\u001b[0mcheck_params\u001b[0m\u001b[0;34m)\u001b[0m\u001b[0;34m\u001b[0m\u001b[0;34m\u001b[0m\u001b[0m\n\u001b[0m\u001b[1;32m    422\u001b[0m             \u001b[0mout\u001b[0m \u001b[0;34m=\u001b[0m \u001b[0mX\u001b[0m\u001b[0;34m\u001b[0m\u001b[0;34m\u001b[0m\u001b[0m\n\u001b[1;32m    423\u001b[0m         \u001b[0;32melse\u001b[0m\u001b[0;34m:\u001b[0m\u001b[0;34m\u001b[0m\u001b[0;34m\u001b[0m\u001b[0m\n",
      "\u001b[0;32m~/miniconda3/lib/python3.8/site-packages/sklearn/utils/validation.py\u001b[0m in \u001b[0;36minner_f\u001b[0;34m(*args, **kwargs)\u001b[0m\n\u001b[1;32m     61\u001b[0m             \u001b[0mextra_args\u001b[0m \u001b[0;34m=\u001b[0m \u001b[0mlen\u001b[0m\u001b[0;34m(\u001b[0m\u001b[0margs\u001b[0m\u001b[0;34m)\u001b[0m \u001b[0;34m-\u001b[0m \u001b[0mlen\u001b[0m\u001b[0;34m(\u001b[0m\u001b[0mall_args\u001b[0m\u001b[0;34m)\u001b[0m\u001b[0;34m\u001b[0m\u001b[0;34m\u001b[0m\u001b[0m\n\u001b[1;32m     62\u001b[0m             \u001b[0;32mif\u001b[0m \u001b[0mextra_args\u001b[0m \u001b[0;34m<=\u001b[0m \u001b[0;36m0\u001b[0m\u001b[0;34m:\u001b[0m\u001b[0;34m\u001b[0m\u001b[0;34m\u001b[0m\u001b[0m\n\u001b[0;32m---> 63\u001b[0;31m                 \u001b[0;32mreturn\u001b[0m \u001b[0mf\u001b[0m\u001b[0;34m(\u001b[0m\u001b[0;34m*\u001b[0m\u001b[0margs\u001b[0m\u001b[0;34m,\u001b[0m \u001b[0;34m**\u001b[0m\u001b[0mkwargs\u001b[0m\u001b[0;34m)\u001b[0m\u001b[0;34m\u001b[0m\u001b[0;34m\u001b[0m\u001b[0m\n\u001b[0m\u001b[1;32m     64\u001b[0m \u001b[0;34m\u001b[0m\u001b[0m\n\u001b[1;32m     65\u001b[0m             \u001b[0;31m# extra_args > 0\u001b[0m\u001b[0;34m\u001b[0m\u001b[0;34m\u001b[0m\u001b[0;34m\u001b[0m\u001b[0m\n",
      "\u001b[0;32m~/miniconda3/lib/python3.8/site-packages/sklearn/utils/validation.py\u001b[0m in \u001b[0;36mcheck_array\u001b[0;34m(array, accept_sparse, accept_large_sparse, dtype, order, copy, force_all_finite, ensure_2d, allow_nd, ensure_min_samples, ensure_min_features, estimator)\u001b[0m\n\u001b[1;32m    667\u001b[0m         \u001b[0mn_samples\u001b[0m \u001b[0;34m=\u001b[0m \u001b[0m_num_samples\u001b[0m\u001b[0;34m(\u001b[0m\u001b[0marray\u001b[0m\u001b[0;34m)\u001b[0m\u001b[0;34m\u001b[0m\u001b[0;34m\u001b[0m\u001b[0m\n\u001b[1;32m    668\u001b[0m         \u001b[0;32mif\u001b[0m \u001b[0mn_samples\u001b[0m \u001b[0;34m<\u001b[0m \u001b[0mensure_min_samples\u001b[0m\u001b[0;34m:\u001b[0m\u001b[0;34m\u001b[0m\u001b[0;34m\u001b[0m\u001b[0m\n\u001b[0;32m--> 669\u001b[0;31m             raise ValueError(\"Found array with %d sample(s) (shape=%s) while a\"\n\u001b[0m\u001b[1;32m    670\u001b[0m                              \u001b[0;34m\" minimum of %d is required%s.\"\u001b[0m\u001b[0;34m\u001b[0m\u001b[0;34m\u001b[0m\u001b[0m\n\u001b[1;32m    671\u001b[0m                              % (n_samples, array.shape, ensure_min_samples,\n",
      "\u001b[0;31mValueError\u001b[0m: Found array with 0 sample(s) (shape=(0, 12)) while a minimum of 1 is required by StandardScaler."
     ]
    }
   ],
   "source": [
    "print(np.asarray(features_b).shape)\n",
    "print(U.shape)\n",
    "print(A.shape)\n",
    "#models = [treatment_policy.models1, treatment_policy.models2, treatment_policy.models3]\n",
    "#equal_opp1.append(equal_opportunity_scores(np.asarray(features_b), A, U, models))"
   ]
  },
  {
   "cell_type": "code",
   "execution_count": 125,
   "metadata": {},
   "outputs": [],
   "source": [
    "# Bootstrapping simulated data\n",
    "np.random.seed(57)\n",
    "n_genes = 128\n",
    "n_vaccines = 3\n",
    "n_treatments = 3\n",
    "n_population = 1000\n",
    "population = simulator.Population(n_genes, n_vaccines, n_treatments)\n",
    "\n",
    "# Simulated population \n",
    "np.random.seed(57)\n",
    "X = population.generate(n_population)\n",
    "treatment_policy = Policy(n_treatments, list(range(n_treatments)))\n",
    "\n",
    "# List to contain the expected utilities of the bootstrap samples from generated data\n",
    "exp_uti2 = []\n",
    "# List to contain the actual utilities of the bootstrap samples from generated data\n",
    "utilities = []\n",
    "\n",
    "equal_opp2 = []\n",
    "\n",
    "# Draw 100 bootstrap samples\n",
    "for i in range(B):\n",
    "    idx = np.random.randint(low=0, high=n_population, size=n_population)\n",
    "    feautures_b = X[idx]\n",
    "\n",
    "    _features, actions, outcomes = treatment_policy.initialize_data(n_population)\n",
    "    treatment_policy.observe(_features, actions, outcomes)\n",
    "    # features, actions, outcomes = treatment_policy.get_arguments()\n",
    "\n",
    "    A = treatment_policy.get_action(feautures_b) # Actions \n",
    "    U = population.treat(list(range(n_population)), A)\n",
    "    #equal_opp2.append(equal_opportunity_scores(np.asmatrix(features_b), A, U, models))\n",
    "    exp_uti2.append(treatment_policy.expected_utility)\n",
    "    utilities.append(treatment_policy.get_utility(np.asmatrix(features_b), np.asmatrix(actions), np.asmatrix(outcomes)))"
   ]
  },
  {
   "cell_type": "markdown",
   "metadata": {},
   "source": [
    "Here are the results:"
   ]
  },
  {
   "cell_type": "code",
   "execution_count": 126,
   "metadata": {},
   "outputs": [
    {
     "name": "stdout",
     "output_type": "stream",
     "text": [
      "HISTORICAL DATA:\n",
      "Expected utility (from treatment_policy.expected_utility\n",
      "Mean: 796.97\n",
      "Std: 527.78\n",
      "Expected utility: 796.97 plus/minus 1.18\n",
      "Confidence interval: [795.79 - 798.15]\n",
      "\n",
      "\n",
      "GENERATED DATA\n",
      "Expected utility:\n",
      "Mean: 78.07\n",
      "Std: 209.44\n",
      "Expected utility: 78.07 plus/minus 0.41\n",
      "Confidence interval: [77.66 - 78.48]\n",
      "\n",
      "\n",
      "Utility:\n",
      "Mean: 245.13\n",
      "Std: 409.25\n",
      "Utility: 245.13 plus/minus 0.80\n",
      "Confidence interval: [244.33 - 245.94]\n"
     ]
    }
   ],
   "source": [
    "print(\"HISTORICAL DATA:\")\n",
    "print(\"Expected utility (from treatment_policy.expected_utility\")\n",
    "print(f\"Mean: {np.mean(exp_uti1):.2f}\")\n",
    "print(f\"Std: {np.std(exp_uti1):.2f}\")\n",
    "\n",
    "#95% Confidence interval\n",
    "z = 1.96\n",
    "upper = np.mean(exp_uti1) + 1.96*np.std(exp_uti1)/features.shape[0]\n",
    "lower = np.mean(exp_uti1) - 1.96*np.std(exp_uti1)/features.shape[0]\n",
    "\n",
    "print(f\"Expected utility: {np.mean(exp_uti1):.2f} plus/minus {(1.96*np.std(exp_uti1)/features.shape[0]):.2f}\")\n",
    "print(f\"Confidence interval: [{lower:.2f} - {upper:.2f}]\")\n",
    "\n",
    "print(\"\\n\")\n",
    "print(\"GENERATED DATA\")\n",
    "print(\"Expected utility:\")\n",
    "print(f\"Mean: {np.mean(exp_uti2):.2f}\")\n",
    "print(f\"Std: {np.std(exp_uti2):.2f}\")\n",
    "\n",
    "upper = np.mean(exp_uti2) + 1.96*np.std(exp_uti2)/n_population\n",
    "lower = np.mean(exp_uti2) - 1.96*np.std(exp_uti2)/n_population\n",
    "\n",
    "print(f\"Expected utility: {np.mean(exp_uti2):.2f} plus/minus {(1.96*np.std(exp_uti2)/n_population):.2f}\")\n",
    "print(f\"Confidence interval: [{lower:.2f} - {upper:.2f}]\")\n",
    "\n",
    "print(\"\\n\")\n",
    "print(\"Utility:\")\n",
    "print(f\"Mean: {np.mean(utilities):.2f}\")\n",
    "print(f\"Std: {np.std(utilities):.2f}\")\n",
    "\n",
    "upper = np.mean(utilities) + 1.96*np.std(utilities)/n_population\n",
    "lower = np.mean(utilities) - 1.96*np.std(utilities)/n_population\n",
    "\n",
    "print(f\"Utility: {np.mean(utilities):.2f} plus/minus {(1.96*np.std(utilities)/n_population):.2f}\")\n",
    "print(f\"Confidence interval: [{lower:.2f} - {upper:.2f}]\")"
   ]
  },
  {
   "cell_type": "markdown",
   "metadata": {},
   "source": [
    "The expected utility for the historical data is much higher than the utility for the"
   ]
  }
 ],
 "metadata": {
  "kernelspec": {
   "display_name": "Python 3",
   "language": "python",
   "name": "python3"
  },
  "language_info": {
   "codemirror_mode": {
    "name": "ipython",
    "version": 3
   },
   "file_extension": ".py",
   "mimetype": "text/x-python",
   "name": "python",
   "nbconvert_exporter": "python",
   "pygments_lexer": "ipython3",
   "version": "3.8.12"
  }
 },
 "nbformat": 4,
 "nbformat_minor": 4
}
