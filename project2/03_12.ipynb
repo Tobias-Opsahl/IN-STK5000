{
 "cells": [
  {
   "cell_type": "markdown",
   "metadata": {},
   "source": [
    "# Final project for Project 2 in IN-STK5000\n",
    "## Alva Hørlyk, Tobias Opsahl and Ece Cetinoglu\n",
    "\n",
    "This notebook is contains what will be the final version of Project 2. Since we have changed a bit under the way, the parts for the 1st and 2nd deadline is a bit different, and we therefore deliver the whole project in this notebook. We go through the exercises starting on the 1st deadline, and ending on the last one. "
   ]
  },
  {
   "cell_type": "markdown",
   "metadata": {},
   "source": [
    "# General information\n",
    "\n",
    "First of all, let us introduce our policy. We will look at treaments, and not vaccines.\n",
    "\n",
    "## Utility\n",
    "To calculate the utility, we look at each person, their symptoms, treaments and outcomes. For each person we calculate the reward, and the utility is simply the sum of the rewards. The reward is calculated by looking at each symptom. \n",
    "If the symptom was there prior to the treatment given, and not afterwards, a positive weight is added. If the symptom was not there before the treatment, but was there afterwards, a negative weight is added, times a penalty. Finally, if any treatment was used (it is not the case that no treatments where used), a treatment-cost is subtracted from the reward.\n",
    "\n",
    "## Policy overview\n",
    "\n",
    "We will provide a short overview of the policy here. The actual code should be pretty well documented, so you can find more details in the doc-strings. \n",
    "\n"
   ]
  },
  {
   "cell_type": "markdown",
   "metadata": {},
   "source": [
    "# 1st Deadline\n",
    "\n"
   ]
  }
 ],
 "metadata": {
  "kernelspec": {
   "display_name": "Python 3",
   "language": "python",
   "name": "python3"
  },
  "language_info": {
   "codemirror_mode": {
    "name": "ipython",
    "version": 3
   },
   "file_extension": ".py",
   "mimetype": "text/x-python",
   "name": "python",
   "nbconvert_exporter": "python",
   "pygments_lexer": "ipython3",
   "version": "3.7.1"
  }
 },
 "nbformat": 4,
 "nbformat_minor": 2
}
