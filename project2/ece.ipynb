{
 "cells": [
  {
   "cell_type": "markdown",
   "metadata": {},
   "source": [
    "# Fair Policies"
   ]
  },
  {
   "cell_type": "markdown",
   "metadata": {},
   "source": [
    "We would like to investigate the fairness of our decision-making algorithm. When we are deciding the treatment method for each individual in our population, we want to make sure that the decision is made fairly and we are just to the individuals. The sensitive variables in our data set are `Age`, `Income` and `Gender`. We want ensure that the sensitive variables do not affect the treatment given to the individuals, such that $\\mathbb{P}^{\\pi}_{\\theta}(a|z) = \\mathbb{P}^{\\pi}_{\\theta}(a)$ for all actions $a$ and sensitive variables $z$."
   ]
  },
  {
   "cell_type": "markdown",
   "metadata": {},
   "source": [
    "For example, if we have more men than women in our population, the decision-making algorithm will be adapted to men."
   ]
  },
  {
   "cell_type": "markdown",
   "metadata": {},
   "source": [
    "We will now analyze the population and look at some numbers and graphs. We will start by generating data and preprocessing. We remove the columns corresponding to genes, and we add the action columns which corresponds to the treatment chosen for each individual."
   ]
  },
  {
   "cell_type": "code",
   "execution_count": 17,
   "metadata": {},
   "outputs": [],
   "source": [
    "# Import packages\n",
    "import numpy as np\n",
    "import pandas as pd\n",
    "import seaborn as sns\n",
    "import matplotlib.pyplot as plt\n",
    "\n",
    "import simulator\n",
    "from policy import Policy, add_feature_names, add_action_names, add_outcome_names"
   ]
  },
  {
   "cell_type": "code",
   "execution_count": 18,
   "metadata": {},
   "outputs": [
    {
     "name": "stdout",
     "output_type": "stream",
     "text": [
      "Initialising policy with  3 actions\n",
      "A = { [0, 1, 2] }\n"
     ]
    }
   ],
   "source": [
    "# Generate data\n",
    "np.random.seed(57)\n",
    "n_genes = 128\n",
    "n_vaccines = 3\n",
    "n_treatments = 3\n",
    "n_population = 10000\n",
    "population = simulator.Population(n_genes, n_vaccines, n_treatments)\n",
    "treatment_policy = Policy(n_treatments, list(range(n_treatments)))\n",
    "X = population.generate(n_population)\n",
    "X = add_feature_names(X)"
   ]
  },
  {
   "cell_type": "code",
   "execution_count": 23,
   "metadata": {},
   "outputs": [
    {
     "data": {
      "text/html": [
       "<div>\n",
       "<style scoped>\n",
       "    .dataframe tbody tr th:only-of-type {\n",
       "        vertical-align: middle;\n",
       "    }\n",
       "\n",
       "    .dataframe tbody tr th {\n",
       "        vertical-align: top;\n",
       "    }\n",
       "\n",
       "    .dataframe thead th {\n",
       "        text-align: right;\n",
       "    }\n",
       "</style>\n",
       "<table border=\"1\" class=\"dataframe\">\n",
       "  <thead>\n",
       "    <tr style=\"text-align: right;\">\n",
       "      <th></th>\n",
       "      <th>Covid-Recovered</th>\n",
       "      <th>Covid-Positive</th>\n",
       "      <th>No-Taste/Smell</th>\n",
       "      <th>Fever</th>\n",
       "      <th>Headache</th>\n",
       "      <th>Pneumonia</th>\n",
       "      <th>Stomach</th>\n",
       "      <th>Myocarditis</th>\n",
       "      <th>Blood-Clots</th>\n",
       "      <th>Death</th>\n",
       "      <th>...</th>\n",
       "      <th>Income</th>\n",
       "      <th>Asthma</th>\n",
       "      <th>Obesity</th>\n",
       "      <th>Smoking</th>\n",
       "      <th>Diabetes</th>\n",
       "      <th>Heart disease</th>\n",
       "      <th>Hypertension</th>\n",
       "      <th>Vaccination status1</th>\n",
       "      <th>Vaccination status2</th>\n",
       "      <th>Vaccination status3</th>\n",
       "    </tr>\n",
       "  </thead>\n",
       "  <tbody>\n",
       "    <tr>\n",
       "      <th>0</th>\n",
       "      <td>0.0</td>\n",
       "      <td>0.0</td>\n",
       "      <td>0.0</td>\n",
       "      <td>0.0</td>\n",
       "      <td>0.0</td>\n",
       "      <td>0.0</td>\n",
       "      <td>0.0</td>\n",
       "      <td>0.0</td>\n",
       "      <td>0.0</td>\n",
       "      <td>0.0</td>\n",
       "      <td>...</td>\n",
       "      <td>50589.621029</td>\n",
       "      <td>0.0</td>\n",
       "      <td>0.0</td>\n",
       "      <td>1.0</td>\n",
       "      <td>0.0</td>\n",
       "      <td>0.0</td>\n",
       "      <td>0.0</td>\n",
       "      <td>0.0</td>\n",
       "      <td>1.0</td>\n",
       "      <td>0.0</td>\n",
       "    </tr>\n",
       "    <tr>\n",
       "      <th>1</th>\n",
       "      <td>0.0</td>\n",
       "      <td>1.0</td>\n",
       "      <td>0.0</td>\n",
       "      <td>0.0</td>\n",
       "      <td>0.0</td>\n",
       "      <td>0.0</td>\n",
       "      <td>0.0</td>\n",
       "      <td>0.0</td>\n",
       "      <td>0.0</td>\n",
       "      <td>0.0</td>\n",
       "      <td>...</td>\n",
       "      <td>8439.866550</td>\n",
       "      <td>0.0</td>\n",
       "      <td>0.0</td>\n",
       "      <td>1.0</td>\n",
       "      <td>0.0</td>\n",
       "      <td>0.0</td>\n",
       "      <td>0.0</td>\n",
       "      <td>1.0</td>\n",
       "      <td>0.0</td>\n",
       "      <td>0.0</td>\n",
       "    </tr>\n",
       "    <tr>\n",
       "      <th>2</th>\n",
       "      <td>0.0</td>\n",
       "      <td>1.0</td>\n",
       "      <td>1.0</td>\n",
       "      <td>0.0</td>\n",
       "      <td>0.0</td>\n",
       "      <td>0.0</td>\n",
       "      <td>0.0</td>\n",
       "      <td>0.0</td>\n",
       "      <td>0.0</td>\n",
       "      <td>0.0</td>\n",
       "      <td>...</td>\n",
       "      <td>11827.743775</td>\n",
       "      <td>0.0</td>\n",
       "      <td>0.0</td>\n",
       "      <td>0.0</td>\n",
       "      <td>0.0</td>\n",
       "      <td>0.0</td>\n",
       "      <td>0.0</td>\n",
       "      <td>0.0</td>\n",
       "      <td>0.0</td>\n",
       "      <td>0.0</td>\n",
       "    </tr>\n",
       "    <tr>\n",
       "      <th>3</th>\n",
       "      <td>0.0</td>\n",
       "      <td>0.0</td>\n",
       "      <td>0.0</td>\n",
       "      <td>0.0</td>\n",
       "      <td>0.0</td>\n",
       "      <td>0.0</td>\n",
       "      <td>0.0</td>\n",
       "      <td>0.0</td>\n",
       "      <td>0.0</td>\n",
       "      <td>0.0</td>\n",
       "      <td>...</td>\n",
       "      <td>7758.514888</td>\n",
       "      <td>1.0</td>\n",
       "      <td>0.0</td>\n",
       "      <td>1.0</td>\n",
       "      <td>1.0</td>\n",
       "      <td>0.0</td>\n",
       "      <td>0.0</td>\n",
       "      <td>0.0</td>\n",
       "      <td>1.0</td>\n",
       "      <td>0.0</td>\n",
       "    </tr>\n",
       "    <tr>\n",
       "      <th>4</th>\n",
       "      <td>0.0</td>\n",
       "      <td>0.0</td>\n",
       "      <td>0.0</td>\n",
       "      <td>0.0</td>\n",
       "      <td>0.0</td>\n",
       "      <td>0.0</td>\n",
       "      <td>0.0</td>\n",
       "      <td>0.0</td>\n",
       "      <td>0.0</td>\n",
       "      <td>0.0</td>\n",
       "      <td>...</td>\n",
       "      <td>9250.411514</td>\n",
       "      <td>0.0</td>\n",
       "      <td>0.0</td>\n",
       "      <td>0.0</td>\n",
       "      <td>0.0</td>\n",
       "      <td>0.0</td>\n",
       "      <td>1.0</td>\n",
       "      <td>0.0</td>\n",
       "      <td>0.0</td>\n",
       "      <td>0.0</td>\n",
       "    </tr>\n",
       "    <tr>\n",
       "      <th>...</th>\n",
       "      <td>...</td>\n",
       "      <td>...</td>\n",
       "      <td>...</td>\n",
       "      <td>...</td>\n",
       "      <td>...</td>\n",
       "      <td>...</td>\n",
       "      <td>...</td>\n",
       "      <td>...</td>\n",
       "      <td>...</td>\n",
       "      <td>...</td>\n",
       "      <td>...</td>\n",
       "      <td>...</td>\n",
       "      <td>...</td>\n",
       "      <td>...</td>\n",
       "      <td>...</td>\n",
       "      <td>...</td>\n",
       "      <td>...</td>\n",
       "      <td>...</td>\n",
       "      <td>...</td>\n",
       "      <td>...</td>\n",
       "      <td>...</td>\n",
       "    </tr>\n",
       "    <tr>\n",
       "      <th>9995</th>\n",
       "      <td>0.0</td>\n",
       "      <td>0.0</td>\n",
       "      <td>0.0</td>\n",
       "      <td>1.0</td>\n",
       "      <td>0.0</td>\n",
       "      <td>0.0</td>\n",
       "      <td>0.0</td>\n",
       "      <td>0.0</td>\n",
       "      <td>0.0</td>\n",
       "      <td>0.0</td>\n",
       "      <td>...</td>\n",
       "      <td>3069.230984</td>\n",
       "      <td>0.0</td>\n",
       "      <td>0.0</td>\n",
       "      <td>0.0</td>\n",
       "      <td>0.0</td>\n",
       "      <td>0.0</td>\n",
       "      <td>0.0</td>\n",
       "      <td>0.0</td>\n",
       "      <td>1.0</td>\n",
       "      <td>0.0</td>\n",
       "    </tr>\n",
       "    <tr>\n",
       "      <th>9996</th>\n",
       "      <td>0.0</td>\n",
       "      <td>0.0</td>\n",
       "      <td>0.0</td>\n",
       "      <td>0.0</td>\n",
       "      <td>0.0</td>\n",
       "      <td>0.0</td>\n",
       "      <td>0.0</td>\n",
       "      <td>0.0</td>\n",
       "      <td>0.0</td>\n",
       "      <td>0.0</td>\n",
       "      <td>...</td>\n",
       "      <td>2191.582159</td>\n",
       "      <td>1.0</td>\n",
       "      <td>0.0</td>\n",
       "      <td>1.0</td>\n",
       "      <td>0.0</td>\n",
       "      <td>0.0</td>\n",
       "      <td>0.0</td>\n",
       "      <td>0.0</td>\n",
       "      <td>0.0</td>\n",
       "      <td>0.0</td>\n",
       "    </tr>\n",
       "    <tr>\n",
       "      <th>9997</th>\n",
       "      <td>0.0</td>\n",
       "      <td>0.0</td>\n",
       "      <td>0.0</td>\n",
       "      <td>0.0</td>\n",
       "      <td>0.0</td>\n",
       "      <td>0.0</td>\n",
       "      <td>0.0</td>\n",
       "      <td>0.0</td>\n",
       "      <td>0.0</td>\n",
       "      <td>0.0</td>\n",
       "      <td>...</td>\n",
       "      <td>1420.684153</td>\n",
       "      <td>0.0</td>\n",
       "      <td>0.0</td>\n",
       "      <td>0.0</td>\n",
       "      <td>0.0</td>\n",
       "      <td>0.0</td>\n",
       "      <td>0.0</td>\n",
       "      <td>1.0</td>\n",
       "      <td>0.0</td>\n",
       "      <td>0.0</td>\n",
       "    </tr>\n",
       "    <tr>\n",
       "      <th>9998</th>\n",
       "      <td>1.0</td>\n",
       "      <td>1.0</td>\n",
       "      <td>0.0</td>\n",
       "      <td>0.0</td>\n",
       "      <td>0.0</td>\n",
       "      <td>0.0</td>\n",
       "      <td>0.0</td>\n",
       "      <td>0.0</td>\n",
       "      <td>0.0</td>\n",
       "      <td>0.0</td>\n",
       "      <td>...</td>\n",
       "      <td>17184.253737</td>\n",
       "      <td>0.0</td>\n",
       "      <td>1.0</td>\n",
       "      <td>0.0</td>\n",
       "      <td>1.0</td>\n",
       "      <td>0.0</td>\n",
       "      <td>1.0</td>\n",
       "      <td>0.0</td>\n",
       "      <td>0.0</td>\n",
       "      <td>0.0</td>\n",
       "    </tr>\n",
       "    <tr>\n",
       "      <th>9999</th>\n",
       "      <td>1.0</td>\n",
       "      <td>0.0</td>\n",
       "      <td>0.0</td>\n",
       "      <td>0.0</td>\n",
       "      <td>0.0</td>\n",
       "      <td>0.0</td>\n",
       "      <td>0.0</td>\n",
       "      <td>0.0</td>\n",
       "      <td>0.0</td>\n",
       "      <td>0.0</td>\n",
       "      <td>...</td>\n",
       "      <td>7835.107581</td>\n",
       "      <td>1.0</td>\n",
       "      <td>0.0</td>\n",
       "      <td>0.0</td>\n",
       "      <td>0.0</td>\n",
       "      <td>0.0</td>\n",
       "      <td>0.0</td>\n",
       "      <td>0.0</td>\n",
       "      <td>0.0</td>\n",
       "      <td>0.0</td>\n",
       "    </tr>\n",
       "  </tbody>\n",
       "</table>\n",
       "<p>10000 rows × 22 columns</p>\n",
       "</div>"
      ],
      "text/plain": [
       "      Covid-Recovered  Covid-Positive  No-Taste/Smell  Fever  Headache  \\\n",
       "0                 0.0             0.0             0.0    0.0       0.0   \n",
       "1                 0.0             1.0             0.0    0.0       0.0   \n",
       "2                 0.0             1.0             1.0    0.0       0.0   \n",
       "3                 0.0             0.0             0.0    0.0       0.0   \n",
       "4                 0.0             0.0             0.0    0.0       0.0   \n",
       "...               ...             ...             ...    ...       ...   \n",
       "9995              0.0             0.0             0.0    1.0       0.0   \n",
       "9996              0.0             0.0             0.0    0.0       0.0   \n",
       "9997              0.0             0.0             0.0    0.0       0.0   \n",
       "9998              1.0             1.0             0.0    0.0       0.0   \n",
       "9999              1.0             0.0             0.0    0.0       0.0   \n",
       "\n",
       "      Pneumonia  Stomach  Myocarditis  Blood-Clots  Death  ...        Income  \\\n",
       "0           0.0      0.0          0.0          0.0    0.0  ...  50589.621029   \n",
       "1           0.0      0.0          0.0          0.0    0.0  ...   8439.866550   \n",
       "2           0.0      0.0          0.0          0.0    0.0  ...  11827.743775   \n",
       "3           0.0      0.0          0.0          0.0    0.0  ...   7758.514888   \n",
       "4           0.0      0.0          0.0          0.0    0.0  ...   9250.411514   \n",
       "...         ...      ...          ...          ...    ...  ...           ...   \n",
       "9995        0.0      0.0          0.0          0.0    0.0  ...   3069.230984   \n",
       "9996        0.0      0.0          0.0          0.0    0.0  ...   2191.582159   \n",
       "9997        0.0      0.0          0.0          0.0    0.0  ...   1420.684153   \n",
       "9998        0.0      0.0          0.0          0.0    0.0  ...  17184.253737   \n",
       "9999        0.0      0.0          0.0          0.0    0.0  ...   7835.107581   \n",
       "\n",
       "      Asthma  Obesity  Smoking  Diabetes  Heart disease  Hypertension  \\\n",
       "0        0.0      0.0      1.0       0.0            0.0           0.0   \n",
       "1        0.0      0.0      1.0       0.0            0.0           0.0   \n",
       "2        0.0      0.0      0.0       0.0            0.0           0.0   \n",
       "3        1.0      0.0      1.0       1.0            0.0           0.0   \n",
       "4        0.0      0.0      0.0       0.0            0.0           1.0   \n",
       "...      ...      ...      ...       ...            ...           ...   \n",
       "9995     0.0      0.0      0.0       0.0            0.0           0.0   \n",
       "9996     1.0      0.0      1.0       0.0            0.0           0.0   \n",
       "9997     0.0      0.0      0.0       0.0            0.0           0.0   \n",
       "9998     0.0      1.0      0.0       1.0            0.0           1.0   \n",
       "9999     1.0      0.0      0.0       0.0            0.0           0.0   \n",
       "\n",
       "      Vaccination status1  Vaccination status2  Vaccination status3  \n",
       "0                     0.0                  1.0                  0.0  \n",
       "1                     1.0                  0.0                  0.0  \n",
       "2                     0.0                  0.0                  0.0  \n",
       "3                     0.0                  1.0                  0.0  \n",
       "4                     0.0                  0.0                  0.0  \n",
       "...                   ...                  ...                  ...  \n",
       "9995                  0.0                  1.0                  0.0  \n",
       "9996                  0.0                  0.0                  0.0  \n",
       "9997                  1.0                  0.0                  0.0  \n",
       "9998                  0.0                  0.0                  0.0  \n",
       "9999                  0.0                  0.0                  0.0  \n",
       "\n",
       "[10000 rows x 22 columns]"
      ]
     },
     "execution_count": 23,
     "metadata": {},
     "output_type": "execute_result"
    }
   ],
   "source": [
    "# Remove genes\n",
    "temp1 = X.iloc[:, :13] \n",
    "temp2 = X.iloc[:, -9:]\n",
    "features = temp1.join(temp2)\n",
    "features"
   ]
  },
  {
   "cell_type": "code",
   "execution_count": 31,
   "metadata": {},
   "outputs": [
    {
     "name": "stdout",
     "output_type": "stream",
     "text": [
      "Initialising policy with  3 actions\n",
      "A = { [0, 1, 2] }\n"
     ]
    }
   ],
   "source": [
    "# Get actions\n",
    "np.random.seed(57)\n",
    "A = treatment_policy.get_action(X)\n",
    "features = pd.DataFrame(X)\n",
    "actions = pd.DataFrame(A)\n",
    "actions.columns = [\"Treatment1\", \"Treatment2\", \"Treatment3\"]\n",
    "features = features.join(actions)\n",
    "\n",
    "# Create a single Treatment column for easier data visualizing \n",
    "features.loc[features.Treatment1 == 1.0, \"Treatment\"] = \"1\"\n",
    "features.loc[features.Treatment2 == 1.0, \"Treatment\"] = \"2\"\n",
    "features.loc[features.Treatment3 == 1.0, \"Treatment\"] = \"3\"\n"
   ]
  },
  {
   "cell_type": "code",
   "execution_count": null,
   "metadata": {},
   "outputs": [],
   "source": []
  },
  {
   "cell_type": "markdown",
   "metadata": {},
   "source": [
    "## Gender"
   ]
  },
  {
   "cell_type": "markdown",
   "metadata": {},
   "source": [
    "We will first investigate `Gender`. We assume that `Gender` is `0.0` for men and `1.0` for women."
   ]
  },
  {
   "cell_type": "code",
   "execution_count": 32,
   "metadata": {},
   "outputs": [],
   "source": [
    "# Gender\n",
    "women_nr = features[features.Gender == 1.0].shape[0]\n",
    "men_nr = features[features.Gender == 0.0].shape[0]\n",
    "g1 = features.groupby(by=\"Gender\")[\"Treatment1\"].value_counts(normalize=True)\n",
    "g2 = features.groupby(by=\"Gender\")[\"Treatment2\"].value_counts(normalize=True)\n",
    "g3 = features.groupby(by=\"Gender\")[\"Treatment3\"].value_counts(normalize=True)"
   ]
  },
  {
   "cell_type": "code",
   "execution_count": 33,
   "metadata": {},
   "outputs": [
    {
     "data": {
      "text/plain": [
       "(Gender  Treatment1\n",
       " 0.0     0.0           0.842327\n",
       "         1.0           0.157673\n",
       " 1.0     0.0           0.707278\n",
       "         1.0           0.292722\n",
       " Name: Treatment1, dtype: float64, Gender  Treatment2\n",
       " 0.0     0.0           0.671013\n",
       "         1.0           0.328987\n",
       " 1.0     0.0           0.706481\n",
       "         1.0           0.293519\n",
       " Name: Treatment2, dtype: float64, Gender  Treatment3\n",
       " 0.0     1.0           0.513340\n",
       "         0.0           0.486660\n",
       " 1.0     0.0           0.586241\n",
       "         1.0           0.413759\n",
       " Name: Treatment3, dtype: float64)"
      ]
     },
     "execution_count": 33,
     "metadata": {},
     "output_type": "execute_result"
    }
   ],
   "source": [
    "g1, g2, g3 # Vet ikke om det er nødvendig"
   ]
  },
  {
   "cell_type": "code",
   "execution_count": 34,
   "metadata": {},
   "outputs": [
    {
     "name": "stdout",
     "output_type": "stream",
     "text": [
      "Number of women: 5015\n",
      "Number of men: 4985\n"
     ]
    }
   ],
   "source": [
    "print(f\"Number of women: {women_nr}\")\n",
    "print(f\"Number of men: {men_nr}\")"
   ]
  },
  {
   "cell_type": "markdown",
   "metadata": {},
   "source": [
    "We almost have equal amount of men and women in our population. We now check which treatment each gender has gotten:"
   ]
  },
  {
   "cell_type": "code",
   "execution_count": null,
   "metadata": {},
   "outputs": [],
   "source": []
  },
  {
   "cell_type": "code",
   "execution_count": 35,
   "metadata": {},
   "outputs": [
    {
     "data": {
      "image/png": "[encoded data removed]",
      "text/plain": [
       "<Figure size 432x288 with 1 Axes>"
      ]
     },
     "metadata": {},
     "output_type": "display_data"
    }
   ],
   "source": [
    "sns.set_theme()\n",
    "sns.histplot(data = features.sort_values(by=\"Treatment\"), x = \"Treatment\", hue = \"Gender\", multiple=\"dodge\", shrink=.8)\n",
    "plt.title(\"Treatment type vs. Gender\")\n",
    "plt.show()"
   ]
  },
  {
   "cell_type": "markdown",
   "metadata": {},
   "source": [
    "We observe that there are more men who received Treatment 3 than woman, and there are more women who received Treatment 1 than men. The different treatments are not equally distributed amongst genders. If we have a policy that is unfair to one of the genders, then the policy might have decided to give the worse treatment to individuals of the gender that we treat unfairly, i.e giving women the less effective treatment. If our policy is fair, then the treatments are given to each genders truly based on what is the best for them. "
   ]
  },
  {
   "cell_type": "markdown",
   "metadata": {},
   "source": [
    "## Income"
   ]
  },
  {
   "cell_type": "markdown",
   "metadata": {},
   "source": [
    "We categorize the individuals by their income. We now have two income categories: low and high income. Every individual with an income less than the median income for the entire population are categorized as `Low income`, and every individual with an income greater than the median income is categorized as `High income`. We would like to see which treatment is frequently given to individuals with low and high income."
   ]
  },
  {
   "cell_type": "code",
   "execution_count": 36,
   "metadata": {},
   "outputs": [],
   "source": [
    "# Income\n",
    "median = features.Income.median()\n",
    "features.loc[features.Income.values < median, \"Income category\"] = \"Low income\"\n",
    "features.loc[features.Income.values >= median, \"Income category\"] = \"High income\"\n",
    "\n",
    "i1 = features.groupby(by=\"Income category\")[\"Treatment1\"].value_counts(normalize=True)\n",
    "i2 = features.groupby(by=\"Income category\")[\"Treatment2\"].value_counts(normalize=True)\n",
    "i3 = features.groupby(by=\"Income category\")[\"Treatment3\"].value_counts(normalize=True)"
   ]
  },
  {
   "cell_type": "code",
   "execution_count": 37,
   "metadata": {},
   "outputs": [
    {
     "data": {
      "text/plain": [
       "(Income category  Treatment1\n",
       " High income      0.0           0.8464\n",
       "                  1.0           0.1536\n",
       " Low income       0.0           0.7028\n",
       "                  1.0           0.2972\n",
       " Name: Treatment1, dtype: float64, Income category  Treatment2\n",
       " High income      0.0           0.6886\n",
       "                  1.0           0.3114\n",
       " Low income       0.0           0.6890\n",
       "                  1.0           0.3110\n",
       " Name: Treatment2, dtype: float64, Income category  Treatment3\n",
       " High income      1.0           0.5350\n",
       "                  0.0           0.4650\n",
       " Low income       0.0           0.6082\n",
       "                  1.0           0.3918\n",
       " Name: Treatment3, dtype: float64)"
      ]
     },
     "execution_count": 37,
     "metadata": {},
     "output_type": "execute_result"
    }
   ],
   "source": [
    "i1, i2, i3 # Vet ikke om det er nødvendig"
   ]
  },
  {
   "cell_type": "code",
   "execution_count": 41,
   "metadata": {},
   "outputs": [
    {
     "data": {
      "image/png": "[encoded data removed]",
      "text/plain": [
       "<Figure size 432x288 with 1 Axes>"
      ]
     },
     "metadata": {},
     "output_type": "display_data"
    },
    {
     "data": {
      "text/plain": [
       "9886.804977427899"
      ]
     },
     "execution_count": 41,
     "metadata": {},
     "output_type": "execute_result"
    }
   ],
   "source": [
    "sns.set_theme()\n",
    "sns.histplot(data = features.sort_values(by=\"Treatment\"), x = \"Treatment\", hue = \"Income category\", multiple=\"dodge\", shrink=.8)\n",
    "plt.title(\"Treatment type vs. Income\")\n",
    "plt.show()\n",
    "#features[\"Income\"].mean()"
   ]
  },
  {
   "cell_type": "markdown",
   "metadata": {},
   "source": [
    "While the Treatment 2 is given to same amount of individuals with low and high income, we also observe that the number of people with low income who received Treatment 3 is greater than the number of people with high income who receive the same treatment. We also see that many people with high income has received Treatment 1. The different treatments are not distributed evenly amongst the two groups."
   ]
  },
  {
   "cell_type": "markdown",
   "metadata": {},
   "source": [
    "## Age"
   ]
  },
  {
   "cell_type": "markdown",
   "metadata": {},
   "source": [
    "We categorize the individuals by their age. We first tried to create five uniformly spaced age categories. However, this did not work very well, since the column `Age` has Gamma distribution and we have more young people than old people."
   ]
  },
  {
   "cell_type": "code",
   "execution_count": 26,
   "metadata": {},
   "outputs": [
    {
     "data": {
      "image/png": "[encoded data removed]",
      "text/plain": [
       "<Figure size 432x288 with 1 Axes>"
      ]
     },
     "metadata": {},
     "output_type": "display_data"
    }
   ],
   "source": [
    "# Plot showing the age frequencies\n",
    "sns.histplot(data = features, x = \"Age\")\n",
    "plt.show()"
   ]
  },
  {
   "cell_type": "code",
   "execution_count": 40,
   "metadata": {},
   "outputs": [],
   "source": [
    "age_limits = np.linspace(features.Age.min(), features.Age.max(), 6, dtype=int)\n",
    "age_category = pd.DataFrame(pd.cut(features.Age, bins=age_limits,\n",
    "                                   labels=[\"Age<24\",\"24<=Age<47\", \"47<=Age<71\", \"71<=Age<94\", \"Age>94\"],\n",
    "                                   include_lowest=True, ordered=True))\n",
    "\n",
    "age_category.columns = [\"age_category\"]\n",
    "features = features.join(age_category)"
   ]
  },
  {
   "cell_type": "code",
   "execution_count": 41,
   "metadata": {},
   "outputs": [
    {
     "data": {
      "image/png": "[encoded data removed]",
      "text/plain": [
       "<Figure size 432x288 with 1 Axes>"
      ]
     },
     "metadata": {},
     "output_type": "display_data"
    }
   ],
   "source": [
    "# Plot showing the age frequencies with 5 age categories\n",
    "sns.histplot(data = features.sort_values(by=\"Treatment\"), x = \"Treatment\", hue = \"age_category\", multiple=\"dodge\", shrink=0.8)\n",
    "plt.show()"
   ]
  },
  {
   "cell_type": "markdown",
   "metadata": {},
   "source": [
    "We then decided to have two age categories: young and old. Every individual with an age smaller than the median age for the entire population are categorized as `Young`, and every individual with an age bigger than the median age is categorized as `Old`. We would like to see which treatment is frequently given to young and old individuals."
   ]
  },
  {
   "cell_type": "code",
   "execution_count": 53,
   "metadata": {},
   "outputs": [],
   "source": [
    "features.drop(\"age_category\", axis=1, inplace=True)\n",
    "median_age = features.Age.median()\n",
    "features.loc[features.Age.values < median_age, \"age_category\"] = \"Young\"\n",
    "features.loc[features.Age.values >= median_age, \"age_category\"] = \"Old\""
   ]
  },
  {
   "cell_type": "code",
   "execution_count": 54,
   "metadata": {},
   "outputs": [
    {
     "data": {
      "image/png": "[encoded data removed]",
      "text/plain": [
       "<Figure size 432x288 with 1 Axes>"
      ]
     },
     "metadata": {},
     "output_type": "display_data"
    }
   ],
   "source": [
    "sns.histplot(data = features.sort_values(by=\"Treatment\"), x = \"Treatment\", hue = \"age_category\", multiple=\"dodge\", shrink=0.8)\n",
    "plt.title(\"Treatment type vs. Age\")\n",
    "plt.show()"
   ]
  },
  {
   "cell_type": "markdown",
   "metadata": {},
   "source": [
    "We observe that if the individual is young, they are often treated with Treatment 3. If the policy gives Treatment 3 to younger individuals simply because it is a better treatment method and we prioritize healing the young, then this is very unfair to the older individuals. However, if Treatment 3 is known to work better for young people and the other treatments work better for older people, then the policy is considered quite fair."
   ]
  },
  {
   "cell_type": "code",
   "execution_count": null,
   "metadata": {},
   "outputs": [],
   "source": []
  },
  {
   "cell_type": "code",
   "execution_count": null,
   "metadata": {},
   "outputs": [],
   "source": []
  }
 ],
 "metadata": {
  "kernelspec": {
   "display_name": "Python 3",
   "language": "python",
   "name": "python3"
  },
  "language_info": {
   "codemirror_mode": {
    "name": "ipython",
    "version": 3
   },
   "file_extension": ".py",
   "mimetype": "text/x-python",
   "name": "python",
   "nbconvert_exporter": "python",
   "pygments_lexer": "ipython3",
   "version": "3.7.1"
  }
 },
 "nbformat": 4,
 "nbformat_minor": 4
}
