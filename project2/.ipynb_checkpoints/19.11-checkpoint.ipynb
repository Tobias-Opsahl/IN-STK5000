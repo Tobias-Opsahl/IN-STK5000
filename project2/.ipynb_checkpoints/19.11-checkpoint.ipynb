{
 "cells": [
  {
   "cell_type": "markdown",
   "metadata": {},
   "source": [
    "### Note:\n",
    "\n",
    "The file \"aux.py\" was changed to \"aux_file.py\". The notebook also need the Policy and some common libraries to run. seaborn should be version 0.11.0."
   ]
  },
  {
   "cell_type": "markdown",
   "metadata": {},
   "source": [
    "# Changes\n",
    "\n",
    "We did some changes from the last assignement. Firstly, we specified our utility function. We now define utility as the following: For each symptom, if the patient _did_ experience the symptoms before, but not after the treatment, a positive weight is added. If the patient _did not_ experience the symptom before, but did after, there is a negative weight added. The weights are corresponding to the severity of the disease, and they are taken from the code sceleton. Finally, if an action is used, a negative constant is added. This symbolizes that the treatment is not free. This allows us to not treat poeple that are completely healthy before and after. \n",
    "\n",
    "Secondly, we drasticly changed our model to a more complex one. We think this model is more like what the assignment-creator thought of, but we are not happy with how complex it is. However, we now predict the outcomes rather than the utility/reward. We start by initializing some actions from the RandomPolicy class. Thereafter, for each of the three treatments, for each of the 9 symptoms ('Covid-Positive', 'No-Taste/Smell', 'Fever', 'Headache', 'Pneumonia', 'Stomach', 'Myocarditis', 'Blood-Clots', 'Death'), we fit a logistic regression model to predict if the patient will experience the symptom, given an action (treatment) and given the data. The data is the symptom before the treatment, age, income, gender and the comorbidieties. We remove genes because it only looks like noise in all our tests, and we assume that the symptoms does not affect each other. Then, we chose and action for each person corresponding to the highest expected reward for each person. If all the rewards are negative, we chose no treatment. After getting the actions once, the observe() function can be called again, to update the fitting process on the new features, actions and outcomes. "
   ]
  },
  {
   "cell_type": "code",
   "execution_count": 16,
   "metadata": {},
   "outputs": [],
   "source": [
    "import numpy as np\n",
    "import pandas as pd\n",
    "from aux_file import symptom_names\n",
    "import simulator\n",
    "from IPython import embed\n",
    "from sklearn.linear_model import LinearRegression, LogisticRegression\n",
    "from sklearn import preprocessing\n",
    "\n",
    "np.warnings.filterwarnings('ignore', category=np.VisibleDeprecationWarning)"
   ]
  },
  {
   "cell_type": "code",
   "execution_count": 17,
   "metadata": {},
   "outputs": [],
   "source": [
    "class Policy:\n",
    "    \"\"\" A policy for treatment/vaccination. \"\"\"\n",
    "    def __init__(self, n_actions, action_set):\n",
    "        \"\"\" Initialise.\n",
    "        Args:\n",
    "        n_actions (int): the number of actions\n",
    "        action_set (list): the set of actions\n",
    "        \"\"\"\n",
    "        self.n_actions = n_actions\n",
    "        self.action_set = action_set\n",
    "    \n",
    "    def initialize_data(self, n_population):\n",
    "        population = simulator.Population(128, 3, 3)\n",
    "        treatment_policy = RandomPolicy(3, list(range(3))) \n",
    "        self.n_population = n_population\n",
    "        self.features = population.generate(self.n_population)\n",
    "        self.actions = treatment_policy.get_action(self.features)\n",
    "        self.outcomes = population.treat(list(range(n_population)), self.actions)\n",
    "        return self.features, self.actions, self.outcomes\n",
    "    \n",
    "    def feature_select(self, X, symptom_index=1):\n",
    "        \"\"\"\n",
    "        Chooses some columns in X.\n",
    "        0 Covid-Recovered\n",
    "        1 Covid-Positive\n",
    "        2 No-Taste/Smell\n",
    "        3 Fever\n",
    "        4 Headache\n",
    "        5 Pneumonia\n",
    "        6 Stomach\n",
    "        7 Myocarditis\n",
    "        8 Blood-Clots\n",
    "        9 Death\n",
    "        10 Age\n",
    "        11 Gender\n",
    "        12 Income\n",
    "        141 Asthma\n",
    "        142 Obesity\n",
    "        143 Smoking\n",
    "        144 Diabetes\n",
    "        145 Heart disease\n",
    "        146 Hypertension\n",
    "        \"\"\"\n",
    "        N = X[:, [symptom_index, 10, 11, 12, 141, 142, 143, 144, 143, 144, 145, 146]]\n",
    "        # df = add_feature_names(X)\n",
    "        # temp1 = df.iloc[:, :13]\n",
    "        # temp2 = df.iloc[:, -9:-3]\n",
    "        # return np.asmatrix(temp1.join(temp2))\n",
    "        return N\n",
    "        \n",
    "    def get_reward(self, features, actions, outcome, penalty=1.5, threshold=0.5):\n",
    "        \"\"\"\n",
    "        Out:\n",
    "            rewards (np.array): Array of rewards, corresponding to the persons\n",
    "                in features (and actions and outcome).\n",
    "        This method calculates the reward, the utility of a single person. This\n",
    "        is returned as an array with values corresponding to the reward of each \n",
    "        persons. \n",
    "        The reward is given by a positive weight if a person has recovered \n",
    "        a symptom, and the corresponding negativ weight, times a penalty factor\n",
    "        \"penalty\" if the person has gotten the symptom. If the person had the\n",
    "        symptom and did not get rid of it, nothing is done.\n",
    "        \"\"\"\n",
    "        rewards = np.zeros(len(outcome))\n",
    "        weights = [0, 0.2, 0.1, 0.1, 0.1, 0.5, 0.2, 0.5, 1.0, 100.0]\n",
    "        for t in range(len(features)):\n",
    "            utility = 0\n",
    "            for i in range(1, len(weights)): # i loops over the sypmtom indexes\n",
    "                if features[t, i] == 1 and outcome[t, i-1] < threshold:\n",
    "                    utility += weights[i]\n",
    "                if features[t, i] == 0 and outcome[t, i-1] >= threshold:\n",
    "                    utility -= weights[i] * penalty\n",
    "            if sum(actions[t, :]) > 0: # Some action were used\n",
    "                utility = utility - 0.1 # The treatment is not free\n",
    "            rewards[t] = utility \n",
    "            \n",
    "        return rewards\n",
    "        \n",
    "    ## Observe the features, treatments and outcomes of one or more individuals\n",
    "    def observe(self, features, actions, outcomes):\n",
    "        \"\"\"Observe features, actions and outcomes.\n",
    "        Args:\n",
    "        features (t*|X| array)\n",
    "        actions (t*|A| array)\n",
    "        outcomes (t*|Y| array)\n",
    "        The function is used to adapt a model to the observed\n",
    "        outcomes, given the actions and features. I suggest you create\n",
    "        a model that estimates P(y | x,a) and fit it as appropriate.\n",
    "        If the model cannot be updated incrementally, you can save all\n",
    "        observed x,a,y triplets in a database and retrain whenever you\n",
    "        obtain new data.\n",
    "        Pseudocode:\n",
    "            self.data.append(features, actions, outcomes)\n",
    "            self.model.fit(data)\n",
    "        \"\"\"\n",
    "        self.features = features\n",
    "        self.actions = actions\n",
    "        self.outcomes = outcomes\n",
    "        symtpoms = ['Covid-Recovered', 'Covid-Positive', 'No-Taste/Smell', 'Fever',\n",
    "                    'Headache', 'Pneumonia', 'Stomach', 'Myocarditis', 'Blood-Clots', 'Death']\n",
    "        symptom_indexes = [1, 2, 3, 4, 5, 6, 7, 8, 9]\n",
    "        # symptom_indexes = 9\n",
    "        models = []\n",
    "        for treatment in range(3):\n",
    "            indexes = self.actions[:, treatment] == 1\n",
    "            for symptom_index in symptom_indexes:\n",
    "                feat = self.features[indexes]\n",
    "                out = self.outcomes[indexes]\n",
    "                x_data = self.feature_select(feat, symptom_index)\n",
    "                y_data = out[:, symptom_index]\n",
    "                logistic_model = LogisticRegression()\n",
    "                scaler = preprocessing.StandardScaler().fit(x_data)\n",
    "                x_scaled = scaler.transform(x_data)\n",
    "                model = logistic_model.fit(x_scaled, y_data)\n",
    "                # print(f\"sum y_data: {sum(y_data)}\")\n",
    "                models.append(logistic_model)\n",
    "        self.models1 = models[:9]\n",
    "        self.models2 = models[9:18]\n",
    "        self.models3 = models[18:]\n",
    "        \n",
    "    def get_utility(self, features, actions, outcome):\n",
    "        \"\"\" Obtain the empirical utility of the policy on a set of one or more people. \n",
    "        If there are t individuals with x features, and the action\n",
    "        \n",
    "        Args:\n",
    "        features (t*|X| array)\n",
    "        actions (t*|A| array)\n",
    "        outcomes (t*|Y| array)\n",
    "        Returns:\n",
    "        Empirical utility of the policy on this data.\n",
    "        \"\"\"\n",
    "        utility = sum(self.get_reward(features, actions, outcome))\n",
    "        return utility\n",
    "        \n",
    "    def get_action(self, features):\n",
    "        \"\"\"Get actions for one or more people. \n",
    "        Args: \n",
    "        features (t*|X| array)\n",
    "        Returns: \n",
    "        actions (t*|A| array)\n",
    "        Here you should take the action maximising expected utility\n",
    "        according to your model. This model can be arbitrary, but\n",
    "        should be adapted using the observe() method.\n",
    "        Pseudocode:\n",
    "           for action in appropriate_action_set:\n",
    "                p = self.model.get_probabilities(features, action)\n",
    "                u[action] = self.get_expected_utility(action, p)\n",
    "           return argmax(u)\n",
    "        You are expected to create whatever helper functions you need.\n",
    "        \"\"\"\n",
    "        symtpoms = ['Covid-Recovered', 'Covid-Positive', 'No-Taste/Smell', 'Fever',\n",
    "                    'Headache', 'Pneumonia', 'Stomach', 'Myocarditis', 'Blood-Clots', 'Death']\n",
    "        symptom_indexes = [1, 2, 3, 4, 5, 6, 7, 8, 9]\n",
    "        post_symptoms1 = np.zeros((len(features), len(symptom_indexes)))\n",
    "        post_symptoms2 = np.zeros((len(features), len(symptom_indexes)))\n",
    "        post_symptoms3 = np.zeros((len(features), len(symptom_indexes)))\n",
    "        \n",
    "        for symptom_index in symptom_indexes: \n",
    "            x_data = self.feature_select(features, symptom_index)\n",
    "            scaler = preprocessing.StandardScaler().fit(x_data)\n",
    "            x_scaled = scaler.transform(x_data)\n",
    "            pred1 = self.models1[symptom_index - 1].predict_proba(x_scaled)[:, 1]\n",
    "            pred2 = self.models2[symptom_index - 1].predict_proba(x_scaled)[:, 1]\n",
    "            pred3 = self.models3[symptom_index - 1].predict_proba(x_scaled)[:, 1]\n",
    "            post_symptoms1[:, symptom_index-1] = pred1\n",
    "            post_symptoms2[:, symptom_index-1] = pred2\n",
    "            post_symptoms3[:, symptom_index-1] = pred3\n",
    "        \n",
    "        mock_actions = np.ones((self.n_population, 3)) # Represent an actions has been done\n",
    "        rewards1 = self.get_reward(features, mock_actions, post_symptoms1)\n",
    "        rewards2 = self.get_reward(features, mock_actions, post_symptoms2)\n",
    "        rewards3 = self.get_reward(features, mock_actions, post_symptoms3)\n",
    "        \n",
    "        actions = np.zeros([n_population, self.n_actions])\n",
    "        for t in range(n_population):\n",
    "            # print(f\"1: {pred1[t]} 2: {pred2[t]} 3: {pred3[t]}\")\n",
    "            if np.max(np.asarray([rewards1[t], rewards2[t], rewards3[t]])) < 0:\n",
    "                actions[t, 0] = 0 # Do nothing\n",
    "            elif rewards1[t] >= rewards2[t] and rewards1[t] >= rewards3[t]:\n",
    "                actions[t, 0] = 1\n",
    "            elif rewards2[t] >= rewards1[t] and rewards2[t] >= rewards3[t]:\n",
    "                actions[t, 1] = 1\n",
    "            elif rewards3[t] >= rewards1[t] and rewards3[t] >= rewards2[t]:\n",
    "                actions[t, 2] = 1\n",
    "        # embed()\n",
    "        return actions\n",
    "    \n",
    "    def get_arguments(self):\n",
    "        return self.features, self.actions, self.outcomes"
   ]
  },
  {
   "cell_type": "code",
   "execution_count": 18,
   "metadata": {},
   "outputs": [],
   "source": [
    "class RandomPolicy(Policy):\n",
    "    \"\"\" This is a purely random policy!\"\"\"\n",
    "\n",
    "    def get_utility(self, features, action, outcome):\n",
    "        \"\"\"Here the utiliy is defined in terms of the outcomes obtained only, ignoring both the treatment and the previous condition.\n",
    "        \"\"\"\n",
    "        actions = self.get_action(features)\n",
    "        utility = 0\n",
    "        utility -= 0.2 * sum(outcome[:,symptom_names['Covid-Positive']])\n",
    "        utility -= 0.1 * sum(outcome[:,symptom_names['Taste']])\n",
    "        utility -= 0.1 * sum(outcome[:,symptom_names['Fever']])\n",
    "        utility -= 0.1 * sum(outcome[:,symptom_names['Headache']])\n",
    "        utility -= 0.5 * sum(outcome[:,symptom_names['Pneumonia']])\n",
    "        utility -= 0.2 * sum(outcome[:,symptom_names['Stomach']])\n",
    "        utility -= 0.5 * sum(outcome[:,symptom_names['Myocarditis']])\n",
    "        utility -= 1.0 * sum(outcome[:,symptom_names['Blood-Clots']])\n",
    "        utility -= 100.0 * sum(outcome[:,symptom_names['Death']])\n",
    "        return utility\n",
    "    \n",
    "    def get_action(self, features):\n",
    "        \"\"\"Get a completely random set of actions, but only one for each individual.\n",
    "        If there is more than one individual, feature has dimensions t*x matrix, otherwise it is an x-size array.\n",
    "        \n",
    "        It assumes a finite set of actions.\n",
    "        Returns:\n",
    "        A t*|A| array of actions\n",
    "        \"\"\"\n",
    "\n",
    "        n_people = features.shape[0]\n",
    "        ##print(\"Acting for \", n_people, \"people\");\n",
    "        actions = np.zeros([n_people, self.n_actions])\n",
    "        for t in range(features.shape[0]):\n",
    "            action = np.random.choice(self.action_set)\n",
    "            if (action >= 0):\n",
    "                actions[t,action] = 1\n",
    "            \n",
    "        return actions"
   ]
  },
  {
   "cell_type": "code",
   "execution_count": 19,
   "metadata": {},
   "outputs": [],
   "source": [
    "def add_feature_names(X):\n",
    "    features_data = pd.DataFrame(X)\n",
    "    # features =  [\"Covid-Recovered\", \"Age\", \"Gender\", \"Income\", \"Genome\", \"Comorbidities\", \"Vaccination status\"]\n",
    "    features = []\n",
    "    # features += [\"Symptoms\" + str(i) for i in range(1, 11)]\n",
    "    features += [\"Covid-Recovered\", \"Covid-Positive\", \"No-Taste/Smell\", \"Fever\", \n",
    "                 \"Headache\", \"Pneumonia\", \"Stomach\", \"Myocarditis\", \n",
    "                 \"Blood-Clots\", \"Death\"]\n",
    "    features += [\"Age\", \"Gender\", \"Income\"]\n",
    "    features += [\"Genome\" + str(i) for i in range(1, 129)]\n",
    "    # features += [\"Comorbidities\" + str(i) for i in range(1, 7)]\n",
    "    features += [\"Asthma\", \"Obesity\", \"Smoking\", \"Diabetes\", \n",
    "                 \"Heart disease\", \"Hypertension\"]\n",
    "    features += [\"Vaccination status\" + str(i) for i in range(1, 4)]\n",
    "    features_data.columns = features\n",
    "    return features_data"
   ]
  },
  {
   "cell_type": "markdown",
   "metadata": {},
   "source": [
    "Since we changed the model, the privatized data behaves differently, so we will repeat it here. We now think it makes more sence to privatize the actions, despite the privacy risk given in the feedback. This is because privatizing the symptoms can give a false sence of good utility, since it can artificially add symtpoms before treatment, and remove symptoms after treatment, which artificially makes the policy look better. "
   ]
  },
  {
   "cell_type": "code",
   "execution_count": 20,
   "metadata": {},
   "outputs": [],
   "source": [
    "def privatize_actions(A, theta):\n",
    "    \"\"\"\n",
    "    Adds noise to the actions chosen bu the model. This is currently done\n",
    "    a little bit primitive, since person no longer receives exactly one\n",
    "    treatment.\n",
    "    \"\"\"\n",
    "    A1 = A.copy()\n",
    "    for i in range(A1.shape[1]):\n",
    "        A1[:, i] = randomize(A1[:, i], theta)\n",
    "    return A1\n",
    "    \n",
    "def randomize(a, theta):\n",
    "    \"\"\"\n",
    "    Randomize a single column. Simply add a cointoss to \"theta\" amount of the data\n",
    "    \"\"\"\n",
    "    coins = np.random.choice([True, False], p=(theta, (1-theta)), size=a.shape)\n",
    "    noise = np.random.choice([0, 1], size=a.shape)\n",
    "    response = np.array(a)\n",
    "    response[~coins] = noise[~coins]\n",
    "    return response "
   ]
  },
  {
   "cell_type": "code",
   "execution_count": 21,
   "metadata": {},
   "outputs": [],
   "source": [
    "np.random.seed(57)\n",
    "n_genes = 128\n",
    "n_vaccines = 3\n",
    "n_treatments = 3\n",
    "n_population = 10000\n",
    "population = simulator.Population(n_genes, n_vaccines, n_treatments)\n",
    "np.random.seed(57)\n",
    "X = population.generate(n_population) # Population\n",
    "# embed()\n",
    "treatment_policy = Policy(n_treatments, list(range(n_treatments)))\n",
    "np.random.seed(57)\n",
    "features, actions, outcomes = treatment_policy.initialize_data(n_population)\n",
    "treatment_policy.observe(features, actions, outcomes)\n",
    "# features, actions, outcomes = treatment_policy.get_arguments()\n",
    "\n",
    "A = treatment_policy.get_action(X) # Actions \n",
    "U = population.treat(list(range(n_population)), A) # Outcome"
   ]
  },
  {
   "cell_type": "code",
   "execution_count": 22,
   "metadata": {},
   "outputs": [],
   "source": [
    "thetas = [1, 0.99, 0.95, 0.9, 0.8, 0.7, 0.6, 0.5, 0.4, 0.3, 0.2, 0.1, 0]\n",
    "utility_list = np.zeros(len(thetas) + 1)\n",
    "utility_list[0] = treatment_policy.get_utility(features, A, U)\n",
    "for i in range(len(thetas)):\n",
    "    np.random.seed(57)\n",
    "    A_noise = privatize_actions(A, thetas[i])\n",
    "    U_noise = population.treat(list(range(n_population)), A_noise)\n",
    "    utility_list[i+1] = treatment_policy.get_utility(X, A_noise, U_noise)"
   ]
  },
  {
   "cell_type": "code",
   "execution_count": 23,
   "metadata": {},
   "outputs": [
    {
     "data": {
      "text/plain": [
       "array([2507.15, 1604.15, 1691.4 , 1289.  ,  939.4 ,  989.6 ,  445.65,\n",
       "        501.2 ,  470.45,  106.95,  -99.65,  153.4 ,  -38.35,  532.  ])"
      ]
     },
     "execution_count": 23,
     "metadata": {},
     "output_type": "execute_result"
    }
   ],
   "source": [
    "utility_list"
   ]
  },
  {
   "cell_type": "markdown",
   "metadata": {},
   "source": [
    "So we see that the utility declines with the added noise. Note that there are a large amount of random fluctuation here, but we there is a definitive negative trend anyhow. "
   ]
  },
  {
   "cell_type": "markdown",
   "metadata": {},
   "source": [
    "# Fair Policies"
   ]
  },
  {
   "cell_type": "markdown",
   "metadata": {},
   "source": [
    "### Note:\n",
    "\n",
    "This part is done with the old model. This is because we were unhappy with how complex our new model got, and it generally preferes not to give treatment. Therefore, we will look at the old one to see more clear results. \n"
   ]
  },
  {
   "cell_type": "markdown",
   "metadata": {},
   "source": [
    "We would like to investigate the fairness of our decision-making algorithm. When we are deciding the treatment method for each individual in our population, we want to make sure that the decision is made fairly and we are just to the individuals. The sensitive variables in our data set are `Age`, `Income` and `Gender`. We want ensure that the sensitive variables do not affect the treatment given to the individuals, such that $\\mathbb{P}^{\\pi}_{\\theta}(a|z) = \\mathbb{P}^{\\pi}_{\\theta}(a)$ for all actions $a$ and sensitive variables $z$."
   ]
  },
  {
   "cell_type": "markdown",
   "metadata": {},
   "source": [
    "For example, if we have more men than women in our population, the decision-making algorithm will be adapted to men."
   ]
  },
  {
   "cell_type": "markdown",
   "metadata": {},
   "source": [
    "We will now analyze the population and look at some numbers and graphs. We will start by generating data and preprocessing. We remove the columns corresponding to genes, and we add the action columns which corresponds to the treatment chosen for each individual."
   ]
  },
  {
   "cell_type": "code",
   "execution_count": 24,
   "metadata": {},
   "outputs": [],
   "source": [
    "# Import packages\n",
    "import numpy as np\n",
    "import pandas as pd\n",
    "import seaborn as sns\n",
    "import matplotlib.pyplot as plt\n",
    "\n",
    "import simulator\n",
    "from policy import Policy, add_feature_names, add_action_names, add_outcome_names"
   ]
  },
  {
   "cell_type": "code",
   "execution_count": 25,
   "metadata": {},
   "outputs": [
    {
     "name": "stdout",
     "output_type": "stream",
     "text": [
      "Initialising policy with  3 actions\n",
      "A = { [0, 1, 2] }\n"
     ]
    }
   ],
   "source": [
    "# Generate data\n",
    "np.random.seed(57)\n",
    "n_genes = 128\n",
    "n_vaccines = 3\n",
    "n_treatments = 3\n",
    "n_population = 10000\n",
    "population = simulator.Population(n_genes, n_vaccines, n_treatments)\n",
    "treatment_policy = Policy(n_treatments, list(range(n_treatments)))\n",
    "X = population.generate(n_population)\n",
    "X = add_feature_names(X)"
   ]
  },
  {
   "cell_type": "code",
   "execution_count": 26,
   "metadata": {},
   "outputs": [],
   "source": [
    "# Remove genes\n",
    "temp1 = X.iloc[:, :13] \n",
    "temp2 = X.iloc[:, -9:]\n",
    "features = temp1.join(temp2)"
   ]
  },
  {
   "cell_type": "code",
   "execution_count": 27,
   "metadata": {},
   "outputs": [
    {
     "name": "stdout",
     "output_type": "stream",
     "text": [
      "Initialising policy with  3 actions\n",
      "A = { [0, 1, 2] }\n"
     ]
    }
   ],
   "source": [
    "# Get actions\n",
    "np.random.seed(57)\n",
    "A = treatment_policy.get_action(X)\n",
    "features = pd.DataFrame(X)\n",
    "actions = pd.DataFrame(A)\n",
    "actions.columns = [\"Treatment1\", \"Treatment2\", \"Treatment3\"]\n",
    "features = features.join(actions)\n",
    "\n",
    "# Create a single Treatment column for easier data visualizing \n",
    "features.loc[features.Treatment1 == 1.0, \"Treatment\"] = \"1\"\n",
    "features.loc[features.Treatment2 == 1.0, \"Treatment\"] = \"2\"\n",
    "features.loc[features.Treatment3 == 1.0, \"Treatment\"] = \"3\""
   ]
  },
  {
   "cell_type": "markdown",
   "metadata": {},
   "source": [
    "## Gender"
   ]
  },
  {
   "cell_type": "markdown",
   "metadata": {},
   "source": [
    "We will first investigate `Gender`. We assume that `Gender` is `0.0` for men and `1.0` for women."
   ]
  },
  {
   "cell_type": "code",
   "execution_count": 28,
   "metadata": {},
   "outputs": [],
   "source": [
    "# Gender\n",
    "women_nr = features[features.Gender == 1.0].shape[0]\n",
    "men_nr = features[features.Gender == 0.0].shape[0]\n",
    "g1 = features.groupby(by=\"Gender\")[\"Treatment1\"].value_counts(normalize=True)\n",
    "g2 = features.groupby(by=\"Gender\")[\"Treatment2\"].value_counts(normalize=True)\n",
    "g3 = features.groupby(by=\"Gender\")[\"Treatment3\"].value_counts(normalize=True)"
   ]
  },
  {
   "cell_type": "code",
   "execution_count": 29,
   "metadata": {},
   "outputs": [
    {
     "data": {
      "text/plain": [
       "(Gender  Treatment1\n",
       " 0.0     0.0           0.842327\n",
       "         1.0           0.157673\n",
       " 1.0     0.0           0.707278\n",
       "         1.0           0.292722\n",
       " Name: Treatment1, dtype: float64, Gender  Treatment2\n",
       " 0.0     0.0           0.671013\n",
       "         1.0           0.328987\n",
       " 1.0     0.0           0.706481\n",
       "         1.0           0.293519\n",
       " Name: Treatment2, dtype: float64, Gender  Treatment3\n",
       " 0.0     1.0           0.513340\n",
       "         0.0           0.486660\n",
       " 1.0     0.0           0.586241\n",
       "         1.0           0.413759\n",
       " Name: Treatment3, dtype: float64)"
      ]
     },
     "execution_count": 29,
     "metadata": {},
     "output_type": "execute_result"
    }
   ],
   "source": [
    "g1, g2, g3 # Vet ikke om det er nødvendig"
   ]
  },
  {
   "cell_type": "code",
   "execution_count": 30,
   "metadata": {},
   "outputs": [
    {
     "name": "stdout",
     "output_type": "stream",
     "text": [
      "Number of women: 5015\n",
      "Number of men: 4985\n"
     ]
    }
   ],
   "source": [
    "print(f\"Number of women: {women_nr}\")\n",
    "print(f\"Number of men: {men_nr}\")"
   ]
  },
  {
   "cell_type": "markdown",
   "metadata": {},
   "source": [
    "We almost have equal amount of men and women in our population. We now check which treatment each gender has gotten:"
   ]
  },
  {
   "cell_type": "code",
   "execution_count": 31,
   "metadata": {},
   "outputs": [
    {
     "data": {
      "image/png": "[encoded data removed]",
      "text/plain": [
       "<Figure size 432x288 with 1 Axes>"
      ]
     },
     "metadata": {},
     "output_type": "display_data"
    }
   ],
   "source": [
    "sns.set_theme()\n",
    "sns.histplot(data = features.sort_values(by=\"Treatment\"), x = \"Treatment\", hue = \"Gender\", multiple=\"dodge\", shrink=.8)\n",
    "plt.title(\"Treatment type vs. Gender\")\n",
    "plt.show()"
   ]
  },
  {
   "cell_type": "markdown",
   "metadata": {},
   "source": [
    "We observe that there are more men who received Treatment 3 than woman, and there are more women who received Treatment 1 than men. The different treatments are not equally distributed amongst genders. If we have a policy that is unfair to one of the genders, then the policy might have decided to give the worse treatment to individuals of the gender that we treat unfairly, i.e giving women the less effective treatment. If our policy is fair, then the treatments are given to each genders truly based on what is the best for them. "
   ]
  },
  {
   "cell_type": "markdown",
   "metadata": {},
   "source": [
    "## Income"
   ]
  },
  {
   "cell_type": "markdown",
   "metadata": {},
   "source": [
    "We categorize the individuals by their income. We now have two income categories: low and high income. Every individual with an income less than the median income for the entire population are categorized as `Low income`, and every individual with an income greater than the median income is categorized as `High income`. We would like to see which treatment is frequently given to individuals with low and high income."
   ]
  },
  {
   "cell_type": "code",
   "execution_count": 32,
   "metadata": {},
   "outputs": [],
   "source": [
    "# Income\n",
    "median = features.Income.median()\n",
    "features.loc[features.Income.values < median, \"Income category\"] = \"Low income\"\n",
    "features.loc[features.Income.values >= median, \"Income category\"] = \"High income\"\n",
    "\n",
    "i1 = features.groupby(by=\"Income category\")[\"Treatment1\"].value_counts(normalize=True)\n",
    "i2 = features.groupby(by=\"Income category\")[\"Treatment2\"].value_counts(normalize=True)\n",
    "i3 = features.groupby(by=\"Income category\")[\"Treatment3\"].value_counts(normalize=True)"
   ]
  },
  {
   "cell_type": "code",
   "execution_count": 33,
   "metadata": {},
   "outputs": [
    {
     "data": {
      "text/plain": [
       "(Income category  Treatment1\n",
       " High income      0.0           0.8464\n",
       "                  1.0           0.1536\n",
       " Low income       0.0           0.7028\n",
       "                  1.0           0.2972\n",
       " Name: Treatment1, dtype: float64, Income category  Treatment2\n",
       " High income      0.0           0.6886\n",
       "                  1.0           0.3114\n",
       " Low income       0.0           0.6890\n",
       "                  1.0           0.3110\n",
       " Name: Treatment2, dtype: float64, Income category  Treatment3\n",
       " High income      1.0           0.5350\n",
       "                  0.0           0.4650\n",
       " Low income       0.0           0.6082\n",
       "                  1.0           0.3918\n",
       " Name: Treatment3, dtype: float64)"
      ]
     },
     "execution_count": 33,
     "metadata": {},
     "output_type": "execute_result"
    }
   ],
   "source": [
    "i1, i2, i3 # Vet ikke om det er nødvendig"
   ]
  },
  {
   "cell_type": "code",
   "execution_count": 34,
   "metadata": {},
   "outputs": [
    {
     "data": {
      "image/png": "[encoded data removed]",
      "text/plain": [
       "<Figure size 432x288 with 1 Axes>"
      ]
     },
     "metadata": {},
     "output_type": "display_data"
    }
   ],
   "source": [
    "#sns.set_theme()\n",
    "sns.histplot(data = features.sort_values(by=\"Treatment\"), x = \"Treatment\", hue = \"Income category\", multiple=\"dodge\", shrink=.8)\n",
    "plt.title(\"Treatment type vs. Income\")\n",
    "plt.show()"
   ]
  },
  {
   "cell_type": "markdown",
   "metadata": {},
   "source": [
    "While the Treatment 2 is given to same amount of individuals with low and high income, we also observe that the number of people with low income who received Treatment 3 is greater than the number of people with high income who receive the same treatment. We also see that many people with high income has received Treatment 1. The different treatments are not distributed evenly amongst the two groups."
   ]
  },
  {
   "cell_type": "markdown",
   "metadata": {},
   "source": [
    "## Age"
   ]
  },
  {
   "cell_type": "markdown",
   "metadata": {},
   "source": [
    "We categorize the individuals by their age. We first tried to create five uniformly spaced age categories. However, this did not work very well, since the column `Age` has Gamma distribution and we have more young people than old people."
   ]
  },
  {
   "cell_type": "code",
   "execution_count": 35,
   "metadata": {},
   "outputs": [
    {
     "data": {
      "image/png": "[encoded data removed]",
      "text/plain": [
       "<Figure size 432x288 with 1 Axes>"
      ]
     },
     "metadata": {},
     "output_type": "display_data"
    }
   ],
   "source": [
    "# Plot showing the age frequencies\n",
    "sns.histplot(data = features, x = \"Age\")\n",
    "plt.show()"
   ]
  },
  {
   "cell_type": "code",
   "execution_count": 36,
   "metadata": {},
   "outputs": [],
   "source": [
    "age_limits = np.linspace(features.Age.min(), features.Age.max(), 6, dtype=int)\n",
    "age_category = pd.DataFrame(pd.cut(features.Age, bins=age_limits,\n",
    "                                   labels=[\"Age<24\",\"24<=Age<47\", \"47<=Age<71\", \"71<=Age<94\", \"Age>94\"],\n",
    "                                   include_lowest=True, ordered=True))\n",
    "\n",
    "age_category.columns = [\"age_category\"]\n",
    "features = features.join(age_category)"
   ]
  },
  {
   "cell_type": "code",
   "execution_count": 37,
   "metadata": {},
   "outputs": [
    {
     "data": {
      "image/png": "[encoded data removed]",
      "text/plain": [
       "<Figure size 432x288 with 1 Axes>"
      ]
     },
     "metadata": {},
     "output_type": "display_data"
    }
   ],
   "source": [
    "# Plot showing the age frequencies with 5 age categories\n",
    "sns.histplot(data = features.sort_values(by=\"Treatment\"), x = \"Treatment\", hue = \"age_category\", multiple=\"dodge\", shrink=0.8)\n",
    "plt.show()"
   ]
  },
  {
   "cell_type": "markdown",
   "metadata": {},
   "source": [
    "We then decided to have two age categories: young and old. Every individual with an age smaller than the median age for the entire population are categorized as `Young`, and every individual with an age bigger than the median age is categorized as `Old`. We would like to see which treatment is frequently given to young and old individuals."
   ]
  },
  {
   "cell_type": "code",
   "execution_count": 38,
   "metadata": {},
   "outputs": [],
   "source": [
    "features.drop(\"age_category\", axis=1, inplace=True)\n",
    "median_age = features.Age.median()\n",
    "features.loc[features.Age.values < median_age, \"age_category\"] = \"Young\"\n",
    "features.loc[features.Age.values >= median_age, \"age_category\"] = \"Old\""
   ]
  },
  {
   "cell_type": "code",
   "execution_count": 39,
   "metadata": {},
   "outputs": [
    {
     "data": {
      "image/png": "[encoded data removed]",
      "text/plain": [
       "<Figure size 432x288 with 1 Axes>"
      ]
     },
     "metadata": {},
     "output_type": "display_data"
    }
   ],
   "source": [
    "sns.histplot(data = features.sort_values(by=\"Treatment\"), x = \"Treatment\", hue = \"age_category\", multiple=\"dodge\", shrink=0.8)\n",
    "plt.title(\"Treatment type vs. Age\")\n",
    "plt.show()"
   ]
  },
  {
   "cell_type": "markdown",
   "metadata": {},
   "source": [
    "We observe that if the individual is young, they are often treated with Treatment 3. If the policy gives Treatment 3 to younger individuals simply because it is a better treatment method and we prioritize healing the young, then this is very unfair to the older individuals. However, if Treatment 3 is known to work better for young people and the other treatments work better for older people, then the policy is considered quite fair."
   ]
  },
  {
   "cell_type": "markdown",
   "metadata": {},
   "source": [
    "## Note: \n",
    "\n",
    "We have not yet quantified the fairness and balanced our policy. Our plan is to use the equality score from Dirk's 9th lecture, and then do a simple grid search on the balancing. Is it alright to use this simple way of balancing, instead of using neural networks and gradiant decent?"
   ]
  },
  {
   "cell_type": "code",
   "execution_count": null,
   "metadata": {},
   "outputs": [],
   "source": []
  },
  {
   "cell_type": "code",
   "execution_count": null,
   "metadata": {},
   "outputs": [],
   "source": []
  }
 ],
 "metadata": {
  "kernelspec": {
   "display_name": "Python 3",
   "language": "python",
   "name": "python3"
  },
  "language_info": {
   "codemirror_mode": {
    "name": "ipython",
    "version": 3
   },
   "file_extension": ".py",
   "mimetype": "text/x-python",
   "name": "python",
   "nbconvert_exporter": "python",
   "pygments_lexer": "ipython3",
   "version": "3.7.1"
  }
 },
 "nbformat": 4,
 "nbformat_minor": 2
}
