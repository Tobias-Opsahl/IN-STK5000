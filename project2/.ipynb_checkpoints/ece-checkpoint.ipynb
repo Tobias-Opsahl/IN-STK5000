{
 "cells": [
  {
   "cell_type": "markdown",
   "metadata": {},
   "source": [
    "# Fair Policies"
   ]
  },
  {
   "cell_type": "markdown",
   "metadata": {},
   "source": [
    "We would like to investigate the fairness of our decision-making algorithm. When we are deciding the treatment method for each individual in our population, we want to make sure that the decision is made fairly and we are just to the individuals. The sensitive variables in our data set are `Age`, `Income` and `Gender`. We want ensure that the sensitive variables do not affect the treatment given to the individuals, such that $\\mathbb{P}^{\\pi}_{\\theta}(a|z) = \\mathbb{P}^{\\pi}_{\\theta}(a)$ for all actions $a$ and sensitive variables $z$."
   ]
  },
  {
   "cell_type": "markdown",
   "metadata": {},
   "source": [
    "For example, if we have more men than women in our population, the decision-making algorithm will be adapted to men."
   ]
  },
  {
   "cell_type": "markdown",
   "metadata": {},
   "source": [
    "We will now analyze the population and look at some numbers and graphs. We will start by generating data and preprocessing. We remove the columns corresponding to genes, and we add the action columns which corresponds to the treatment chosen for each individual."
   ]
  },
  {
   "cell_type": "code",
   "execution_count": 16,
   "metadata": {},
   "outputs": [],
   "source": [
    "# Import packages\n",
    "import numpy as np\n",
    "import pandas as pd\n",
    "import seaborn as sns\n",
    "import matplotlib.pyplot as plt\n",
    "from sklego.preprocessing import InformationFilter\n",
    "\n",
    "import simulator\n",
    "from policy import Policy, add_feature_names, add_action_names, add_outcome_names"
   ]
  },
  {
   "cell_type": "code",
   "execution_count": 17,
   "metadata": {},
   "outputs": [
    {
     "name": "stdout",
     "output_type": "stream",
     "text": [
      "Initialising policy with  3 actions\n",
      "A = { [0, 1, 2] }\n"
     ]
    },
    {
     "name": "stderr",
     "output_type": "stream",
     "text": [
      "<__array_function__ internals>:5: VisibleDeprecationWarning: Creating an ndarray from ragged nested sequences (which is a list-or-tuple of lists-or-tuples-or ndarrays with different lengths or shapes) is deprecated. If you meant to do this, you must specify 'dtype=object' when creating the ndarray\n"
     ]
    }
   ],
   "source": [
    "# Generate data\n",
    "np.random.seed(57)\n",
    "n_genes = 128\n",
    "n_vaccines = 3\n",
    "n_treatments = 3\n",
    "n_population = 10000\n",
    "population = simulator.Population(n_genes, n_vaccines, n_treatments)\n",
    "treatment_policy = Policy(n_treatments, list(range(n_treatments)))\n",
    "X = population.generate(n_population)\n",
    "X = add_feature_names(X)"
   ]
  },
  {
   "cell_type": "code",
   "execution_count": 18,
   "metadata": {},
   "outputs": [],
   "source": [
    "# Remove genes\n",
    "temp1 = X.iloc[:, :13] \n",
    "temp2 = X.iloc[:, -9:]\n",
    "features = temp1.join(temp2)"
   ]
  },
  {
   "cell_type": "code",
   "execution_count": 38,
   "metadata": {},
   "outputs": [
    {
     "name": "stdout",
     "output_type": "stream",
     "text": [
      "Initialising policy with  3 actions\n",
      "A = { [0, 1, 2] }\n"
     ]
    },
    {
     "name": "stderr",
     "output_type": "stream",
     "text": [
      "<__array_function__ internals>:5: VisibleDeprecationWarning: Creating an ndarray from ragged nested sequences (which is a list-or-tuple of lists-or-tuples-or ndarrays with different lengths or shapes) is deprecated. If you meant to do this, you must specify 'dtype=object' when creating the ndarray\n"
     ]
    }
   ],
   "source": [
    "# Get actions\n",
    "np.random.seed(57)\n",
    "A = treatment_policy.get_action(X)\n",
    "features = pd.DataFrame(X)\n",
    "actions = pd.DataFrame(A)\n",
    "actions.columns = [\"Treatment1\", \"Treatment2\", \"Treatment3\"]\n",
    "features = features.join(actions)\n",
    "\n",
    "# Create a single Treatment column for easier data visualizing \n",
    "features.loc[features.Treatment1 == 1.0, \"Treatment\"] = \"1\"\n",
    "features.loc[features.Treatment2 == 1.0, \"Treatment\"] = \"2\"\n",
    "features.loc[features.Treatment3 == 1.0, \"Treatment\"] = \"3\""
   ]
  },
  {
   "cell_type": "markdown",
   "metadata": {},
   "source": [
    "## Gender"
   ]
  },
  {
   "cell_type": "markdown",
   "metadata": {},
   "source": [
    "We will first investigate `Gender`. We assume that `Gender` is `0.0` for men and `1.0` for women."
   ]
  },
  {
   "cell_type": "code",
   "execution_count": 31,
   "metadata": {},
   "outputs": [],
   "source": [
    "# Gender\n",
    "women_nr = features[features.Gender == 1.0].shape[0]\n",
    "men_nr = features[features.Gender == 0.0].shape[0]\n",
    "g1 = features.groupby(by=\"Gender\")[\"Treatment1\"].value_counts(normalize=True)\n",
    "g2 = features.groupby(by=\"Gender\")[\"Treatment2\"].value_counts(normalize=True)\n",
    "g3 = features.groupby(by=\"Gender\")[\"Treatment3\"].value_counts(normalize=True)"
   ]
  },
  {
   "cell_type": "code",
   "execution_count": 36,
   "metadata": {},
   "outputs": [
    {
     "data": {
      "text/plain": [
       "(Gender  Treatment1\n",
       " 0.0     0.0           0.842327\n",
       "         1.0           0.157673\n",
       " 1.0     0.0           0.707278\n",
       "         1.0           0.292722\n",
       " Name: Treatment1, dtype: float64,\n",
       " Gender  Treatment2\n",
       " 0.0     0.0           0.671013\n",
       "         1.0           0.328987\n",
       " 1.0     0.0           0.706481\n",
       "         1.0           0.293519\n",
       " Name: Treatment2, dtype: float64,\n",
       " Gender  Treatment3\n",
       " 0.0     1.0           0.513340\n",
       "         0.0           0.486660\n",
       " 1.0     0.0           0.586241\n",
       "         1.0           0.413759\n",
       " Name: Treatment3, dtype: float64)"
      ]
     },
     "execution_count": 36,
     "metadata": {},
     "output_type": "execute_result"
    }
   ],
   "source": [
    "g1, g2, g3 # Vet ikke om det er nødvendig"
   ]
  },
  {
   "cell_type": "code",
   "execution_count": 37,
   "metadata": {},
   "outputs": [
    {
     "name": "stdout",
     "output_type": "stream",
     "text": [
      "Number of women: 5015\n",
      "Number of men: 4985\n"
     ]
    }
   ],
   "source": [
    "print(f\"Number of women: {women_nr}\")\n",
    "print(f\"Number of men: {men_nr}\")"
   ]
  },
  {
   "cell_type": "markdown",
   "metadata": {},
   "source": [
    "We almost have equal amount of men and women in our population. We now check which treatment each gender has gotten:"
   ]
  },
  {
   "cell_type": "code",
   "execution_count": 44,
   "metadata": {},
   "outputs": [
    {
     "data": {
      "image/png": "[encoded data removed]",
      "text/plain": [
       "<Figure size 432x288 with 1 Axes>"
      ]
     },
     "metadata": {},
     "output_type": "display_data"
    }
   ],
   "source": [
    "sns.set_theme()\n",
    "sns.histplot(data = features.sort_values(by=\"Treatment\"), x = \"Treatment\", hue = \"Gender\", multiple=\"dodge\", shrink=.8)\n",
    "plt.title(\"Treatment type vs. Gender\")\n",
    "plt.show()"
   ]
  },
  {
   "cell_type": "markdown",
   "metadata": {},
   "source": [
    "We observe that there are more men who received Treatment 3 than woman, and there are more women who received Treatment 1 than men. The different treatments are not equally distributed amongst genders. If we have a policy that is unfair to one of the genders, then the policy might have decided to give the worse treatment to individuals of the gender that we treat unfairly, i.e giving women the less effective treatment. If our policy is fair, then the treatments are given to each genders truly based on what is the best for them. "
   ]
  },
  {
   "cell_type": "markdown",
   "metadata": {},
   "source": [
    "## Income"
   ]
  },
  {
   "cell_type": "markdown",
   "metadata": {},
   "source": [
    "We categorize the individuals by their income. We now have two income categories: low and high income. Every individual with an income less than the median income for the entire population are categorized as `Low income`, and every individual with an income greater than the median income is categorized as `High income`. We would like to see which treatment is frequently given to individuals with low and high income."
   ]
  },
  {
   "cell_type": "code",
   "execution_count": 50,
   "metadata": {},
   "outputs": [],
   "source": [
    "# Income\n",
    "median = features.Income.median()\n",
    "features.loc[features.Income.values < median, \"Income category\"] = \"Low income\"\n",
    "features.loc[features.Income.values >= median, \"Income category\"] = \"High income\"\n",
    "\n",
    "i1 = features.groupby(by=\"Income category\")[\"Treatment1\"].value_counts(normalize=True)\n",
    "i2 = features.groupby(by=\"Income category\")[\"Treatment2\"].value_counts(normalize=True)\n",
    "i3 = features.groupby(by=\"Income category\")[\"Treatment3\"].value_counts(normalize=True)"
   ]
  },
  {
   "cell_type": "code",
   "execution_count": 51,
   "metadata": {},
   "outputs": [
    {
     "data": {
      "text/plain": [
       "(Income category  Treatment1\n",
       " High income      0.0           0.8464\n",
       "                  1.0           0.1536\n",
       " Low income       0.0           0.7028\n",
       "                  1.0           0.2972\n",
       " Name: Treatment1, dtype: float64,\n",
       " Income category  Treatment2\n",
       " High income      0.0           0.6886\n",
       "                  1.0           0.3114\n",
       " Low income       0.0           0.6890\n",
       "                  1.0           0.3110\n",
       " Name: Treatment2, dtype: float64,\n",
       " Income category  Treatment3\n",
       " High income      1.0           0.5350\n",
       "                  0.0           0.4650\n",
       " Low income       0.0           0.6082\n",
       "                  1.0           0.3918\n",
       " Name: Treatment3, dtype: float64)"
      ]
     },
     "execution_count": 51,
     "metadata": {},
     "output_type": "execute_result"
    }
   ],
   "source": [
    "i1, i2, i3 # Vet ikke om det er nødvendig"
   ]
  },
  {
   "cell_type": "code",
   "execution_count": 52,
   "metadata": {},
   "outputs": [
    {
     "data": {
      "image/png": "[encoded data removed]",
      "text/plain": [
       "<Figure size 432x288 with 1 Axes>"
      ]
     },
     "metadata": {},
     "output_type": "display_data"
    }
   ],
   "source": [
    "sns.set_theme()\n",
    "sns.histplot(data = features.sort_values(by=\"Treatment\"), x = \"Treatment\", hue = \"Income category\", multiple=\"dodge\", shrink=.8)\n",
    "plt.title(\"Treatment type vs. Income\")\n",
    "plt.show()"
   ]
  },
  {
   "cell_type": "markdown",
   "metadata": {},
   "source": [
    "While the Treatment 2 is given to same amount of individuals with low and high income, we also observe that the number of people with low income who received Treatment 3 is greater than the number of people with high income who receive the same treatment. We also see that many people with high income has received Treatment 1. The different treatments are not distributed evenly amongst the two groups."
   ]
  },
  {
   "cell_type": "markdown",
   "metadata": {},
   "source": [
    "## Age"
   ]
  },
  {
   "cell_type": "markdown",
   "metadata": {},
   "source": [
    "We categorize the individuals by their age. We first tried to create five uniformly spaced age categories. However, this did not work very well, since the column `Age` has Gamma distribution and we have more young people than old people."
   ]
  },
  {
   "cell_type": "code",
   "execution_count": 26,
   "metadata": {},
   "outputs": [
    {
     "data": {
      "image/png": "[encoded data removed]",
      "text/plain": [
       "<Figure size 432x288 with 1 Axes>"
      ]
     },
     "metadata": {},
     "output_type": "display_data"
    }
   ],
   "source": [
    "# Plot showing the age frequencies\n",
    "sns.histplot(data = features, x = \"Age\")\n",
    "plt.show()"
   ]
  },
  {
   "cell_type": "code",
   "execution_count": 40,
   "metadata": {},
   "outputs": [],
   "source": [
    "age_limits = np.linspace(features.Age.min(), features.Age.max(), 6, dtype=int)\n",
    "age_category = pd.DataFrame(pd.cut(features.Age, bins=age_limits,\n",
    "                                   labels=[\"Age<24\",\"24<=Age<47\", \"47<=Age<71\", \"71<=Age<94\", \"Age>94\"],\n",
    "                                   include_lowest=True, ordered=True))\n",
    "\n",
    "age_category.columns = [\"age_category\"]\n",
    "features = features.join(age_category)"
   ]
  },
  {
   "cell_type": "code",
   "execution_count": 41,
   "metadata": {},
   "outputs": [
    {
     "data": {
      "image/png": "[encoded data removed]",
      "text/plain": [
       "<Figure size 432x288 with 1 Axes>"
      ]
     },
     "metadata": {},
     "output_type": "display_data"
    }
   ],
   "source": [
    "# Plot showing the age frequencies with 5 age categories\n",
    "sns.histplot(data = features.sort_values(by=\"Treatment\"), x = \"Treatment\", hue = \"age_category\", multiple=\"dodge\", shrink=0.8)\n",
    "plt.show()"
   ]
  },
  {
   "cell_type": "markdown",
   "metadata": {},
   "source": [
    "We then decided to have two age categories: young and old. Every individual with an age smaller than the median age for the entire population are categorized as `Young`, and every individual with an age bigger than the median age is categorized as `Old`. We would like to see which treatment is frequently given to young and old individuals."
   ]
  },
  {
   "cell_type": "code",
   "execution_count": 53,
   "metadata": {},
   "outputs": [],
   "source": [
    "features.drop(\"age_category\", axis=1, inplace=True)\n",
    "median_age = features.Age.median()\n",
    "features.loc[features.Age.values < median_age, \"age_category\"] = \"Young\"\n",
    "features.loc[features.Age.values >= median_age, \"age_category\"] = \"Old\""
   ]
  },
  {
   "cell_type": "code",
   "execution_count": 54,
   "metadata": {},
   "outputs": [
    {
     "data": {
      "image/png": "[encoded data removed]",
      "text/plain": [
       "<Figure size 432x288 with 1 Axes>"
      ]
     },
     "metadata": {},
     "output_type": "display_data"
    }
   ],
   "source": [
    "sns.histplot(data = features.sort_values(by=\"Treatment\"), x = \"Treatment\", hue = \"age_category\", multiple=\"dodge\", shrink=0.8)\n",
    "plt.title(\"Treatment type vs. Age\")\n",
    "plt.show()"
   ]
  },
  {
   "cell_type": "markdown",
   "metadata": {},
   "source": [
    "We observe that if the individual is young, they are often treated with Treatment 3. If the policy gives Treatment 3 to younger individuals simply because it is a better treatment method and we prioritize healing the young, then this is very unfair to the older individuals. However, if Treatment 3 is known to work better for young people and the other treatments work better for older people, then the policy is considered quite fair."
   ]
  },
  {
   "cell_type": "code",
   "execution_count": null,
   "metadata": {},
   "outputs": [],
   "source": []
  },
  {
   "cell_type": "code",
   "execution_count": null,
   "metadata": {},
   "outputs": [],
   "source": []
  }
 ],
 "metadata": {
  "kernelspec": {
   "display_name": "Python 3",
   "language": "python",
   "name": "python3"
  },
  "language_info": {
   "codemirror_mode": {
    "name": "ipython",
    "version": 3
   },
   "file_extension": ".py",
   "mimetype": "text/x-python",
   "name": "python",
   "nbconvert_exporter": "python",
   "pygments_lexer": "ipython3",
   "version": "3.7.1"
  }
 },
 "nbformat": 4,
 "nbformat_minor": 4
}
